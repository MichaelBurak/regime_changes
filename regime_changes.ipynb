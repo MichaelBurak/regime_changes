{
 "cells": [
  {
   "cell_type": "markdown",
   "metadata": {
    "toc": true
   },
   "source": [
    "<h1>Table of Contents<span class=\"tocSkip\"></span></h1>\n",
    "<div class=\"toc\"><ul class=\"toc-item\"><li><span><a href=\"#Survival-Analysis-of-Adverse-Regime-Changes:\" data-toc-modified-id=\"Survival-Analysis-of-Adverse-Regime-Changes:-1\"><span class=\"toc-item-num\">1&nbsp;&nbsp;</span>Survival Analysis of Adverse Regime Changes:</a></span></li><li><span><a href=\"#Imports-and-reading-in-data\" data-toc-modified-id=\"Imports-and-reading-in-data-2\"><span class=\"toc-item-num\">2&nbsp;&nbsp;</span>Imports and reading in data</a></span></li><li><span><a href=\"#EDA-and-Preprocessing\" data-toc-modified-id=\"EDA-and-Preprocessing-3\"><span class=\"toc-item-num\">3&nbsp;&nbsp;</span>EDA and Preprocessing</a></span><ul class=\"toc-item\"><li><span><a href=\"#Notes:\" data-toc-modified-id=\"Notes:-3.1\"><span class=\"toc-item-num\">3.1&nbsp;&nbsp;</span>Notes:</a></span><ul class=\"toc-item\"><li><span><a href=\"#Columns-to-drop:\" data-toc-modified-id=\"Columns-to-drop:-3.1.1\"><span class=\"toc-item-num\">3.1.1&nbsp;&nbsp;</span>Columns to drop:</a></span></li><li><span><a href=\"#Columns-to-engineer:\" data-toc-modified-id=\"Columns-to-engineer:-3.1.2\"><span class=\"toc-item-num\">3.1.2&nbsp;&nbsp;</span>Columns to engineer:</a></span></li></ul></li><li><span><a href=\"#86-Unique-Countries-in-dataset\" data-toc-modified-id=\"86-Unique-Countries-in-dataset-3.2\"><span class=\"toc-item-num\">3.2&nbsp;&nbsp;</span>86 Unique Countries in dataset</a></span></li><li><span><a href=\"#92-Regime-Change-Years-after-2000-because-I-only-have-access-to-stock-data-back-to-2000\" data-toc-modified-id=\"92-Regime-Change-Years-after-2000-because-I-only-have-access-to-stock-data-back-to-2000-3.3\"><span class=\"toc-item-num\">3.3&nbsp;&nbsp;</span>92 Regime Change Years after 2000 because I only have access to stock data back to 2000</a></span></li><li><span><a href=\"#Looking-at-discrete-events-2000-on:-30-different-events-in-26-countries-over-92-cumulative-years\" data-toc-modified-id=\"Looking-at-discrete-events-2000-on:-30-different-events-in-26-countries-over-92-cumulative-years-3.4\"><span class=\"toc-item-num\">3.4&nbsp;&nbsp;</span>Looking at discrete events 2000 on: 30 different events in 26 countries over 92 cumulative years</a></span></li><li><span><a href=\"#What's-this-spike-around-100?\" data-toc-modified-id=\"What's-this-spike-around-100?-3.5\"><span class=\"toc-item-num\">3.5&nbsp;&nbsp;</span>What's this spike around 100?</a></span></li><li><span><a href=\"#19-years-out-of-92-cumulative-in-the-2000s-were-still-ongoing-on-collection---TBD:-How-to-deal-with-these-years,-coding-of-99-would-skew-analysis\" data-toc-modified-id=\"19-years-out-of-92-cumulative-in-the-2000s-were-still-ongoing-on-collection---TBD:-How-to-deal-with-these-years,-coding-of-99-would-skew-analysis-3.6\"><span class=\"toc-item-num\">3.6&nbsp;&nbsp;</span>19 years out of 92 cumulative in the 2000s were still ongoing on collection - TBD: How to deal with these years, coding of 99 would skew analysis</a></span></li></ul></li><li><span><a href=\"#TBD:-A-thought---maybe-focus-just-on-beginning-and-ending-months-somehow?-How-to-make-this-enough-data?\" data-toc-modified-id=\"TBD:-A-thought---maybe-focus-just-on-beginning-and-ending-months-somehow?-How-to-make-this-enough-data?-4\"><span class=\"toc-item-num\">4&nbsp;&nbsp;</span>TBD: A thought - maybe focus just on beginning and ending months somehow? How to make this enough data?</a></span><ul class=\"toc-item\"><li><span><a href=\"#Dropping-columns:\" data-toc-modified-id=\"Dropping-columns:-4.1\"><span class=\"toc-item-num\">4.1&nbsp;&nbsp;</span>Dropping columns:</a></span></li></ul></li><li><span><a href=\"#Focusing-on-duration---TBD:-Survival-analysis-derived-features-for-events-that-were-short/long-compared-to-the-estimated-time-to-death-event\" data-toc-modified-id=\"Focusing-on-duration---TBD:-Survival-analysis-derived-features-for-events-that-were-short/long-compared-to-the-estimated-time-to-death-event-5\"><span class=\"toc-item-num\">5&nbsp;&nbsp;</span>Focusing on duration - TBD: Survival analysis derived features for events that were short/long compared to the estimated time to death event</a></span><ul class=\"toc-item\"><li><span><a href=\"#Creating-'time_begin'-and-'time_end'-features\" data-toc-modified-id=\"Creating-'time_begin'-and-'time_end'-features-5.1\"><span class=\"toc-item-num\">5.1&nbsp;&nbsp;</span>Creating 'time_begin' and 'time_end' features</a></span></li><li><span><a href=\"#Data-spans-1952-03-01-to-2018-12-01---TBD:-More-EDA\" data-toc-modified-id=\"Data-spans-1952-03-01-to-2018-12-01---TBD:-More-EDA-5.2\"><span class=\"toc-item-num\">5.2&nbsp;&nbsp;</span>Data spans 1952-03-01 to 2018-12-01 - TBD: More EDA</a></span></li><li><span><a href=\"#Making-a-DF-of-just-the-first-country\" data-toc-modified-id=\"Making-a-DF-of-just-the-first-country-5.3\"><span class=\"toc-item-num\">5.3&nbsp;&nbsp;</span>Making a DF of just the first country</a></span><ul class=\"toc-item\"><li><span><a href=\"#Trimming-of-non-numerical-features\" data-toc-modified-id=\"Trimming-of-non-numerical-features-5.3.1\"><span class=\"toc-item-num\">5.3.1&nbsp;&nbsp;</span>Trimming of non-numerical features</a></span></li></ul></li></ul></li><li><span><a href=\"#Stock-Data---Aerospace-and-Defense---focusing-on-one-stock-(LMT)-for-MVP\" data-toc-modified-id=\"Stock-Data---Aerospace-and-Defense---focusing-on-one-stock-(LMT)-for-MVP-6\"><span class=\"toc-item-num\">6&nbsp;&nbsp;</span>Stock Data - Aerospace and Defense - focusing on one stock (LMT) for MVP</a></span><ul class=\"toc-item\"><li><span><a href=\"#TBD:-Comparison-to-overall-market\" data-toc-modified-id=\"TBD:-Comparison-to-overall-market-6.1\"><span class=\"toc-item-num\">6.1&nbsp;&nbsp;</span>TBD: Comparison to overall market</a></span></li></ul></li><li><span><a href=\"#Lockheed-Martin-Data\" data-toc-modified-id=\"Lockheed-Martin-Data-7\"><span class=\"toc-item-num\">7&nbsp;&nbsp;</span>Lockheed Martin Data</a></span><ul class=\"toc-item\"><li><span><a href=\"#Box-and-whisker\" data-toc-modified-id=\"Box-and-whisker-7.1\"><span class=\"toc-item-num\">7.1&nbsp;&nbsp;</span>Box and whisker</a></span></li><li><span><a href=\"#Time-series-heat-map\" data-toc-modified-id=\"Time-series-heat-map-7.2\"><span class=\"toc-item-num\">7.2&nbsp;&nbsp;</span>Time series heat map</a></span></li><li><span><a href=\"#Lag-plot\" data-toc-modified-id=\"Lag-plot-7.3\"><span class=\"toc-item-num\">7.3&nbsp;&nbsp;</span>Lag plot</a></span></li><li><span><a href=\"#PACF-ACF-Plots\" data-toc-modified-id=\"PACF-ACF-Plots-7.4\"><span class=\"toc-item-num\">7.4&nbsp;&nbsp;</span>PACF ACF Plots</a></span></li><li><span><a href=\"#Adding-earliest-date-in-dataframe-to-beginning-of-AFG-time-series\" data-toc-modified-id=\"Adding-earliest-date-in-dataframe-to-beginning-of-AFG-time-series-7.5\"><span class=\"toc-item-num\">7.5&nbsp;&nbsp;</span>Adding earliest date in dataframe to beginning of AFG time series</a></span></li><li><span><a href=\"#--How-would-I-forward-fill-and-backfill-these-values-given-there's-years-and-years-of-no-events-occurring(so-0s-in-MAGFAIL,-MAGCOL,-MAGVIOL,-MAGAVE,-etc.)\" data-toc-modified-id=\"--How-would-I-forward-fill-and-backfill-these-values-given-there's-years-and-years-of-no-events-occurring(so-0s-in-MAGFAIL,-MAGCOL,-MAGVIOL,-MAGAVE,-etc.)-7.6\"><span class=\"toc-item-num\">7.6&nbsp;&nbsp;</span>- How would I forward fill and backfill these values given there's years and years of no events occurring(so 0s in MAGFAIL, MAGCOL, MAGVIOL, MAGAVE, etc.)</a></span></li></ul></li><li><span><a href=\"#A-possible-solution-with-expanded-dataframe--TBD:-Refactor-to-only-include-2000-on,-group-by-SCODE-instead-because-these-names-are-too-long\" data-toc-modified-id=\"A-possible-solution-with-expanded-dataframe--TBD:-Refactor-to-only-include-2000-on,-group-by-SCODE-instead-because-these-names-are-too-long-8\"><span class=\"toc-item-num\">8&nbsp;&nbsp;</span>A possible solution with expanded dataframe- TBD: Refactor to only include 2000 on, group by SCODE instead because these names are too long</a></span><ul class=\"toc-item\"><li><span><a href=\"#Is-the-country-one-hot-encoding-necessary-with-columns-for-each-MAG-on-each-country?\" data-toc-modified-id=\"Is-the-country-one-hot-encoding-necessary-with-columns-for-each-MAG-on-each-country?-8.1\"><span class=\"toc-item-num\">8.1&nbsp;&nbsp;</span>Is the country one hot encoding necessary with columns for each MAG on each country?</a></span></li></ul></li><li><span><a href=\"#Expanded-dataframe-with-values-by-country\" data-toc-modified-id=\"Expanded-dataframe-with-values-by-country-9\"><span class=\"toc-item-num\">9&nbsp;&nbsp;</span>Expanded dataframe with values-by-country</a></span><ul class=\"toc-item\"><li><span><a href=\"#Resampling-to-business-day-frequency-and-forward-filling\" data-toc-modified-id=\"Resampling-to-business-day-frequency-and-forward-filling-9.1\"><span class=\"toc-item-num\">9.1&nbsp;&nbsp;</span>Resampling to business day frequency and forward filling</a></span></li></ul></li><li><span><a href=\"#Feature-Engineering---TBD\" data-toc-modified-id=\"Feature-Engineering---TBD-10\"><span class=\"toc-item-num\">10&nbsp;&nbsp;</span>Feature Engineering - TBD</a></span></li><li><span><a href=\"#Adding-more-data---TBD:-Country/region-data-(region-as-a-one-hot,-population?,-GDP,-oil-production,-military-strength\" data-toc-modified-id=\"Adding-more-data---TBD:-Country/region-data-(region-as-a-one-hot,-population?,-GDP,-oil-production,-military-strength-11\"><span class=\"toc-item-num\">11&nbsp;&nbsp;</span>Adding more data - TBD: Country/region data (region as a one-hot, population?, GDP, oil production, military strength</a></span><ul class=\"toc-item\"><li><span><a href=\"#TBD:-EDA-and-Preprocess,-Feature-Engineering\" data-toc-modified-id=\"TBD:-EDA-and-Preprocess,-Feature-Engineering-11.1\"><span class=\"toc-item-num\">11.1&nbsp;&nbsp;</span>TBD: EDA and Preprocess, Feature Engineering</a></span></li></ul></li><li><span><a href=\"#Merging-stock-and-adverse-regime-change-data\" data-toc-modified-id=\"Merging-stock-and-adverse-regime-change-data-12\"><span class=\"toc-item-num\">12&nbsp;&nbsp;</span>Merging stock and adverse regime change data</a></span></li><li><span><a href=\"#EDA-of-stock-data---Lockheed-Martin\" data-toc-modified-id=\"EDA-of-stock-data---Lockheed-Martin-13\"><span class=\"toc-item-num\">13&nbsp;&nbsp;</span>EDA of stock data - Lockheed Martin</a></span><ul class=\"toc-item\"><li><span><a href=\"#TBD:-Examine-by-time-slices\" data-toc-modified-id=\"TBD:-Examine-by-time-slices-13.1\"><span class=\"toc-item-num\">13.1&nbsp;&nbsp;</span>TBD: Examine by time slices</a></span></li><li><span><a href=\"#TBD:-Smoothing-methods-plots\" data-toc-modified-id=\"TBD:-Smoothing-methods-plots-13.2\"><span class=\"toc-item-num\">13.2&nbsp;&nbsp;</span>TBD: Smoothing methods plots</a></span></li><li><span><a href=\"#TBD:-ACF-and-PACF\" data-toc-modified-id=\"TBD:-ACF-and-PACF-13.3\"><span class=\"toc-item-num\">13.3&nbsp;&nbsp;</span>TBD: ACF and PACF</a></span></li><li><span><a href=\"#Anomaly-plotting\" data-toc-modified-id=\"Anomaly-plotting-13.4\"><span class=\"toc-item-num\">13.4&nbsp;&nbsp;</span>Anomaly plotting</a></span></li></ul></li><li><span><a href=\"#EDA-of-merged-regime-change-variables\" data-toc-modified-id=\"EDA-of-merged-regime-change-variables-14\"><span class=\"toc-item-num\">14&nbsp;&nbsp;</span>EDA of merged regime change variables</a></span></li><li><span><a href=\"#EDA-of-Country/Region-variables\" data-toc-modified-id=\"EDA-of-Country/Region-variables-15\"><span class=\"toc-item-num\">15&nbsp;&nbsp;</span>EDA of Country/Region variables</a></span></li><li><span><a href=\"#Time-Series-Correlations\" data-toc-modified-id=\"Time-Series-Correlations-16\"><span class=\"toc-item-num\">16&nbsp;&nbsp;</span>Time Series Correlations</a></span><ul class=\"toc-item\"><li><span><a href=\"#Visual-spot-check\" data-toc-modified-id=\"Visual-spot-check-16.1\"><span class=\"toc-item-num\">16.1&nbsp;&nbsp;</span>Visual spot check</a></span></li><li><span><a href=\"#Pearson-and-Spearman-Correlation-Comparisons\" data-toc-modified-id=\"Pearson-and-Spearman-Correlation-Comparisons-16.2\"><span class=\"toc-item-num\">16.2&nbsp;&nbsp;</span>Pearson and Spearman Correlation Comparisons</a></span><ul class=\"toc-item\"><li><span><a href=\"#Matrices-and-Maps\" data-toc-modified-id=\"Matrices-and-Maps-16.2.1\"><span class=\"toc-item-num\">16.2.1&nbsp;&nbsp;</span>Matrices and Maps</a></span></li></ul></li></ul></li><li><span><a href=\"#Modeling,-Forecasting-and-comparisons\" data-toc-modified-id=\"Modeling,-Forecasting-and-comparisons-17\"><span class=\"toc-item-num\">17&nbsp;&nbsp;</span>Modeling, Forecasting and comparisons</a></span><ul class=\"toc-item\"><li><span><a href=\"#Off-moving-averages-naively\" data-toc-modified-id=\"Off-moving-averages-naively-17.1\"><span class=\"toc-item-num\">17.1&nbsp;&nbsp;</span>Off moving averages naively</a></span></li><li><span><a href=\"#Dealing-with-stationarity---differencing-and-lagging,-Augmented-Dickey-Fuller\" data-toc-modified-id=\"Dealing-with-stationarity---differencing-and-lagging,-Augmented-Dickey-Fuller-17.2\"><span class=\"toc-item-num\">17.2&nbsp;&nbsp;</span>Dealing with stationarity - differencing and lagging, Augmented Dickey-Fuller</a></span></li><li><span><a href=\"#Granger-Causality\" data-toc-modified-id=\"Granger-Causality-17.3\"><span class=\"toc-item-num\">17.3&nbsp;&nbsp;</span>Granger Causality</a></span></li><li><span><a href=\"#ARIMA-Modeling\" data-toc-modified-id=\"ARIMA-Modeling-17.4\"><span class=\"toc-item-num\">17.4&nbsp;&nbsp;</span>ARIMA Modeling</a></span></li><li><span><a href=\"#VAR,-VARIMA,-VARIMAX(?)\" data-toc-modified-id=\"VAR,-VARIMA,-VARIMAX(?)-17.5\"><span class=\"toc-item-num\">17.5&nbsp;&nbsp;</span>VAR, VARIMA, VARIMAX(?)</a></span></li><li><span><a href=\"#Monte-Carlos\" data-toc-modified-id=\"Monte-Carlos-17.6\"><span class=\"toc-item-num\">17.6&nbsp;&nbsp;</span>Monte Carlos</a></span></li><li><span><a href=\"#Prophet\" data-toc-modified-id=\"Prophet-17.7\"><span class=\"toc-item-num\">17.7&nbsp;&nbsp;</span>Prophet</a></span></li></ul></li><li><span><a href=\"#Framing-as-a-supervised-learning-problem\" data-toc-modified-id=\"Framing-as-a-supervised-learning-problem-18\"><span class=\"toc-item-num\">18&nbsp;&nbsp;</span>Framing as a supervised learning problem</a></span></li><li><span><a href=\"#Finally:-Deep-Learning-with-LSTMs,-Embedding-of-Entities,-Autoencoders-for-Anomaly-Detection,-Markov-Models\" data-toc-modified-id=\"Finally:-Deep-Learning-with-LSTMs,-Embedding-of-Entities,-Autoencoders-for-Anomaly-Detection,-Markov-Models-19\"><span class=\"toc-item-num\">19&nbsp;&nbsp;</span>Finally: Deep Learning with LSTMs, Embedding of Entities, Autoencoders for Anomaly Detection, Markov Models</a></span></li><li><span><a href=\"#Appendix:-Financial-Techniques--Portfolio-Allocation,-etc.\" data-toc-modified-id=\"Appendix:-Financial-Techniques--Portfolio-Allocation,-etc.-20\"><span class=\"toc-item-num\">20&nbsp;&nbsp;</span>Appendix: Financial Techniques- Portfolio Allocation, etc.</a></span></li><li><span><a href=\"#Geographical-plotting-test---just-the-most-turbulent-year\" data-toc-modified-id=\"Geographical-plotting-test---just-the-most-turbulent-year-21\"><span class=\"toc-item-num\">21&nbsp;&nbsp;</span>Geographical plotting test - just the most turbulent year</a></span></li><li><span><a href=\"#Survival-analysis---TO-DO:-By-country/region\" data-toc-modified-id=\"Survival-analysis---TO-DO:-By-country/region-22\"><span class=\"toc-item-num\">22&nbsp;&nbsp;</span>Survival analysis - TO DO: By country/region</a></span><ul class=\"toc-item\"><li><span><a href=\"#First-converting-time_begin-and-time_end-to-accepted-Lifelines-format\" data-toc-modified-id=\"First-converting-time_begin-and-time_end-to-accepted-Lifelines-format-22.1\"><span class=\"toc-item-num\">22.1&nbsp;&nbsp;</span>First converting time_begin and time_end to accepted Lifelines format</a></span></li><li><span><a href=\"#Kaplan-Meier-Fitter\" data-toc-modified-id=\"Kaplan-Meier-Fitter-22.2\"><span class=\"toc-item-num\">22.2&nbsp;&nbsp;</span>Kaplan Meier Fitter</a></span><ul class=\"toc-item\"><li><span><a href=\"#Plotting-results-in-months\" data-toc-modified-id=\"Plotting-results-in-months-22.2.1\"><span class=\"toc-item-num\">22.2.1&nbsp;&nbsp;</span>Plotting results in months</a></span></li></ul></li><li><span><a href=\"#NelsonAalenFitter-for-cumulative-hazard-function\" data-toc-modified-id=\"NelsonAalenFitter-for-cumulative-hazard-function-22.3\"><span class=\"toc-item-num\">22.3&nbsp;&nbsp;</span>NelsonAalenFitter for cumulative hazard function</a></span></li></ul></li><li><span><a href=\"#TO-DO:-implementing-right/left-censorship-of-birth/death-events-via.-groupby-country-and-time-resampling\" data-toc-modified-id=\"TO-DO:-implementing-right/left-censorship-of-birth/death-events-via.-groupby-country-and-time-resampling-23\"><span class=\"toc-item-num\">23&nbsp;&nbsp;</span>TO DO: implementing right/left censorship of birth/death events via. groupby country and time resampling</a></span></li><li><span><a href=\"#Geographic-plotting\" data-toc-modified-id=\"Geographic-plotting-24\"><span class=\"toc-item-num\">24&nbsp;&nbsp;</span>Geographic plotting</a></span></li></ul></div>"
   ]
  },
  {
   "cell_type": "markdown",
   "metadata": {},
   "source": [
    "# Survival Analysis of Adverse Regime Changes: \n",
    "- Dataset available at: http://www.systemicpeace.org/inscrdata.html\n",
    "- Utilizing the fantastic Lifelines package for Survival Analysis and adapting examples from https://lifelines.readthedocs.io/en/latest/index.html\n",
    "- Beginning EDA and survival analysis towards a study of regime changes' effects on the global market"
   ]
  },
  {
   "cell_type": "markdown",
   "metadata": {},
   "source": [
    "# Imports and reading in data"
   ]
  },
  {
   "cell_type": "code",
   "execution_count": 1,
   "metadata": {
    "ExecuteTime": {
     "end_time": "2020-07-13T16:29:39.781521Z",
     "start_time": "2020-07-13T16:29:37.479183Z"
    }
   },
   "outputs": [],
   "source": [
    "import matplotlib.pyplot as plt \n",
    "import seaborn as sns\n",
    "import numpy as np \n",
    "import pandas as pd\n",
    "from statsmodels.tsa.stattools import ccovf,ccf,periodogram\n",
    "from statsmodels.tsa.stattools import adfuller,kpss,coint,bds,q_stat,grangercausalitytests,levinson_durbin\n",
    "from statsmodels.tools.eval_measures import mse, rmse, meanabs\n",
    "\n",
    "# Alternative:\n",
    "# from sklearn.metrics import mean_squared_error"
   ]
  },
  {
   "cell_type": "code",
   "execution_count": 2,
   "metadata": {
    "ExecuteTime": {
     "end_time": "2020-07-13T16:29:39.787089Z",
     "start_time": "2020-07-13T16:29:39.783590Z"
    }
   },
   "outputs": [],
   "source": [
    "import matplotlib.style as style \n",
    "\n",
    "#because this is political science and i am tacky\n",
    "style.use('fivethirtyeight')"
   ]
  },
  {
   "cell_type": "code",
   "execution_count": 3,
   "metadata": {
    "ExecuteTime": {
     "end_time": "2020-07-13T16:29:39.865787Z",
     "start_time": "2020-07-13T16:29:39.789714Z"
    }
   },
   "outputs": [
    {
     "data": {
      "text/html": [
       "<div>\n",
       "<style scoped>\n",
       "    .dataframe tbody tr th:only-of-type {\n",
       "        vertical-align: middle;\n",
       "    }\n",
       "\n",
       "    .dataframe tbody tr th {\n",
       "        vertical-align: top;\n",
       "    }\n",
       "\n",
       "    .dataframe thead th {\n",
       "        text-align: right;\n",
       "    }\n",
       "</style>\n",
       "<table border=\"1\" class=\"dataframe\">\n",
       "  <thead>\n",
       "    <tr style=\"text-align: right;\">\n",
       "      <th></th>\n",
       "      <th>COUNTRY</th>\n",
       "      <th>SCODE</th>\n",
       "      <th>CCODE</th>\n",
       "      <th>YEAR</th>\n",
       "      <th>MOBEGIN</th>\n",
       "      <th>YRBEGIN</th>\n",
       "      <th>MOEND</th>\n",
       "      <th>YREND</th>\n",
       "      <th>PTYPE</th>\n",
       "      <th>MAGFAIL</th>\n",
       "      <th>MAGCOL</th>\n",
       "      <th>MAGVIOL</th>\n",
       "      <th>MAGAVE</th>\n",
       "      <th>DESC</th>\n",
       "      <th>POLITYX</th>\n",
       "      <th>DESC2</th>\n",
       "    </tr>\n",
       "  </thead>\n",
       "  <tbody>\n",
       "    <tr>\n",
       "      <th>0</th>\n",
       "      <td>Afghanistan</td>\n",
       "      <td>AFG</td>\n",
       "      <td>700</td>\n",
       "      <td>1978</td>\n",
       "      <td>4</td>\n",
       "      <td>1978</td>\n",
       "      <td>12</td>\n",
       "      <td>1979</td>\n",
       "      <td>3</td>\n",
       "      <td>2</td>\n",
       "      <td>1</td>\n",
       "      <td>4</td>\n",
       "      <td>2.5</td>\n",
       "      <td>In the wake of unrest stemming from the assass...</td>\n",
       "      <td>REV</td>\n",
       "      <td>1.0</td>\n",
       "    </tr>\n",
       "    <tr>\n",
       "      <th>1</th>\n",
       "      <td>Afghanistan</td>\n",
       "      <td>AFG</td>\n",
       "      <td>700</td>\n",
       "      <td>1979</td>\n",
       "      <td>4</td>\n",
       "      <td>1978</td>\n",
       "      <td>12</td>\n",
       "      <td>1979</td>\n",
       "      <td>3</td>\n",
       "      <td>2</td>\n",
       "      <td>1</td>\n",
       "      <td>4</td>\n",
       "      <td>2.5</td>\n",
       "      <td>NaN</td>\n",
       "      <td>NaN</td>\n",
       "      <td>NaN</td>\n",
       "    </tr>\n",
       "    <tr>\n",
       "      <th>2</th>\n",
       "      <td>Afghanistan</td>\n",
       "      <td>AFG</td>\n",
       "      <td>700</td>\n",
       "      <td>1992</td>\n",
       "      <td>4</td>\n",
       "      <td>1992</td>\n",
       "      <td>9</td>\n",
       "      <td>1996</td>\n",
       "      <td>3</td>\n",
       "      <td>4</td>\n",
       "      <td>1</td>\n",
       "      <td>4</td>\n",
       "      <td>3.0</td>\n",
       "      <td>Soviet-supported Najibullah regime falls after...</td>\n",
       "      <td>REV</td>\n",
       "      <td>1.0</td>\n",
       "    </tr>\n",
       "    <tr>\n",
       "      <th>3</th>\n",
       "      <td>Afghanistan</td>\n",
       "      <td>AFG</td>\n",
       "      <td>700</td>\n",
       "      <td>1993</td>\n",
       "      <td>4</td>\n",
       "      <td>1992</td>\n",
       "      <td>9</td>\n",
       "      <td>1996</td>\n",
       "      <td>3</td>\n",
       "      <td>4</td>\n",
       "      <td>1</td>\n",
       "      <td>4</td>\n",
       "      <td>3.0</td>\n",
       "      <td>NaN</td>\n",
       "      <td>NaN</td>\n",
       "      <td>NaN</td>\n",
       "    </tr>\n",
       "    <tr>\n",
       "      <th>4</th>\n",
       "      <td>Afghanistan</td>\n",
       "      <td>AFG</td>\n",
       "      <td>700</td>\n",
       "      <td>1994</td>\n",
       "      <td>4</td>\n",
       "      <td>1992</td>\n",
       "      <td>9</td>\n",
       "      <td>1996</td>\n",
       "      <td>3</td>\n",
       "      <td>4</td>\n",
       "      <td>1</td>\n",
       "      <td>4</td>\n",
       "      <td>3.0</td>\n",
       "      <td>NaN</td>\n",
       "      <td>NaN</td>\n",
       "      <td>NaN</td>\n",
       "    </tr>\n",
       "    <tr>\n",
       "      <th>...</th>\n",
       "      <td>...</td>\n",
       "      <td>...</td>\n",
       "      <td>...</td>\n",
       "      <td>...</td>\n",
       "      <td>...</td>\n",
       "      <td>...</td>\n",
       "      <td>...</td>\n",
       "      <td>...</td>\n",
       "      <td>...</td>\n",
       "      <td>...</td>\n",
       "      <td>...</td>\n",
       "      <td>...</td>\n",
       "      <td>...</td>\n",
       "      <td>...</td>\n",
       "      <td>...</td>\n",
       "      <td>...</td>\n",
       "    </tr>\n",
       "    <tr>\n",
       "      <th>348</th>\n",
       "      <td>Zambia</td>\n",
       "      <td>ZAM</td>\n",
       "      <td>551</td>\n",
       "      <td>1970</td>\n",
       "      <td>8</td>\n",
       "      <td>1968</td>\n",
       "      <td>12</td>\n",
       "      <td>1972</td>\n",
       "      <td>3</td>\n",
       "      <td>1</td>\n",
       "      <td>3</td>\n",
       "      <td>2</td>\n",
       "      <td>2.0</td>\n",
       "      <td>NaN</td>\n",
       "      <td>NaN</td>\n",
       "      <td>NaN</td>\n",
       "    </tr>\n",
       "    <tr>\n",
       "      <th>349</th>\n",
       "      <td>Zambia</td>\n",
       "      <td>ZAM</td>\n",
       "      <td>551</td>\n",
       "      <td>1971</td>\n",
       "      <td>8</td>\n",
       "      <td>1968</td>\n",
       "      <td>12</td>\n",
       "      <td>1972</td>\n",
       "      <td>3</td>\n",
       "      <td>1</td>\n",
       "      <td>3</td>\n",
       "      <td>2</td>\n",
       "      <td>2.0</td>\n",
       "      <td>NaN</td>\n",
       "      <td>NaN</td>\n",
       "      <td>NaN</td>\n",
       "    </tr>\n",
       "    <tr>\n",
       "      <th>350</th>\n",
       "      <td>Zambia</td>\n",
       "      <td>ZAM</td>\n",
       "      <td>551</td>\n",
       "      <td>1972</td>\n",
       "      <td>8</td>\n",
       "      <td>1968</td>\n",
       "      <td>12</td>\n",
       "      <td>1972</td>\n",
       "      <td>3</td>\n",
       "      <td>1</td>\n",
       "      <td>3</td>\n",
       "      <td>2</td>\n",
       "      <td>2.0</td>\n",
       "      <td>NaN</td>\n",
       "      <td>NaN</td>\n",
       "      <td>NaN</td>\n",
       "    </tr>\n",
       "    <tr>\n",
       "      <th>351</th>\n",
       "      <td>Zambia</td>\n",
       "      <td>ZAM</td>\n",
       "      <td>551</td>\n",
       "      <td>1996</td>\n",
       "      <td>11</td>\n",
       "      <td>1996</td>\n",
       "      <td>11</td>\n",
       "      <td>1996</td>\n",
       "      <td>3</td>\n",
       "      <td>1</td>\n",
       "      <td>2</td>\n",
       "      <td>1</td>\n",
       "      <td>1.5</td>\n",
       "      <td>Constitutional amendments in May 1996 disquali...</td>\n",
       "      <td>-5</td>\n",
       "      <td>1.0</td>\n",
       "    </tr>\n",
       "    <tr>\n",
       "      <th>352</th>\n",
       "      <td>Zimbabwe</td>\n",
       "      <td>ZIM</td>\n",
       "      <td>552</td>\n",
       "      <td>1987</td>\n",
       "      <td>12</td>\n",
       "      <td>1987</td>\n",
       "      <td>12</td>\n",
       "      <td>1987</td>\n",
       "      <td>3</td>\n",
       "      <td>1</td>\n",
       "      <td>3</td>\n",
       "      <td>2</td>\n",
       "      <td>2.0</td>\n",
       "      <td>Ethnic tensions and crackdown on political opp...</td>\n",
       "      <td>-7</td>\n",
       "      <td>1.0</td>\n",
       "    </tr>\n",
       "  </tbody>\n",
       "</table>\n",
       "<p>353 rows × 16 columns</p>\n",
       "</div>"
      ],
      "text/plain": [
       "         COUNTRY SCODE  CCODE  YEAR  MOBEGIN  YRBEGIN  MOEND  YREND  PTYPE  \\\n",
       "0    Afghanistan   AFG    700  1978        4     1978     12   1979      3   \n",
       "1    Afghanistan   AFG    700  1979        4     1978     12   1979      3   \n",
       "2    Afghanistan   AFG    700  1992        4     1992      9   1996      3   \n",
       "3    Afghanistan   AFG    700  1993        4     1992      9   1996      3   \n",
       "4    Afghanistan   AFG    700  1994        4     1992      9   1996      3   \n",
       "..           ...   ...    ...   ...      ...      ...    ...    ...    ...   \n",
       "348       Zambia   ZAM    551  1970        8     1968     12   1972      3   \n",
       "349       Zambia   ZAM    551  1971        8     1968     12   1972      3   \n",
       "350       Zambia   ZAM    551  1972        8     1968     12   1972      3   \n",
       "351       Zambia   ZAM    551  1996       11     1996     11   1996      3   \n",
       "352     Zimbabwe   ZIM    552  1987       12     1987     12   1987      3   \n",
       "\n",
       "     MAGFAIL  MAGCOL  MAGVIOL  MAGAVE  \\\n",
       "0          2       1        4     2.5   \n",
       "1          2       1        4     2.5   \n",
       "2          4       1        4     3.0   \n",
       "3          4       1        4     3.0   \n",
       "4          4       1        4     3.0   \n",
       "..       ...     ...      ...     ...   \n",
       "348        1       3        2     2.0   \n",
       "349        1       3        2     2.0   \n",
       "350        1       3        2     2.0   \n",
       "351        1       2        1     1.5   \n",
       "352        1       3        2     2.0   \n",
       "\n",
       "                                                  DESC POLITYX  DESC2  \n",
       "0    In the wake of unrest stemming from the assass...     REV    1.0  \n",
       "1                                                  NaN     NaN    NaN  \n",
       "2    Soviet-supported Najibullah regime falls after...     REV    1.0  \n",
       "3                                                  NaN     NaN    NaN  \n",
       "4                                                  NaN     NaN    NaN  \n",
       "..                                                 ...     ...    ...  \n",
       "348                                                NaN     NaN    NaN  \n",
       "349                                                NaN     NaN    NaN  \n",
       "350                                                NaN     NaN    NaN  \n",
       "351  Constitutional amendments in May 1996 disquali...      -5    1.0  \n",
       "352  Ethnic tensions and crackdown on political opp...      -7    1.0  \n",
       "\n",
       "[353 rows x 16 columns]"
      ]
     },
     "execution_count": 3,
     "metadata": {},
     "output_type": "execute_result"
    }
   ],
   "source": [
    "df = pd.read_excel('PITF Adverse Regime Change 2018.xls', index_col=None) \n",
    "\n",
    "df"
   ]
  },
  {
   "cell_type": "markdown",
   "metadata": {},
   "source": [
    "# EDA and Preprocessing"
   ]
  },
  {
   "cell_type": "markdown",
   "metadata": {},
   "source": [
    "- Variables specific to the Adverse Regime Change episodes are as follows:\n",
    "    - MAGFAIL (1-numeric)\n",
    "        - Scaled failure of State authority (range 1-4; 9=missing)\n",
    "    - MAGCOL (1-numeric)\n",
    "        - Scaled collapse of democratic institutions (range 1-4; 9=missing)\n",
    "    - MAGVIOL (1-numeric)\n",
    "        - Scaled violence associated with regime transition (range 1-4; 9=missing)\n",
    "    - MAGAVE (1.1-numeric)\n",
    "        - Average of the three magnitude scores (range 1-4.0; 9=missing)\n",
    "    - POLITYX (4-alpha/numeric)\n",
    "        - Indicator of the type/magnitude of regime change\n",
    "- Variables specific to the Adverse Regime Change episodes are as follows:\n",
    "    - MAGFAIL (1-numeric)\n",
    "        - Scaled failure of State authority (range 1-4; 9=missing)\n",
    "    - MAGCOL (1-numeric)\n",
    "        - Scaled collapse of democratic institutions (range 1-4; 9=missing)\n",
    "    - MAGVIOL (1-numeric)\n",
    "        - Scaled violence associated with regime transition (range 1-4; 9=missing)\n",
    "    - MAGAVE (1.1-numeric)\n",
    "        - Average of the three magnitude scores (range 1-4.0; 9=missing)\n",
    "    - POLITYX (4-alpha/numeric)\n",
    "        - Indicator of the type/magnitude of regime change"
   ]
  },
  {
   "cell_type": "code",
   "execution_count": 4,
   "metadata": {
    "ExecuteTime": {
     "end_time": "2020-07-13T16:29:41.590105Z",
     "start_time": "2020-07-13T16:29:41.544659Z"
    },
    "scrolled": false
   },
   "outputs": [
    {
     "name": "stdout",
     "output_type": "stream",
     "text": [
      "<class 'pandas.core.frame.DataFrame'>\n",
      "RangeIndex: 353 entries, 0 to 352\n",
      "Data columns (total 16 columns):\n",
      " #   Column   Non-Null Count  Dtype  \n",
      "---  ------   --------------  -----  \n",
      " 0   COUNTRY  353 non-null    object \n",
      " 1   SCODE    353 non-null    object \n",
      " 2   CCODE    353 non-null    int64  \n",
      " 3   YEAR     353 non-null    int64  \n",
      " 4   MOBEGIN  353 non-null    int64  \n",
      " 5   YRBEGIN  353 non-null    int64  \n",
      " 6   MOEND    353 non-null    int64  \n",
      " 7   YREND    353 non-null    int64  \n",
      " 8   PTYPE    353 non-null    int64  \n",
      " 9   MAGFAIL  353 non-null    int64  \n",
      " 10  MAGCOL   353 non-null    int64  \n",
      " 11  MAGVIOL  353 non-null    int64  \n",
      " 12  MAGAVE   353 non-null    float64\n",
      " 13  DESC     136 non-null    object \n",
      " 14  POLITYX  136 non-null    object \n",
      " 15  DESC2    136 non-null    float64\n",
      "dtypes: float64(2), int64(10), object(4)\n",
      "memory usage: 44.2+ KB\n"
     ]
    }
   ],
   "source": [
    "df.info()"
   ]
  },
  {
   "cell_type": "code",
   "execution_count": 5,
   "metadata": {
    "ExecuteTime": {
     "end_time": "2020-07-13T16:29:42.261276Z",
     "start_time": "2020-07-13T16:29:42.258486Z"
    }
   },
   "outputs": [],
   "source": [
    "eda_df = df.copy()"
   ]
  },
  {
   "cell_type": "code",
   "execution_count": 6,
   "metadata": {
    "ExecuteTime": {
     "end_time": "2020-07-13T16:29:44.715243Z",
     "start_time": "2020-07-13T16:29:43.777592Z"
    }
   },
   "outputs": [],
   "source": [
    "from pandas_profiling import ProfileReport\n",
    "profile = ProfileReport(eda_df, title=\"Pandas Profiling Report\")"
   ]
  },
  {
   "cell_type": "code",
   "execution_count": 7,
   "metadata": {
    "ExecuteTime": {
     "end_time": "2020-07-13T16:29:44.719928Z",
     "start_time": "2020-07-13T16:29:44.717285Z"
    },
    "scrolled": false
   },
   "outputs": [],
   "source": [
    "# profile.to_widgets()"
   ]
  },
  {
   "cell_type": "markdown",
   "metadata": {},
   "source": [
    "## Notes:\n",
    "- PTYPE has Constant Value \"3\" \n",
    "- DESC is missing along with POLITYX and DESC2 in 217 rows, this is due to (consulting the codebook) these cells only being filled in the case of the first year of a multiyear event\n",
    "- Somalia is an outlier in occurrences, but is that total distinct regime changes or years under regime change?\n",
    "- 1990s are common years, a hot trend to have adverse regime changes in the 1990s\n",
    "- A lot of ending and beginning in the first month and last month of the year, pointing to how this was coded?\n",
    "- Should do distributions of MAG columns at least\n",
    "- Drop for now\n",
    "\n",
    "### Columns to drop:\n",
    "- PTYPE constant value\n",
    "- DESC2 can be dropped as redundant to DESC\n",
    "- SCODE is redundant to COUNTRY as is CCODE\n",
    "- Drop DESC for now, can examine with NLP later\n",
    "\n",
    "### Columns to engineer:\n",
    "- YEAR needs to be resampled to Daily data somehow \n",
    "    - (groupby country --> resample with fill and inserts?)\n",
    "- YR and MO BEGIN AND END can be made into time beginning and time ending\n",
    "- MAGCOL, VIOL, FAIL, AVE need to be \n",
    "    - Interpolated\n",
    "- POLITYX is Unsupported \n",
    "    - Needs to be recoded\n",
    "    - Check what the values mean in codebook\n",
    "    - And filled where NaN "
   ]
  },
  {
   "cell_type": "code",
   "execution_count": 8,
   "metadata": {
    "ExecuteTime": {
     "end_time": "2020-07-13T16:29:46.132823Z",
     "start_time": "2020-07-13T16:29:46.128872Z"
    }
   },
   "outputs": [
    {
     "data": {
      "text/plain": [
       "Index(['COUNTRY', 'SCODE', 'CCODE', 'YEAR', 'MOBEGIN', 'YRBEGIN', 'MOEND',\n",
       "       'YREND', 'PTYPE', 'MAGFAIL', 'MAGCOL', 'MAGVIOL', 'MAGAVE', 'DESC',\n",
       "       'POLITYX', 'DESC2'],\n",
       "      dtype='object')"
      ]
     },
     "execution_count": 8,
     "metadata": {},
     "output_type": "execute_result"
    }
   ],
   "source": [
    "eda_df.columns"
   ]
  },
  {
   "cell_type": "code",
   "execution_count": 9,
   "metadata": {
    "ExecuteTime": {
     "end_time": "2020-07-13T16:29:46.664227Z",
     "start_time": "2020-07-13T16:29:46.651824Z"
    }
   },
   "outputs": [
    {
     "name": "stdout",
     "output_type": "stream",
     "text": [
      "<class 'pandas.core.frame.DataFrame'>\n",
      "RangeIndex: 353 entries, 0 to 352\n",
      "Data columns (total 16 columns):\n",
      " #   Column   Non-Null Count  Dtype  \n",
      "---  ------   --------------  -----  \n",
      " 0   COUNTRY  353 non-null    object \n",
      " 1   SCODE    353 non-null    object \n",
      " 2   CCODE    353 non-null    int64  \n",
      " 3   YEAR     353 non-null    int64  \n",
      " 4   MOBEGIN  353 non-null    int64  \n",
      " 5   YRBEGIN  353 non-null    int64  \n",
      " 6   MOEND    353 non-null    int64  \n",
      " 7   YREND    353 non-null    int64  \n",
      " 8   PTYPE    353 non-null    int64  \n",
      " 9   MAGFAIL  353 non-null    int64  \n",
      " 10  MAGCOL   353 non-null    int64  \n",
      " 11  MAGVIOL  353 non-null    int64  \n",
      " 12  MAGAVE   353 non-null    float64\n",
      " 13  DESC     136 non-null    object \n",
      " 14  POLITYX  136 non-null    object \n",
      " 15  DESC2    136 non-null    float64\n",
      "dtypes: float64(2), int64(10), object(4)\n",
      "memory usage: 44.2+ KB\n"
     ]
    }
   ],
   "source": [
    "eda_df.info()"
   ]
  },
  {
   "cell_type": "code",
   "execution_count": 10,
   "metadata": {
    "ExecuteTime": {
     "end_time": "2020-07-13T16:29:47.352326Z",
     "start_time": "2020-07-13T16:29:47.345411Z"
    },
    "scrolled": false
   },
   "outputs": [
    {
     "data": {
      "text/plain": [
       "SF     26\n",
       "-14    13\n",
       "-9     12\n",
       "-7     10\n",
       "-15    10\n",
       "-10     9\n",
       "REV     9\n",
       "-5      8\n",
       "-11     8\n",
       "-12     8\n",
       "DIS     6\n",
       "-6      5\n",
       "-8      5\n",
       "-13     5\n",
       "-16     1\n",
       "-18     1\n",
       "Name: POLITYX, dtype: int64"
      ]
     },
     "execution_count": 10,
     "metadata": {},
     "output_type": "execute_result"
    }
   ],
   "source": [
    "eda_df.POLITYX.value_counts()"
   ]
  },
  {
   "cell_type": "markdown",
   "metadata": {},
   "source": [
    "## 86 Unique Countries in dataset"
   ]
  },
  {
   "cell_type": "code",
   "execution_count": 11,
   "metadata": {
    "ExecuteTime": {
     "end_time": "2020-07-13T16:30:16.654504Z",
     "start_time": "2020-07-13T16:30:16.650095Z"
    }
   },
   "outputs": [
    {
     "data": {
      "text/plain": [
       "86"
      ]
     },
     "execution_count": 11,
     "metadata": {},
     "output_type": "execute_result"
    }
   ],
   "source": [
    "eda_df.COUNTRY.nunique()"
   ]
  },
  {
   "cell_type": "markdown",
   "metadata": {},
   "source": [
    "## 92 Regime Change Years after 2000 because I only have access to stock data back to 2000"
   ]
  },
  {
   "cell_type": "code",
   "execution_count": 13,
   "metadata": {
    "ExecuteTime": {
     "end_time": "2020-07-13T16:31:27.780572Z",
     "start_time": "2020-07-13T16:31:27.776601Z"
    }
   },
   "outputs": [
    {
     "data": {
      "text/plain": [
       "92"
      ]
     },
     "execution_count": 13,
     "metadata": {},
     "output_type": "execute_result"
    }
   ],
   "source": [
    "len(eda_df[eda_df['YEAR'] > 1999])"
   ]
  },
  {
   "cell_type": "markdown",
   "metadata": {},
   "source": [
    "## Looking at discrete events 2000 on: 30 different events in 26 countries over 92 cumulative years"
   ]
  },
  {
   "cell_type": "code",
   "execution_count": 34,
   "metadata": {
    "ExecuteTime": {
     "end_time": "2020-07-13T16:42:00.996589Z",
     "start_time": "2020-07-13T16:42:00.992687Z"
    }
   },
   "outputs": [],
   "source": [
    "two_thou_df = eda_df[eda_df['YEAR'] > (1999 or np.nan)] "
   ]
  },
  {
   "cell_type": "code",
   "execution_count": 47,
   "metadata": {
    "ExecuteTime": {
     "end_time": "2020-07-13T16:46:10.540937Z",
     "start_time": "2020-07-13T16:46:10.520447Z"
    }
   },
   "outputs": [
    {
     "data": {
      "text/html": [
       "<div>\n",
       "<style scoped>\n",
       "    .dataframe tbody tr th:only-of-type {\n",
       "        vertical-align: middle;\n",
       "    }\n",
       "\n",
       "    .dataframe tbody tr th {\n",
       "        vertical-align: top;\n",
       "    }\n",
       "\n",
       "    .dataframe thead th {\n",
       "        text-align: right;\n",
       "    }\n",
       "</style>\n",
       "<table border=\"1\" class=\"dataframe\">\n",
       "  <thead>\n",
       "    <tr style=\"text-align: right;\">\n",
       "      <th></th>\n",
       "      <th>COUNTRY</th>\n",
       "      <th>SCODE</th>\n",
       "      <th>CCODE</th>\n",
       "      <th>YEAR</th>\n",
       "      <th>MOBEGIN</th>\n",
       "      <th>YRBEGIN</th>\n",
       "      <th>MOEND</th>\n",
       "      <th>YREND</th>\n",
       "      <th>PTYPE</th>\n",
       "      <th>MAGFAIL</th>\n",
       "      <th>MAGCOL</th>\n",
       "      <th>MAGVIOL</th>\n",
       "      <th>MAGAVE</th>\n",
       "      <th>DESC</th>\n",
       "      <th>POLITYX</th>\n",
       "      <th>DESC2</th>\n",
       "    </tr>\n",
       "  </thead>\n",
       "  <tbody>\n",
       "    <tr>\n",
       "      <th>7</th>\n",
       "      <td>Afghanistan</td>\n",
       "      <td>AFG</td>\n",
       "      <td>700</td>\n",
       "      <td>2001</td>\n",
       "      <td>11</td>\n",
       "      <td>2001</td>\n",
       "      <td>6</td>\n",
       "      <td>2002</td>\n",
       "      <td>3</td>\n",
       "      <td>4</td>\n",
       "      <td>1</td>\n",
       "      <td>4</td>\n",
       "      <td>3.0</td>\n",
       "      <td>As a result of coordinated attacks by militias...</td>\n",
       "      <td>SF</td>\n",
       "      <td>1.0</td>\n",
       "    </tr>\n",
       "    <tr>\n",
       "      <th>8</th>\n",
       "      <td>Afghanistan</td>\n",
       "      <td>AFG</td>\n",
       "      <td>700</td>\n",
       "      <td>2002</td>\n",
       "      <td>11</td>\n",
       "      <td>2001</td>\n",
       "      <td>6</td>\n",
       "      <td>2002</td>\n",
       "      <td>3</td>\n",
       "      <td>4</td>\n",
       "      <td>1</td>\n",
       "      <td>4</td>\n",
       "      <td>3.0</td>\n",
       "      <td>NaN</td>\n",
       "      <td>NaN</td>\n",
       "      <td>NaN</td>\n",
       "    </tr>\n",
       "    <tr>\n",
       "      <th>33</th>\n",
       "      <td>Bangladesh</td>\n",
       "      <td>BNG</td>\n",
       "      <td>771</td>\n",
       "      <td>2007</td>\n",
       "      <td>1</td>\n",
       "      <td>2007</td>\n",
       "      <td>1</td>\n",
       "      <td>2007</td>\n",
       "      <td>3</td>\n",
       "      <td>1</td>\n",
       "      <td>3</td>\n",
       "      <td>1</td>\n",
       "      <td>1.5</td>\n",
       "      <td>Increasing tensions between the ruling Banglad...</td>\n",
       "      <td>-14</td>\n",
       "      <td>1.0</td>\n",
       "    </tr>\n",
       "    <tr>\n",
       "      <th>34</th>\n",
       "      <td>Bangladesh</td>\n",
       "      <td>BNG</td>\n",
       "      <td>771</td>\n",
       "      <td>2018</td>\n",
       "      <td>2</td>\n",
       "      <td>2018</td>\n",
       "      <td>12</td>\n",
       "      <td>2018</td>\n",
       "      <td>3</td>\n",
       "      <td>1</td>\n",
       "      <td>3</td>\n",
       "      <td>1</td>\n",
       "      <td>1.5</td>\n",
       "      <td>Bangladeshi politics has long been characteriz...</td>\n",
       "      <td>-7</td>\n",
       "      <td>1.0</td>\n",
       "    </tr>\n",
       "    <tr>\n",
       "      <th>52</th>\n",
       "      <td>Burundi</td>\n",
       "      <td>BUI</td>\n",
       "      <td>516</td>\n",
       "      <td>2015</td>\n",
       "      <td>7</td>\n",
       "      <td>2015</td>\n",
       "      <td>7</td>\n",
       "      <td>2015</td>\n",
       "      <td>3</td>\n",
       "      <td>1</td>\n",
       "      <td>2</td>\n",
       "      <td>3</td>\n",
       "      <td>2.0</td>\n",
       "      <td>The ruling CNDD-FDD party announced on 25 Apri...</td>\n",
       "      <td>-7</td>\n",
       "      <td>1.0</td>\n",
       "    </tr>\n",
       "    <tr>\n",
       "      <th>56</th>\n",
       "      <td>Cambodia</td>\n",
       "      <td>CAM</td>\n",
       "      <td>811</td>\n",
       "      <td>2017</td>\n",
       "      <td>11</td>\n",
       "      <td>2017</td>\n",
       "      <td>11</td>\n",
       "      <td>2017</td>\n",
       "      <td>3</td>\n",
       "      <td>1</td>\n",
       "      <td>3</td>\n",
       "      <td>1</td>\n",
       "      <td>1.5</td>\n",
       "      <td>In the run up to parliamentary elections sched...</td>\n",
       "      <td>-6</td>\n",
       "      <td>1.0</td>\n",
       "    </tr>\n",
       "    <tr>\n",
       "      <th>57</th>\n",
       "      <td>Central African Republic</td>\n",
       "      <td>CEN</td>\n",
       "      <td>482</td>\n",
       "      <td>2003</td>\n",
       "      <td>3</td>\n",
       "      <td>2003</td>\n",
       "      <td>3</td>\n",
       "      <td>2003</td>\n",
       "      <td>3</td>\n",
       "      <td>1</td>\n",
       "      <td>3</td>\n",
       "      <td>3</td>\n",
       "      <td>2.5</td>\n",
       "      <td>Forces loyal to Gen. Bozize succeed in ousting...</td>\n",
       "      <td>-6</td>\n",
       "      <td>1.0</td>\n",
       "    </tr>\n",
       "    <tr>\n",
       "      <th>58</th>\n",
       "      <td>Central African Republic</td>\n",
       "      <td>CEN</td>\n",
       "      <td>482</td>\n",
       "      <td>2013</td>\n",
       "      <td>3</td>\n",
       "      <td>2013</td>\n",
       "      <td>4</td>\n",
       "      <td>2016</td>\n",
       "      <td>3</td>\n",
       "      <td>4</td>\n",
       "      <td>3</td>\n",
       "      <td>4</td>\n",
       "      <td>3.5</td>\n",
       "      <td>A coalition of Islamic militants calling itsel...</td>\n",
       "      <td>SF</td>\n",
       "      <td>1.0</td>\n",
       "    </tr>\n",
       "    <tr>\n",
       "      <th>59</th>\n",
       "      <td>Central African Republic</td>\n",
       "      <td>CEN</td>\n",
       "      <td>482</td>\n",
       "      <td>2014</td>\n",
       "      <td>3</td>\n",
       "      <td>2013</td>\n",
       "      <td>4</td>\n",
       "      <td>2016</td>\n",
       "      <td>3</td>\n",
       "      <td>4</td>\n",
       "      <td>3</td>\n",
       "      <td>4</td>\n",
       "      <td>3.5</td>\n",
       "      <td>NaN</td>\n",
       "      <td>NaN</td>\n",
       "      <td>NaN</td>\n",
       "    </tr>\n",
       "    <tr>\n",
       "      <th>60</th>\n",
       "      <td>Central African Republic</td>\n",
       "      <td>CEN</td>\n",
       "      <td>482</td>\n",
       "      <td>2015</td>\n",
       "      <td>3</td>\n",
       "      <td>2013</td>\n",
       "      <td>4</td>\n",
       "      <td>2016</td>\n",
       "      <td>3</td>\n",
       "      <td>3</td>\n",
       "      <td>2</td>\n",
       "      <td>2</td>\n",
       "      <td>2.5</td>\n",
       "      <td>NaN</td>\n",
       "      <td>NaN</td>\n",
       "      <td>NaN</td>\n",
       "    </tr>\n",
       "    <tr>\n",
       "      <th>61</th>\n",
       "      <td>Central African Republic</td>\n",
       "      <td>CEN</td>\n",
       "      <td>482</td>\n",
       "      <td>2016</td>\n",
       "      <td>3</td>\n",
       "      <td>2013</td>\n",
       "      <td>4</td>\n",
       "      <td>2016</td>\n",
       "      <td>3</td>\n",
       "      <td>3</td>\n",
       "      <td>2</td>\n",
       "      <td>2</td>\n",
       "      <td>2.5</td>\n",
       "      <td>NaN</td>\n",
       "      <td>NaN</td>\n",
       "      <td>NaN</td>\n",
       "    </tr>\n",
       "    <tr>\n",
       "      <th>73</th>\n",
       "      <td>Comoros</td>\n",
       "      <td>COM</td>\n",
       "      <td>581</td>\n",
       "      <td>2018</td>\n",
       "      <td>4</td>\n",
       "      <td>2018</td>\n",
       "      <td>7</td>\n",
       "      <td>2018</td>\n",
       "      <td>3</td>\n",
       "      <td>1</td>\n",
       "      <td>4</td>\n",
       "      <td>2</td>\n",
       "      <td>2.5</td>\n",
       "      <td>On 12 April 2018, President Azali Assoumani su...</td>\n",
       "      <td>-12</td>\n",
       "      <td>1.0</td>\n",
       "    </tr>\n",
       "    <tr>\n",
       "      <th>106</th>\n",
       "      <td>Fiji</td>\n",
       "      <td>FJI</td>\n",
       "      <td>950</td>\n",
       "      <td>2006</td>\n",
       "      <td>12</td>\n",
       "      <td>2006</td>\n",
       "      <td>12</td>\n",
       "      <td>2006</td>\n",
       "      <td>3</td>\n",
       "      <td>1</td>\n",
       "      <td>3</td>\n",
       "      <td>1</td>\n",
       "      <td>1.5</td>\n",
       "      <td>The ethnic Fijian-dominated Qarase government ...</td>\n",
       "      <td>-10</td>\n",
       "      <td>1.0</td>\n",
       "    </tr>\n",
       "    <tr>\n",
       "      <th>113</th>\n",
       "      <td>Guinea-Bissau</td>\n",
       "      <td>GNB</td>\n",
       "      <td>404</td>\n",
       "      <td>2003</td>\n",
       "      <td>9</td>\n",
       "      <td>2003</td>\n",
       "      <td>9</td>\n",
       "      <td>2003</td>\n",
       "      <td>3</td>\n",
       "      <td>1</td>\n",
       "      <td>3</td>\n",
       "      <td>1</td>\n",
       "      <td>1.5</td>\n",
       "      <td>New elected-government of President Yalla and ...</td>\n",
       "      <td>-6</td>\n",
       "      <td>1.0</td>\n",
       "    </tr>\n",
       "    <tr>\n",
       "      <th>114</th>\n",
       "      <td>Guinea-Bissau</td>\n",
       "      <td>GNB</td>\n",
       "      <td>404</td>\n",
       "      <td>2012</td>\n",
       "      <td>4</td>\n",
       "      <td>2012</td>\n",
       "      <td>4</td>\n",
       "      <td>2012</td>\n",
       "      <td>3</td>\n",
       "      <td>1</td>\n",
       "      <td>3</td>\n",
       "      <td>1</td>\n",
       "      <td>1.5</td>\n",
       "      <td>Following first round presidential elections h...</td>\n",
       "      <td>-5</td>\n",
       "      <td>1.0</td>\n",
       "    </tr>\n",
       "    <tr>\n",
       "      <th>121</th>\n",
       "      <td>Haiti</td>\n",
       "      <td>HAI</td>\n",
       "      <td>41</td>\n",
       "      <td>2000</td>\n",
       "      <td>1</td>\n",
       "      <td>1999</td>\n",
       "      <td>11</td>\n",
       "      <td>2000</td>\n",
       "      <td>3</td>\n",
       "      <td>1</td>\n",
       "      <td>3</td>\n",
       "      <td>1</td>\n",
       "      <td>1.5</td>\n",
       "      <td>NaN</td>\n",
       "      <td>NaN</td>\n",
       "      <td>NaN</td>\n",
       "    </tr>\n",
       "    <tr>\n",
       "      <th>122</th>\n",
       "      <td>Haiti</td>\n",
       "      <td>HAI</td>\n",
       "      <td>41</td>\n",
       "      <td>2010</td>\n",
       "      <td>1</td>\n",
       "      <td>2010</td>\n",
       "      <td>2</td>\n",
       "      <td>2016</td>\n",
       "      <td>3</td>\n",
       "      <td>4</td>\n",
       "      <td>2</td>\n",
       "      <td>1</td>\n",
       "      <td>2.5</td>\n",
       "      <td>A devastating earthquake struck the capital ci...</td>\n",
       "      <td>SF</td>\n",
       "      <td>1.0</td>\n",
       "    </tr>\n",
       "    <tr>\n",
       "      <th>123</th>\n",
       "      <td>Haiti</td>\n",
       "      <td>HAI</td>\n",
       "      <td>41</td>\n",
       "      <td>2011</td>\n",
       "      <td>1</td>\n",
       "      <td>2010</td>\n",
       "      <td>2</td>\n",
       "      <td>2016</td>\n",
       "      <td>3</td>\n",
       "      <td>4</td>\n",
       "      <td>2</td>\n",
       "      <td>1</td>\n",
       "      <td>2.5</td>\n",
       "      <td>NaN</td>\n",
       "      <td>NaN</td>\n",
       "      <td>NaN</td>\n",
       "    </tr>\n",
       "    <tr>\n",
       "      <th>124</th>\n",
       "      <td>Haiti</td>\n",
       "      <td>HAI</td>\n",
       "      <td>41</td>\n",
       "      <td>2012</td>\n",
       "      <td>1</td>\n",
       "      <td>2010</td>\n",
       "      <td>2</td>\n",
       "      <td>2016</td>\n",
       "      <td>3</td>\n",
       "      <td>4</td>\n",
       "      <td>2</td>\n",
       "      <td>1</td>\n",
       "      <td>2.5</td>\n",
       "      <td>NaN</td>\n",
       "      <td>NaN</td>\n",
       "      <td>NaN</td>\n",
       "    </tr>\n",
       "    <tr>\n",
       "      <th>125</th>\n",
       "      <td>Haiti</td>\n",
       "      <td>HAI</td>\n",
       "      <td>41</td>\n",
       "      <td>2013</td>\n",
       "      <td>1</td>\n",
       "      <td>2010</td>\n",
       "      <td>2</td>\n",
       "      <td>2016</td>\n",
       "      <td>3</td>\n",
       "      <td>4</td>\n",
       "      <td>2</td>\n",
       "      <td>1</td>\n",
       "      <td>2.5</td>\n",
       "      <td>NaN</td>\n",
       "      <td>NaN</td>\n",
       "      <td>NaN</td>\n",
       "    </tr>\n",
       "  </tbody>\n",
       "</table>\n",
       "</div>"
      ],
      "text/plain": [
       "                      COUNTRY SCODE  CCODE  YEAR  MOBEGIN  YRBEGIN  MOEND  \\\n",
       "7                 Afghanistan   AFG    700  2001       11     2001      6   \n",
       "8                 Afghanistan   AFG    700  2002       11     2001      6   \n",
       "33                 Bangladesh   BNG    771  2007        1     2007      1   \n",
       "34                 Bangladesh   BNG    771  2018        2     2018     12   \n",
       "52                    Burundi   BUI    516  2015        7     2015      7   \n",
       "56                   Cambodia   CAM    811  2017       11     2017     11   \n",
       "57   Central African Republic   CEN    482  2003        3     2003      3   \n",
       "58   Central African Republic   CEN    482  2013        3     2013      4   \n",
       "59   Central African Republic   CEN    482  2014        3     2013      4   \n",
       "60   Central African Republic   CEN    482  2015        3     2013      4   \n",
       "61   Central African Republic   CEN    482  2016        3     2013      4   \n",
       "73                    Comoros   COM    581  2018        4     2018      7   \n",
       "106                      Fiji   FJI    950  2006       12     2006     12   \n",
       "113             Guinea-Bissau   GNB    404  2003        9     2003      9   \n",
       "114             Guinea-Bissau   GNB    404  2012        4     2012      4   \n",
       "121                     Haiti   HAI     41  2000        1     1999     11   \n",
       "122                     Haiti   HAI     41  2010        1     2010      2   \n",
       "123                     Haiti   HAI     41  2011        1     2010      2   \n",
       "124                     Haiti   HAI     41  2012        1     2010      2   \n",
       "125                     Haiti   HAI     41  2013        1     2010      2   \n",
       "\n",
       "     YREND  PTYPE  MAGFAIL  MAGCOL  MAGVIOL  MAGAVE  \\\n",
       "7     2002      3        4       1        4     3.0   \n",
       "8     2002      3        4       1        4     3.0   \n",
       "33    2007      3        1       3        1     1.5   \n",
       "34    2018      3        1       3        1     1.5   \n",
       "52    2015      3        1       2        3     2.0   \n",
       "56    2017      3        1       3        1     1.5   \n",
       "57    2003      3        1       3        3     2.5   \n",
       "58    2016      3        4       3        4     3.5   \n",
       "59    2016      3        4       3        4     3.5   \n",
       "60    2016      3        3       2        2     2.5   \n",
       "61    2016      3        3       2        2     2.5   \n",
       "73    2018      3        1       4        2     2.5   \n",
       "106   2006      3        1       3        1     1.5   \n",
       "113   2003      3        1       3        1     1.5   \n",
       "114   2012      3        1       3        1     1.5   \n",
       "121   2000      3        1       3        1     1.5   \n",
       "122   2016      3        4       2        1     2.5   \n",
       "123   2016      3        4       2        1     2.5   \n",
       "124   2016      3        4       2        1     2.5   \n",
       "125   2016      3        4       2        1     2.5   \n",
       "\n",
       "                                                  DESC POLITYX  DESC2  \n",
       "7    As a result of coordinated attacks by militias...      SF    1.0  \n",
       "8                                                  NaN     NaN    NaN  \n",
       "33   Increasing tensions between the ruling Banglad...     -14    1.0  \n",
       "34   Bangladeshi politics has long been characteriz...      -7    1.0  \n",
       "52   The ruling CNDD-FDD party announced on 25 Apri...      -7    1.0  \n",
       "56   In the run up to parliamentary elections sched...      -6    1.0  \n",
       "57   Forces loyal to Gen. Bozize succeed in ousting...      -6    1.0  \n",
       "58   A coalition of Islamic militants calling itsel...      SF    1.0  \n",
       "59                                                 NaN     NaN    NaN  \n",
       "60                                                 NaN     NaN    NaN  \n",
       "61                                                 NaN     NaN    NaN  \n",
       "73   On 12 April 2018, President Azali Assoumani su...     -12    1.0  \n",
       "106  The ethnic Fijian-dominated Qarase government ...     -10    1.0  \n",
       "113  New elected-government of President Yalla and ...      -6    1.0  \n",
       "114  Following first round presidential elections h...      -5    1.0  \n",
       "121                                                NaN     NaN    NaN  \n",
       "122  A devastating earthquake struck the capital ci...      SF    1.0  \n",
       "123                                                NaN     NaN    NaN  \n",
       "124                                                NaN     NaN    NaN  \n",
       "125                                                NaN     NaN    NaN  "
      ]
     },
     "execution_count": 47,
     "metadata": {},
     "output_type": "execute_result"
    }
   ],
   "source": [
    "two_thou_df.head(20)"
   ]
  },
  {
   "cell_type": "code",
   "execution_count": 39,
   "metadata": {
    "ExecuteTime": {
     "end_time": "2020-07-13T16:42:46.167650Z",
     "start_time": "2020-07-13T16:42:46.164345Z"
    }
   },
   "outputs": [
    {
     "data": {
      "text/plain": [
       "92"
      ]
     },
     "execution_count": 39,
     "metadata": {},
     "output_type": "execute_result"
    }
   ],
   "source": [
    "len(two_thou_df)"
   ]
  },
  {
   "cell_type": "code",
   "execution_count": 40,
   "metadata": {
    "ExecuteTime": {
     "end_time": "2020-07-13T16:42:57.784478Z",
     "start_time": "2020-07-13T16:42:57.779683Z"
    }
   },
   "outputs": [
    {
     "data": {
      "text/plain": [
       "30"
      ]
     },
     "execution_count": 40,
     "metadata": {},
     "output_type": "execute_result"
    }
   ],
   "source": [
    "len(two_thou_df[two_thou_df.DESC.notna()])"
   ]
  },
  {
   "cell_type": "code",
   "execution_count": 30,
   "metadata": {
    "ExecuteTime": {
     "end_time": "2020-07-13T16:41:31.342515Z",
     "start_time": "2020-07-13T16:41:31.338595Z"
    },
    "scrolled": true
   },
   "outputs": [
    {
     "data": {
      "text/plain": [
       "array(['Afghanistan', 'Bangladesh', 'Burundi', 'Cambodia',\n",
       "       'Central African Republic', 'Comoros', 'Fiji', 'Guinea-Bissau',\n",
       "       'Haiti', 'Iran', 'Iraq', 'Ivory Coast', 'Libya', 'Mauritania',\n",
       "       'Madagascar', 'Mali', 'Nepal', 'Niger', 'Solomon Islands',\n",
       "       'South Sudan', 'Thailand', 'Turkey', 'Ukraine', 'Venezuela',\n",
       "       'Yemen', 'Congo-Kinshasa'], dtype=object)"
      ]
     },
     "execution_count": 30,
     "metadata": {},
     "output_type": "execute_result"
    }
   ],
   "source": [
    "two_thou_df.COUNTRY.unique()"
   ]
  },
  {
   "cell_type": "code",
   "execution_count": 31,
   "metadata": {
    "ExecuteTime": {
     "end_time": "2020-07-13T16:41:34.553823Z",
     "start_time": "2020-07-13T16:41:34.549818Z"
    }
   },
   "outputs": [
    {
     "data": {
      "text/plain": [
       "26"
      ]
     },
     "execution_count": 31,
     "metadata": {},
     "output_type": "execute_result"
    }
   ],
   "source": [
    "len(two_thou_df.COUNTRY.unique())"
   ]
  },
  {
   "cell_type": "code",
   "execution_count": 43,
   "metadata": {
    "ExecuteTime": {
     "end_time": "2020-07-13T16:44:20.651581Z",
     "start_time": "2020-07-13T16:44:20.340714Z"
    },
    "scrolled": true
   },
   "outputs": [
    {
     "data": {
      "text/plain": [
       "<matplotlib.axes._subplots.AxesSubplot at 0x14164e6d8>"
      ]
     },
     "execution_count": 43,
     "metadata": {},
     "output_type": "execute_result"
    },
    {
     "data": {
      "image/png": "[encoded data removed]",
      "text/plain": [
       "<Figure size 576x396 with 1 Axes>"
      ]
     },
     "metadata": {},
     "output_type": "display_data"
    }
   ],
   "source": [
    "sns.countplot(two_thou_df.YEAR)"
   ]
  },
  {
   "cell_type": "code",
   "execution_count": 44,
   "metadata": {
    "ExecuteTime": {
     "end_time": "2020-07-13T16:44:52.168704Z",
     "start_time": "2020-07-13T16:44:51.899800Z"
    },
    "scrolled": true
   },
   "outputs": [
    {
     "data": {
      "text/plain": [
       "<matplotlib.axes._subplots.AxesSubplot at 0x13d222ef0>"
      ]
     },
     "execution_count": 44,
     "metadata": {},
     "output_type": "execute_result"
    },
    {
     "data": {
      "image/png": "[encoded data removed]",
      "text/plain": [
       "<Figure size 576x396 with 1 Axes>"
      ]
     },
     "metadata": {},
     "output_type": "display_data"
    }
   ],
   "source": [
    "sns.distplot(two_thou_df.MOBEGIN)"
   ]
  },
  {
   "cell_type": "markdown",
   "metadata": {},
   "source": [
    "## What's this spike around 100?"
   ]
  },
  {
   "cell_type": "code",
   "execution_count": 45,
   "metadata": {
    "ExecuteTime": {
     "end_time": "2020-07-13T16:45:09.076661Z",
     "start_time": "2020-07-13T16:45:08.763548Z"
    },
    "scrolled": true
   },
   "outputs": [
    {
     "data": {
      "text/plain": [
       "<matplotlib.axes._subplots.AxesSubplot at 0x13d252d68>"
      ]
     },
     "execution_count": 45,
     "metadata": {},
     "output_type": "execute_result"
    },
    {
     "data": {
      "image/png": "[encoded data removed]",
      "text/plain": [
       "<Figure size 576x396 with 1 Axes>"
      ]
     },
     "metadata": {},
     "output_type": "display_data"
    }
   ],
   "source": [
    "sns.distplot(two_thou_df.MOEND)"
   ]
  },
  {
   "cell_type": "code",
   "execution_count": 50,
   "metadata": {
    "ExecuteTime": {
     "end_time": "2020-07-13T16:47:05.173165Z",
     "start_time": "2020-07-13T16:47:05.169663Z"
    }
   },
   "outputs": [],
   "source": [
    "foo = two_thou_df[two_thou_df.MOEND == 99]"
   ]
  },
  {
   "cell_type": "code",
   "execution_count": 51,
   "metadata": {
    "ExecuteTime": {
     "end_time": "2020-07-13T16:47:09.958776Z",
     "start_time": "2020-07-13T16:47:09.939130Z"
    },
    "scrolled": true
   },
   "outputs": [
    {
     "data": {
      "text/html": [
       "<div>\n",
       "<style scoped>\n",
       "    .dataframe tbody tr th:only-of-type {\n",
       "        vertical-align: middle;\n",
       "    }\n",
       "\n",
       "    .dataframe tbody tr th {\n",
       "        vertical-align: top;\n",
       "    }\n",
       "\n",
       "    .dataframe thead th {\n",
       "        text-align: right;\n",
       "    }\n",
       "</style>\n",
       "<table border=\"1\" class=\"dataframe\">\n",
       "  <thead>\n",
       "    <tr style=\"text-align: right;\">\n",
       "      <th></th>\n",
       "      <th>COUNTRY</th>\n",
       "      <th>SCODE</th>\n",
       "      <th>CCODE</th>\n",
       "      <th>YEAR</th>\n",
       "      <th>MOBEGIN</th>\n",
       "      <th>YRBEGIN</th>\n",
       "      <th>MOEND</th>\n",
       "      <th>YREND</th>\n",
       "      <th>PTYPE</th>\n",
       "      <th>MAGFAIL</th>\n",
       "      <th>MAGCOL</th>\n",
       "      <th>MAGVIOL</th>\n",
       "      <th>MAGAVE</th>\n",
       "      <th>DESC</th>\n",
       "      <th>POLITYX</th>\n",
       "      <th>DESC2</th>\n",
       "    </tr>\n",
       "  </thead>\n",
       "  <tbody>\n",
       "    <tr>\n",
       "      <th>197</th>\n",
       "      <td>Libya</td>\n",
       "      <td>LIB</td>\n",
       "      <td>620</td>\n",
       "      <td>2011</td>\n",
       "      <td>8</td>\n",
       "      <td>2011</td>\n",
       "      <td>99</td>\n",
       "      <td>9999</td>\n",
       "      <td>3</td>\n",
       "      <td>4</td>\n",
       "      <td>1</td>\n",
       "      <td>4</td>\n",
       "      <td>3.0</td>\n",
       "      <td>Encouraged by popular uprisings in neighboring...</td>\n",
       "      <td>SF</td>\n",
       "      <td>1.0</td>\n",
       "    </tr>\n",
       "    <tr>\n",
       "      <th>198</th>\n",
       "      <td>Libya</td>\n",
       "      <td>LIB</td>\n",
       "      <td>620</td>\n",
       "      <td>2012</td>\n",
       "      <td>8</td>\n",
       "      <td>2011</td>\n",
       "      <td>99</td>\n",
       "      <td>9999</td>\n",
       "      <td>3</td>\n",
       "      <td>4</td>\n",
       "      <td>2</td>\n",
       "      <td>2</td>\n",
       "      <td>2.5</td>\n",
       "      <td>NaN</td>\n",
       "      <td>NaN</td>\n",
       "      <td>NaN</td>\n",
       "    </tr>\n",
       "    <tr>\n",
       "      <th>199</th>\n",
       "      <td>Libya</td>\n",
       "      <td>LIB</td>\n",
       "      <td>620</td>\n",
       "      <td>2013</td>\n",
       "      <td>8</td>\n",
       "      <td>2011</td>\n",
       "      <td>99</td>\n",
       "      <td>9999</td>\n",
       "      <td>3</td>\n",
       "      <td>4</td>\n",
       "      <td>2</td>\n",
       "      <td>2</td>\n",
       "      <td>2.5</td>\n",
       "      <td>NaN</td>\n",
       "      <td>NaN</td>\n",
       "      <td>NaN</td>\n",
       "    </tr>\n",
       "    <tr>\n",
       "      <th>200</th>\n",
       "      <td>Libya</td>\n",
       "      <td>LIB</td>\n",
       "      <td>620</td>\n",
       "      <td>2014</td>\n",
       "      <td>8</td>\n",
       "      <td>2011</td>\n",
       "      <td>99</td>\n",
       "      <td>9999</td>\n",
       "      <td>3</td>\n",
       "      <td>4</td>\n",
       "      <td>2</td>\n",
       "      <td>4</td>\n",
       "      <td>3.5</td>\n",
       "      <td>NaN</td>\n",
       "      <td>NaN</td>\n",
       "      <td>NaN</td>\n",
       "    </tr>\n",
       "    <tr>\n",
       "      <th>201</th>\n",
       "      <td>Libya</td>\n",
       "      <td>LIB</td>\n",
       "      <td>620</td>\n",
       "      <td>2015</td>\n",
       "      <td>8</td>\n",
       "      <td>2011</td>\n",
       "      <td>99</td>\n",
       "      <td>9999</td>\n",
       "      <td>3</td>\n",
       "      <td>3</td>\n",
       "      <td>2</td>\n",
       "      <td>4</td>\n",
       "      <td>3.0</td>\n",
       "      <td>NaN</td>\n",
       "      <td>NaN</td>\n",
       "      <td>NaN</td>\n",
       "    </tr>\n",
       "    <tr>\n",
       "      <th>202</th>\n",
       "      <td>Libya</td>\n",
       "      <td>LIB</td>\n",
       "      <td>620</td>\n",
       "      <td>2016</td>\n",
       "      <td>8</td>\n",
       "      <td>2011</td>\n",
       "      <td>99</td>\n",
       "      <td>9999</td>\n",
       "      <td>3</td>\n",
       "      <td>3</td>\n",
       "      <td>2</td>\n",
       "      <td>4</td>\n",
       "      <td>3.0</td>\n",
       "      <td>NaN</td>\n",
       "      <td>NaN</td>\n",
       "      <td>NaN</td>\n",
       "    </tr>\n",
       "    <tr>\n",
       "      <th>203</th>\n",
       "      <td>Libya</td>\n",
       "      <td>LIB</td>\n",
       "      <td>620</td>\n",
       "      <td>2017</td>\n",
       "      <td>8</td>\n",
       "      <td>2011</td>\n",
       "      <td>99</td>\n",
       "      <td>9999</td>\n",
       "      <td>3</td>\n",
       "      <td>3</td>\n",
       "      <td>2</td>\n",
       "      <td>4</td>\n",
       "      <td>3.0</td>\n",
       "      <td>NaN</td>\n",
       "      <td>NaN</td>\n",
       "      <td>NaN</td>\n",
       "    </tr>\n",
       "    <tr>\n",
       "      <th>204</th>\n",
       "      <td>Libya</td>\n",
       "      <td>LIB</td>\n",
       "      <td>620</td>\n",
       "      <td>2018</td>\n",
       "      <td>8</td>\n",
       "      <td>2011</td>\n",
       "      <td>99</td>\n",
       "      <td>9999</td>\n",
       "      <td>3</td>\n",
       "      <td>3</td>\n",
       "      <td>2</td>\n",
       "      <td>4</td>\n",
       "      <td>3.0</td>\n",
       "      <td>NaN</td>\n",
       "      <td>NaN</td>\n",
       "      <td>NaN</td>\n",
       "    </tr>\n",
       "    <tr>\n",
       "      <th>279</th>\n",
       "      <td>South Sudan</td>\n",
       "      <td>SSU</td>\n",
       "      <td>525</td>\n",
       "      <td>2013</td>\n",
       "      <td>12</td>\n",
       "      <td>2013</td>\n",
       "      <td>99</td>\n",
       "      <td>9999</td>\n",
       "      <td>3</td>\n",
       "      <td>4</td>\n",
       "      <td>2</td>\n",
       "      <td>4</td>\n",
       "      <td>3.5</td>\n",
       "      <td>A long-standing rivalry between President Salv...</td>\n",
       "      <td>SF</td>\n",
       "      <td>1.0</td>\n",
       "    </tr>\n",
       "    <tr>\n",
       "      <th>280</th>\n",
       "      <td>South Sudan</td>\n",
       "      <td>SSU</td>\n",
       "      <td>525</td>\n",
       "      <td>2014</td>\n",
       "      <td>12</td>\n",
       "      <td>2013</td>\n",
       "      <td>99</td>\n",
       "      <td>9999</td>\n",
       "      <td>3</td>\n",
       "      <td>4</td>\n",
       "      <td>2</td>\n",
       "      <td>4</td>\n",
       "      <td>3.5</td>\n",
       "      <td>NaN</td>\n",
       "      <td>NaN</td>\n",
       "      <td>NaN</td>\n",
       "    </tr>\n",
       "    <tr>\n",
       "      <th>281</th>\n",
       "      <td>South Sudan</td>\n",
       "      <td>SSU</td>\n",
       "      <td>525</td>\n",
       "      <td>2015</td>\n",
       "      <td>12</td>\n",
       "      <td>2013</td>\n",
       "      <td>99</td>\n",
       "      <td>9999</td>\n",
       "      <td>3</td>\n",
       "      <td>4</td>\n",
       "      <td>2</td>\n",
       "      <td>4</td>\n",
       "      <td>3.5</td>\n",
       "      <td>NaN</td>\n",
       "      <td>NaN</td>\n",
       "      <td>NaN</td>\n",
       "    </tr>\n",
       "    <tr>\n",
       "      <th>282</th>\n",
       "      <td>South Sudan</td>\n",
       "      <td>SSU</td>\n",
       "      <td>525</td>\n",
       "      <td>2016</td>\n",
       "      <td>12</td>\n",
       "      <td>2013</td>\n",
       "      <td>99</td>\n",
       "      <td>9999</td>\n",
       "      <td>3</td>\n",
       "      <td>4</td>\n",
       "      <td>2</td>\n",
       "      <td>4</td>\n",
       "      <td>3.5</td>\n",
       "      <td>NaN</td>\n",
       "      <td>NaN</td>\n",
       "      <td>NaN</td>\n",
       "    </tr>\n",
       "    <tr>\n",
       "      <th>283</th>\n",
       "      <td>South Sudan</td>\n",
       "      <td>SSU</td>\n",
       "      <td>525</td>\n",
       "      <td>2017</td>\n",
       "      <td>12</td>\n",
       "      <td>2013</td>\n",
       "      <td>99</td>\n",
       "      <td>9999</td>\n",
       "      <td>3</td>\n",
       "      <td>4</td>\n",
       "      <td>2</td>\n",
       "      <td>4</td>\n",
       "      <td>3.5</td>\n",
       "      <td>NaN</td>\n",
       "      <td>NaN</td>\n",
       "      <td>NaN</td>\n",
       "    </tr>\n",
       "    <tr>\n",
       "      <th>284</th>\n",
       "      <td>South Sudan</td>\n",
       "      <td>SSU</td>\n",
       "      <td>525</td>\n",
       "      <td>2018</td>\n",
       "      <td>12</td>\n",
       "      <td>2013</td>\n",
       "      <td>99</td>\n",
       "      <td>9999</td>\n",
       "      <td>3</td>\n",
       "      <td>4</td>\n",
       "      <td>2</td>\n",
       "      <td>4</td>\n",
       "      <td>3.5</td>\n",
       "      <td>NaN</td>\n",
       "      <td>NaN</td>\n",
       "      <td>NaN</td>\n",
       "    </tr>\n",
       "    <tr>\n",
       "      <th>321</th>\n",
       "      <td>Yemen</td>\n",
       "      <td>YEM</td>\n",
       "      <td>679</td>\n",
       "      <td>2014</td>\n",
       "      <td>9</td>\n",
       "      <td>2014</td>\n",
       "      <td>99</td>\n",
       "      <td>9999</td>\n",
       "      <td>3</td>\n",
       "      <td>3</td>\n",
       "      <td>2</td>\n",
       "      <td>2</td>\n",
       "      <td>2.5</td>\n",
       "      <td>Houthi (Zaydi) rebels join forces with support...</td>\n",
       "      <td>SF</td>\n",
       "      <td>1.0</td>\n",
       "    </tr>\n",
       "    <tr>\n",
       "      <th>322</th>\n",
       "      <td>Yemen</td>\n",
       "      <td>YEM</td>\n",
       "      <td>679</td>\n",
       "      <td>2015</td>\n",
       "      <td>9</td>\n",
       "      <td>2014</td>\n",
       "      <td>99</td>\n",
       "      <td>9999</td>\n",
       "      <td>3</td>\n",
       "      <td>4</td>\n",
       "      <td>3</td>\n",
       "      <td>4</td>\n",
       "      <td>3.5</td>\n",
       "      <td>NaN</td>\n",
       "      <td>NaN</td>\n",
       "      <td>NaN</td>\n",
       "    </tr>\n",
       "    <tr>\n",
       "      <th>323</th>\n",
       "      <td>Yemen</td>\n",
       "      <td>YEM</td>\n",
       "      <td>679</td>\n",
       "      <td>2016</td>\n",
       "      <td>9</td>\n",
       "      <td>2014</td>\n",
       "      <td>99</td>\n",
       "      <td>9999</td>\n",
       "      <td>3</td>\n",
       "      <td>4</td>\n",
       "      <td>3</td>\n",
       "      <td>4</td>\n",
       "      <td>3.5</td>\n",
       "      <td>NaN</td>\n",
       "      <td>NaN</td>\n",
       "      <td>NaN</td>\n",
       "    </tr>\n",
       "    <tr>\n",
       "      <th>324</th>\n",
       "      <td>Yemen</td>\n",
       "      <td>YEM</td>\n",
       "      <td>679</td>\n",
       "      <td>2017</td>\n",
       "      <td>9</td>\n",
       "      <td>2014</td>\n",
       "      <td>99</td>\n",
       "      <td>9999</td>\n",
       "      <td>3</td>\n",
       "      <td>4</td>\n",
       "      <td>3</td>\n",
       "      <td>4</td>\n",
       "      <td>3.5</td>\n",
       "      <td>NaN</td>\n",
       "      <td>NaN</td>\n",
       "      <td>NaN</td>\n",
       "    </tr>\n",
       "    <tr>\n",
       "      <th>325</th>\n",
       "      <td>Yemen</td>\n",
       "      <td>YEM</td>\n",
       "      <td>679</td>\n",
       "      <td>2018</td>\n",
       "      <td>9</td>\n",
       "      <td>2014</td>\n",
       "      <td>99</td>\n",
       "      <td>9999</td>\n",
       "      <td>3</td>\n",
       "      <td>4</td>\n",
       "      <td>3</td>\n",
       "      <td>4</td>\n",
       "      <td>3.5</td>\n",
       "      <td>NaN</td>\n",
       "      <td>NaN</td>\n",
       "      <td>NaN</td>\n",
       "    </tr>\n",
       "  </tbody>\n",
       "</table>\n",
       "</div>"
      ],
      "text/plain": [
       "         COUNTRY SCODE  CCODE  YEAR  MOBEGIN  YRBEGIN  MOEND  YREND  PTYPE  \\\n",
       "197        Libya   LIB    620  2011        8     2011     99   9999      3   \n",
       "198        Libya   LIB    620  2012        8     2011     99   9999      3   \n",
       "199        Libya   LIB    620  2013        8     2011     99   9999      3   \n",
       "200        Libya   LIB    620  2014        8     2011     99   9999      3   \n",
       "201        Libya   LIB    620  2015        8     2011     99   9999      3   \n",
       "202        Libya   LIB    620  2016        8     2011     99   9999      3   \n",
       "203        Libya   LIB    620  2017        8     2011     99   9999      3   \n",
       "204        Libya   LIB    620  2018        8     2011     99   9999      3   \n",
       "279  South Sudan   SSU    525  2013       12     2013     99   9999      3   \n",
       "280  South Sudan   SSU    525  2014       12     2013     99   9999      3   \n",
       "281  South Sudan   SSU    525  2015       12     2013     99   9999      3   \n",
       "282  South Sudan   SSU    525  2016       12     2013     99   9999      3   \n",
       "283  South Sudan   SSU    525  2017       12     2013     99   9999      3   \n",
       "284  South Sudan   SSU    525  2018       12     2013     99   9999      3   \n",
       "321        Yemen   YEM    679  2014        9     2014     99   9999      3   \n",
       "322        Yemen   YEM    679  2015        9     2014     99   9999      3   \n",
       "323        Yemen   YEM    679  2016        9     2014     99   9999      3   \n",
       "324        Yemen   YEM    679  2017        9     2014     99   9999      3   \n",
       "325        Yemen   YEM    679  2018        9     2014     99   9999      3   \n",
       "\n",
       "     MAGFAIL  MAGCOL  MAGVIOL  MAGAVE  \\\n",
       "197        4       1        4     3.0   \n",
       "198        4       2        2     2.5   \n",
       "199        4       2        2     2.5   \n",
       "200        4       2        4     3.5   \n",
       "201        3       2        4     3.0   \n",
       "202        3       2        4     3.0   \n",
       "203        3       2        4     3.0   \n",
       "204        3       2        4     3.0   \n",
       "279        4       2        4     3.5   \n",
       "280        4       2        4     3.5   \n",
       "281        4       2        4     3.5   \n",
       "282        4       2        4     3.5   \n",
       "283        4       2        4     3.5   \n",
       "284        4       2        4     3.5   \n",
       "321        3       2        2     2.5   \n",
       "322        4       3        4     3.5   \n",
       "323        4       3        4     3.5   \n",
       "324        4       3        4     3.5   \n",
       "325        4       3        4     3.5   \n",
       "\n",
       "                                                  DESC POLITYX  DESC2  \n",
       "197  Encouraged by popular uprisings in neighboring...      SF    1.0  \n",
       "198                                                NaN     NaN    NaN  \n",
       "199                                                NaN     NaN    NaN  \n",
       "200                                                NaN     NaN    NaN  \n",
       "201                                                NaN     NaN    NaN  \n",
       "202                                                NaN     NaN    NaN  \n",
       "203                                                NaN     NaN    NaN  \n",
       "204                                                NaN     NaN    NaN  \n",
       "279  A long-standing rivalry between President Salv...      SF    1.0  \n",
       "280                                                NaN     NaN    NaN  \n",
       "281                                                NaN     NaN    NaN  \n",
       "282                                                NaN     NaN    NaN  \n",
       "283                                                NaN     NaN    NaN  \n",
       "284                                                NaN     NaN    NaN  \n",
       "321  Houthi (Zaydi) rebels join forces with support...      SF    1.0  \n",
       "322                                                NaN     NaN    NaN  \n",
       "323                                                NaN     NaN    NaN  \n",
       "324                                                NaN     NaN    NaN  \n",
       "325                                                NaN     NaN    NaN  "
      ]
     },
     "execution_count": 51,
     "metadata": {},
     "output_type": "execute_result"
    }
   ],
   "source": [
    "foo"
   ]
  },
  {
   "cell_type": "markdown",
   "metadata": {},
   "source": [
    "## 19 years out of 92 cumulative in the 2000s were still ongoing on collection - TBD: How to deal with these years, coding of 99 would skew analysis"
   ]
  },
  {
   "cell_type": "code",
   "execution_count": 52,
   "metadata": {
    "ExecuteTime": {
     "end_time": "2020-07-13T16:57:02.958809Z",
     "start_time": "2020-07-13T16:57:02.955576Z"
    }
   },
   "outputs": [
    {
     "data": {
      "text/plain": [
       "19"
      ]
     },
     "execution_count": 52,
     "metadata": {},
     "output_type": "execute_result"
    }
   ],
   "source": [
    "len(foo)"
   ]
  },
  {
   "cell_type": "markdown",
   "metadata": {
    "ExecuteTime": {
     "end_time": "2020-07-13T16:59:28.469981Z",
     "start_time": "2020-07-13T16:59:28.467727Z"
    }
   },
   "source": [
    "# TBD: A thought - maybe focus just on beginning and ending months somehow? How to make this enough data?"
   ]
  },
  {
   "cell_type": "markdown",
   "metadata": {},
   "source": [
    "## Dropping columns: "
   ]
  },
  {
   "cell_type": "code",
   "execution_count": null,
   "metadata": {
    "ExecuteTime": {
     "end_time": "2020-07-13T15:44:33.423471Z",
     "start_time": "2020-07-13T15:44:33.419174Z"
    }
   },
   "outputs": [],
   "source": [
    "eda_df = eda_df.drop(['PTYPE', 'DESC2', \"SCODE\", \"CCODE\", \"DESC\"],axis=1)\n",
    "\n",
    "eda_df.columns"
   ]
  },
  {
   "cell_type": "markdown",
   "metadata": {},
   "source": [
    "# Focusing on duration - TBD: Survival analysis derived features for events that were short/long compared to the estimated time to death event\n",
    "- Time of beginning and end of regime change through YRBEGIN, YREND, MOBEGIN, MOEND features are of key interest"
   ]
  },
  {
   "cell_type": "markdown",
   "metadata": {},
   "source": [
    "## Creating 'time_begin' and 'time_end' features\n",
    "- These capture both month and year as Pandas datetime features\n",
    "- Problem: Always set to first day of month"
   ]
  },
  {
   "cell_type": "code",
   "execution_count": null,
   "metadata": {
    "ExecuteTime": {
     "end_time": "2020-07-13T15:44:33.452276Z",
     "start_time": "2020-07-13T15:44:33.424955Z"
    }
   },
   "outputs": [],
   "source": [
    "eda_df['time_begin'] = pd.to_datetime((eda_df['YRBEGIN'].astype(str)  + \"-\" +eda_df['MOBEGIN'].astype(str)), format='%Y-%m', errors=\"coerce\")\n",
    "eda_df['time_end'] = pd.to_datetime((eda_df['YREND'].astype(str)  + \"-\" +eda_df['MOEND'].astype(str)),  errors='coerce')\n",
    "eda_df['YEAR'] = pd.to_datetime(eda_df['YEAR'].astype(str), errors=\"coerce\")\n",
    "eda_df.head(10)"
   ]
  },
  {
   "cell_type": "markdown",
   "metadata": {},
   "source": [
    "- Dropping source beginning and end date columns "
   ]
  },
  {
   "cell_type": "code",
   "execution_count": null,
   "metadata": {
    "ExecuteTime": {
     "end_time": "2020-07-13T15:44:33.463115Z",
     "start_time": "2020-07-13T15:44:33.454141Z"
    },
    "scrolled": true
   },
   "outputs": [],
   "source": [
    "eda_df = eda_df.drop(['MOBEGIN','YRBEGIN','MOEND','YREND'],axis=1)\n",
    "\n",
    "eda_df.info()"
   ]
  },
  {
   "cell_type": "markdown",
   "metadata": {},
   "source": [
    "## Data spans 1952-03-01 to 2018-12-01 - TBD: More EDA"
   ]
  },
  {
   "cell_type": "code",
   "execution_count": null,
   "metadata": {
    "ExecuteTime": {
     "end_time": "2020-07-13T15:44:33.467843Z",
     "start_time": "2020-07-13T15:44:33.464593Z"
    }
   },
   "outputs": [],
   "source": [
    "eda_df.time_begin.min()"
   ]
  },
  {
   "cell_type": "code",
   "execution_count": null,
   "metadata": {
    "ExecuteTime": {
     "end_time": "2020-07-13T15:44:33.472646Z",
     "start_time": "2020-07-13T15:44:33.469239Z"
    }
   },
   "outputs": [],
   "source": [
    "eda_df.time_end.max()"
   ]
  },
  {
   "cell_type": "code",
   "execution_count": null,
   "metadata": {
    "ExecuteTime": {
     "end_time": "2020-07-13T15:44:33.758909Z",
     "start_time": "2020-07-13T15:44:33.474054Z"
    }
   },
   "outputs": [],
   "source": [
    "t_df = eda_df.copy()\n",
    "\n",
    "t_df = t_df.set_index(\"YEAR\")\n",
    "\n",
    "t_df[['MAGFAIL', \"MAGVIOL\"]].plot()"
   ]
  },
  {
   "cell_type": "markdown",
   "metadata": {},
   "source": [
    "## Making a DF of just the first country"
   ]
  },
  {
   "cell_type": "code",
   "execution_count": null,
   "metadata": {
    "ExecuteTime": {
     "end_time": "2020-07-13T15:44:33.773121Z",
     "start_time": "2020-07-13T15:44:33.760606Z"
    },
    "scrolled": true
   },
   "outputs": [],
   "source": [
    "afg_df = eda_df[eda_df['COUNTRY'] == \"Afghanistan\"]\n",
    "\n",
    "afg_df.head(10)"
   ]
  },
  {
   "cell_type": "code",
   "execution_count": null,
   "metadata": {
    "ExecuteTime": {
     "end_time": "2020-07-13T15:44:33.778008Z",
     "start_time": "2020-07-13T15:44:33.774909Z"
    }
   },
   "outputs": [],
   "source": [
    "len(afg_df)"
   ]
  },
  {
   "cell_type": "markdown",
   "metadata": {
    "ExecuteTime": {
     "end_time": "2020-07-08T15:24:46.385807Z",
     "start_time": "2020-07-08T15:24:46.382287Z"
    }
   },
   "source": [
    "### Trimming of non-numerical features"
   ]
  },
  {
   "cell_type": "code",
   "execution_count": null,
   "metadata": {
    "ExecuteTime": {
     "end_time": "2020-07-13T15:44:33.793828Z",
     "start_time": "2020-07-13T15:44:33.783652Z"
    }
   },
   "outputs": [],
   "source": [
    "afg_df = afg_df.drop([\"POLITYX\", \"time_begin\",\"time_end\"],axis=1)\n",
    "afg_df = afg_df.set_index(\"YEAR\")\n",
    "\n",
    "afg_df"
   ]
  },
  {
   "cell_type": "markdown",
   "metadata": {},
   "source": [
    "# Stock Data - Aerospace and Defense - focusing on one stock (LMT) for MVP\n",
    "## TBD: Comparison to overall market\n",
    "- Based off the iShares US Aerospace and Defense ETF "
   ]
  },
  {
   "cell_type": "code",
   "execution_count": 64,
   "metadata": {
    "ExecuteTime": {
     "end_time": "2020-07-13T17:12:55.792645Z",
     "start_time": "2020-07-13T17:12:55.790604Z"
    }
   },
   "outputs": [],
   "source": [
    "# in progress, only going to use companies that existed in 2000\n",
    "#etf = {\"BA\": \"Boeing\", \"RTX\": \"Raytheon\", \"LMT\": \"Lockheed Martin\", \"TDG\": 'Transdigm Group'},\n",
    "# \"GD\":\"General Dynamics\", \"NOC\":\"Northtrop Grumman\", \"TDY\": \"Teledyne\", \"LHX\": \"L3Harris\"}\n",
    "# will include alpha vantage call?"
   ]
  },
  {
   "cell_type": "markdown",
   "metadata": {},
   "source": [
    "# Lockheed Martin Data"
   ]
  },
  {
   "cell_type": "code",
   "execution_count": 56,
   "metadata": {
    "ExecuteTime": {
     "end_time": "2020-07-13T17:01:05.462712Z",
     "start_time": "2020-07-13T17:01:05.407634Z"
    },
    "scrolled": true
   },
   "outputs": [
    {
     "data": {
      "text/html": [
       "<div>\n",
       "<style scoped>\n",
       "    .dataframe tbody tr th:only-of-type {\n",
       "        vertical-align: middle;\n",
       "    }\n",
       "\n",
       "    .dataframe tbody tr th {\n",
       "        vertical-align: top;\n",
       "    }\n",
       "\n",
       "    .dataframe thead th {\n",
       "        text-align: right;\n",
       "    }\n",
       "</style>\n",
       "<table border=\"1\" class=\"dataframe\">\n",
       "  <thead>\n",
       "    <tr style=\"text-align: right;\">\n",
       "      <th></th>\n",
       "      <th>timestamp</th>\n",
       "      <th>open</th>\n",
       "      <th>high</th>\n",
       "      <th>low</th>\n",
       "      <th>close</th>\n",
       "      <th>volume</th>\n",
       "    </tr>\n",
       "  </thead>\n",
       "  <tbody>\n",
       "    <tr>\n",
       "      <th>0</th>\n",
       "      <td>2020-07-09</td>\n",
       "      <td>348.00</td>\n",
       "      <td>349.4850</td>\n",
       "      <td>339.18</td>\n",
       "      <td>339.96</td>\n",
       "      <td>1820253.0</td>\n",
       "    </tr>\n",
       "    <tr>\n",
       "      <th>1</th>\n",
       "      <td>2020-07-08</td>\n",
       "      <td>353.50</td>\n",
       "      <td>357.3000</td>\n",
       "      <td>348.63</td>\n",
       "      <td>350.23</td>\n",
       "      <td>1962500.0</td>\n",
       "    </tr>\n",
       "    <tr>\n",
       "      <th>2</th>\n",
       "      <td>2020-07-07</td>\n",
       "      <td>362.59</td>\n",
       "      <td>362.9200</td>\n",
       "      <td>352.78</td>\n",
       "      <td>353.27</td>\n",
       "      <td>1394900.0</td>\n",
       "    </tr>\n",
       "    <tr>\n",
       "      <th>3</th>\n",
       "      <td>2020-07-06</td>\n",
       "      <td>366.48</td>\n",
       "      <td>367.1200</td>\n",
       "      <td>360.84</td>\n",
       "      <td>362.59</td>\n",
       "      <td>1202300.0</td>\n",
       "    </tr>\n",
       "    <tr>\n",
       "      <th>4</th>\n",
       "      <td>2020-07-02</td>\n",
       "      <td>363.53</td>\n",
       "      <td>366.0699</td>\n",
       "      <td>360.69</td>\n",
       "      <td>362.00</td>\n",
       "      <td>1395705.0</td>\n",
       "    </tr>\n",
       "    <tr>\n",
       "      <th>...</th>\n",
       "      <td>...</td>\n",
       "      <td>...</td>\n",
       "      <td>...</td>\n",
       "      <td>...</td>\n",
       "      <td>...</td>\n",
       "      <td>...</td>\n",
       "    </tr>\n",
       "    <tr>\n",
       "      <th>5041</th>\n",
       "      <td>2000-07-13</td>\n",
       "      <td>25.06</td>\n",
       "      <td>26.0600</td>\n",
       "      <td>25.00</td>\n",
       "      <td>25.00</td>\n",
       "      <td>836100.0</td>\n",
       "    </tr>\n",
       "    <tr>\n",
       "      <th>5042</th>\n",
       "      <td>2000-07-12</td>\n",
       "      <td>24.19</td>\n",
       "      <td>25.1900</td>\n",
       "      <td>24.19</td>\n",
       "      <td>25.06</td>\n",
       "      <td>521500.0</td>\n",
       "    </tr>\n",
       "    <tr>\n",
       "      <th>5043</th>\n",
       "      <td>2000-07-11</td>\n",
       "      <td>24.94</td>\n",
       "      <td>25.0600</td>\n",
       "      <td>24.56</td>\n",
       "      <td>24.75</td>\n",
       "      <td>620000.0</td>\n",
       "    </tr>\n",
       "    <tr>\n",
       "      <th>5044</th>\n",
       "      <td>2000-07-10</td>\n",
       "      <td>25.31</td>\n",
       "      <td>25.4400</td>\n",
       "      <td>25.00</td>\n",
       "      <td>25.19</td>\n",
       "      <td>612000.0</td>\n",
       "    </tr>\n",
       "    <tr>\n",
       "      <th>5045</th>\n",
       "      <td>2000-07-07</td>\n",
       "      <td>25.13</td>\n",
       "      <td>25.3800</td>\n",
       "      <td>24.81</td>\n",
       "      <td>25.31</td>\n",
       "      <td>744700.0</td>\n",
       "    </tr>\n",
       "  </tbody>\n",
       "</table>\n",
       "<p>5046 rows × 6 columns</p>\n",
       "</div>"
      ],
      "text/plain": [
       "       timestamp    open      high     low   close     volume\n",
       "0     2020-07-09  348.00  349.4850  339.18  339.96  1820253.0\n",
       "1     2020-07-08  353.50  357.3000  348.63  350.23  1962500.0\n",
       "2     2020-07-07  362.59  362.9200  352.78  353.27  1394900.0\n",
       "3     2020-07-06  366.48  367.1200  360.84  362.59  1202300.0\n",
       "4     2020-07-02  363.53  366.0699  360.69  362.00  1395705.0\n",
       "...          ...     ...       ...     ...     ...        ...\n",
       "5041  2000-07-13   25.06   26.0600   25.00   25.00   836100.0\n",
       "5042  2000-07-12   24.19   25.1900   24.19   25.06   521500.0\n",
       "5043  2000-07-11   24.94   25.0600   24.56   24.75   620000.0\n",
       "5044  2000-07-10   25.31   25.4400   25.00   25.19   612000.0\n",
       "5045  2000-07-07   25.13   25.3800   24.81   25.31   744700.0\n",
       "\n",
       "[5046 rows x 6 columns]"
      ]
     },
     "execution_count": 56,
     "metadata": {},
     "output_type": "execute_result"
    }
   ],
   "source": [
    "# import io\n",
    "# import os\n",
    "# import csv\n",
    "# urlData = response.content\n",
    "#https://stackoverflow.com/questions/45978295/saving-a-downloaded-csv-file-using-python used\n",
    "\n",
    "# with open('lmt.csv', 'w') as f:\n",
    "#     writer = csv.writer(f)\n",
    "#     for line in response.iter_lines():\n",
    "#         writer.writerow(line.decode('utf-8').split(','))\n",
    "\n",
    "lmt = pd.read_csv(\"lmt.csv\")\n",
    "\n",
    "lmt"
   ]
  },
  {
   "cell_type": "code",
   "execution_count": 57,
   "metadata": {
    "ExecuteTime": {
     "end_time": "2020-07-13T17:01:05.904634Z",
     "start_time": "2020-07-13T17:01:05.898565Z"
    }
   },
   "outputs": [],
   "source": [
    "lmt.rename(columns={\"timestamp\":\"d\"},inplace=True)\n"
   ]
  },
  {
   "cell_type": "code",
   "execution_count": 58,
   "metadata": {
    "ExecuteTime": {
     "end_time": "2020-07-13T17:01:06.369709Z",
     "start_time": "2020-07-13T17:01:06.366199Z"
    }
   },
   "outputs": [
    {
     "data": {
      "text/plain": [
       "RangeIndex(start=0, stop=5046, step=1)"
      ]
     },
     "execution_count": 58,
     "metadata": {},
     "output_type": "execute_result"
    }
   ],
   "source": [
    "lmt.index"
   ]
  },
  {
   "cell_type": "code",
   "execution_count": 59,
   "metadata": {
    "ExecuteTime": {
     "end_time": "2020-07-13T17:01:06.794243Z",
     "start_time": "2020-07-13T17:01:06.773570Z"
    },
    "scrolled": false
   },
   "outputs": [
    {
     "data": {
      "text/plain": [
       "DatetimeIndex(['2000-07-07', '2000-07-10', '2000-07-11', '2000-07-12',\n",
       "               '2000-07-13', '2000-07-14', '2000-07-17', '2000-07-18',\n",
       "               '2000-07-19', '2000-07-20',\n",
       "               ...\n",
       "                      'NaT',        'NaT',        'NaT',        'NaT',\n",
       "                      'NaT',        'NaT',        'NaT',        'NaT',\n",
       "                      'NaT',        'NaT'],\n",
       "              dtype='datetime64[ns]', name='d', length=5046, freq=None)"
      ]
     },
     "execution_count": 59,
     "metadata": {},
     "output_type": "execute_result"
    }
   ],
   "source": [
    "lmt = lmt.set_index(pd.to_datetime(lmt['d'])).sort_index()\n",
    "\n",
    "lmt.index"
   ]
  },
  {
   "cell_type": "code",
   "execution_count": 60,
   "metadata": {
    "ExecuteTime": {
     "end_time": "2020-07-13T17:01:07.760677Z",
     "start_time": "2020-07-13T17:01:07.450449Z"
    }
   },
   "outputs": [
    {
     "data": {
      "image/png": "[encoded data removed]",
      "text/plain": [
       "<Figure size 576x396 with 1 Axes>"
      ]
     },
     "metadata": {},
     "output_type": "display_data"
    }
   ],
   "source": [
    "lmt['close'].plot(style='k.')\n",
    "ax = plt.gca()\n",
    "ax.set_title(\"Lockheed Martin Close Over Time: 2000-2020\")\n",
    "ax.set_xlabel(\"Year\")\n",
    "ax.set_ylabel(\"Closing price\")\n",
    "plt.savefig(\"lmttimeseries20002020.png\")\n",
    "plt.show()"
   ]
  },
  {
   "cell_type": "code",
   "execution_count": 61,
   "metadata": {
    "ExecuteTime": {
     "end_time": "2020-07-13T17:01:10.458964Z",
     "start_time": "2020-07-13T17:01:10.448582Z"
    }
   },
   "outputs": [
    {
     "data": {
      "text/plain": [
       "count    5033.000000\n",
       "mean      137.604949\n",
       "std       103.610883\n",
       "min        24.750000\n",
       "25%        62.910000\n",
       "50%        88.210000\n",
       "75%       202.120000\n",
       "max       439.850000\n",
       "Name: close, dtype: float64"
      ]
     },
     "execution_count": 61,
     "metadata": {},
     "output_type": "execute_result"
    }
   ],
   "source": [
    "lmt['close'].describe()"
   ]
  },
  {
   "cell_type": "code",
   "execution_count": 62,
   "metadata": {
    "ExecuteTime": {
     "end_time": "2020-07-13T17:01:11.685737Z",
     "start_time": "2020-07-13T17:01:11.424765Z"
    }
   },
   "outputs": [
    {
     "data": {
      "text/plain": [
       "<matplotlib.axes._subplots.AxesSubplot at 0x1418c4ac8>"
      ]
     },
     "execution_count": 62,
     "metadata": {},
     "output_type": "execute_result"
    },
    {
     "data": {
      "image/png": "[encoded data removed]",
      "text/plain": [
       "<Figure size 576x396 with 1 Axes>"
      ]
     },
     "metadata": {},
     "output_type": "display_data"
    }
   ],
   "source": [
    "lmt['close'].hist()"
   ]
  },
  {
   "cell_type": "code",
   "execution_count": 63,
   "metadata": {
    "ExecuteTime": {
     "end_time": "2020-07-13T17:01:23.511303Z",
     "start_time": "2020-07-13T17:01:23.201585Z"
    }
   },
   "outputs": [
    {
     "data": {
      "text/plain": [
       "<matplotlib.axes._subplots.AxesSubplot at 0x13d5b0908>"
      ]
     },
     "execution_count": 63,
     "metadata": {},
     "output_type": "execute_result"
    },
    {
     "data": {
      "image/png": "[encoded data removed]",
      "text/plain": [
       "<Figure size 576x396 with 1 Axes>"
      ]
     },
     "metadata": {},
     "output_type": "display_data"
    }
   ],
   "source": [
    "lmt['close'].plot(kind='kde')"
   ]
  },
  {
   "cell_type": "markdown",
   "metadata": {},
   "source": [
    "## Box and whisker"
   ]
  },
  {
   "cell_type": "code",
   "execution_count": null,
   "metadata": {},
   "outputs": [],
   "source": []
  },
  {
   "cell_type": "markdown",
   "metadata": {},
   "source": [
    "## Time series heat map"
   ]
  },
  {
   "cell_type": "code",
   "execution_count": null,
   "metadata": {},
   "outputs": [],
   "source": []
  },
  {
   "cell_type": "markdown",
   "metadata": {},
   "source": [
    "## Lag plot"
   ]
  },
  {
   "cell_type": "code",
   "execution_count": null,
   "metadata": {},
   "outputs": [],
   "source": []
  },
  {
   "cell_type": "markdown",
   "metadata": {},
   "source": [
    "## PACF ACF Plots"
   ]
  },
  {
   "cell_type": "code",
   "execution_count": null,
   "metadata": {},
   "outputs": [],
   "source": []
  },
  {
   "cell_type": "markdown",
   "metadata": {},
   "source": [
    "## Adding earliest date in dataframe to beginning of AFG time series\n",
    "- This means adding latest date in dataframe to each series is possible, but:\n",
    "##    - How would I forward fill and backfill these values given there's years and years of no events occurring(so 0s in MAGFAIL, MAGCOL, MAGVIOL, MAGAVE, etc.)"
   ]
  },
  {
   "cell_type": "markdown",
   "metadata": {},
   "source": [
    "# A possible solution with expanded dataframe- TBD: Refactor to only include 2000 on, group by SCODE instead because these names are too long\n",
    "## Is the country one hot encoding necessary with columns for each MAG on each country?"
   ]
  },
  {
   "cell_type": "code",
   "execution_count": null,
   "metadata": {
    "ExecuteTime": {
     "end_time": "2020-07-13T15:44:34.714246Z",
     "start_time": "2020-07-13T15:44:34.709727Z"
    },
    "scrolled": true
   },
   "outputs": [],
   "source": [
    "#create copy of df at present state\n",
    "group_df = eda_df.copy()\n",
    "\n",
    "#drop non numeric columns\n",
    "group_df = group_df.drop([\"POLITYX\", \"time_begin\",\"time_end\"],axis=1)\n",
    "\n",
    "# group by country into groupby object\n",
    "group = group_df.groupby([\"COUNTRY\"])"
   ]
  },
  {
   "cell_type": "code",
   "execution_count": null,
   "metadata": {
    "ExecuteTime": {
     "end_time": "2020-07-13T15:44:36.959749Z",
     "start_time": "2020-07-13T15:44:34.715674Z"
    },
    "scrolled": false
   },
   "outputs": [],
   "source": [
    "from functools import reduce\n",
    "\n",
    "#empty list of dataframes to be populated with groupby objects' dfs when modified\n",
    "grouped_dfs = []\n",
    "\n",
    "#iterate over groupby objects' component dataframes\n",
    "for k in group.groups.keys():\n",
    "    #reference to dataframe\n",
    "    gr = group.get_group(k)\n",
    "\n",
    "    #append 1950 and 2019 as beginning and end years\n",
    "    gr = gr.append(pd.Series([k,'2019-01-01',0,0,0,0], index=gr.columns),ignore_index=True) #adding first year\n",
    "    gr.loc[-1] = [k, '1950-01-01', 0,0,0,0]  # adding final year\n",
    "    gr.index = gr.index + 1  # shifting index to match\n",
    "    gr.sort_index(inplace=True) #sorting index back to sequential years\n",
    "    \n",
    "    #setting index to datetime YEAR with AS(year start) freq, fill empty years with 0\n",
    "    gr =gr.set_index(\"YEAR\").asfreq('AS')\n",
    "    gr = gr.fillna(0)\n",
    "    \n",
    "    #assign country as boolean instead of text variable with one hot encoding\n",
    "    gr = pd.get_dummies(gr, columns=['COUNTRY'], prefix='', prefix_sep='')\n",
    "    \n",
    "    #dropping a weird column that comes up \n",
    "    gr = gr.drop('0', axis=1, errors='ignore')\n",
    "    \n",
    "    #renaming columns programmatically to not collide in merge, appending name of country to numerical vals\n",
    "    gr.rename(columns = {'MAGFAIL':'MAGFAIL_'+k, \"MAGCOL\": \"MAGCOL_\"+k,\"MAGAVE\":\"MAGAVE_\"+k,\"MAGVIOL\": \"MAGVIOL_\"+k}, inplace = True)\n",
    "    gr = gr.reset_index()\n",
    "    \n",
    "    #add iterated df to dfs list\n",
    "    grouped_dfs.append(gr)\n",
    "\n",
    "#merge all dfs on YEAR and set index back to datetime \n",
    "df_merged = reduce(lambda  left,right: pd.merge(left,right,on=['YEAR'],\n",
    "                                            how='outer'), grouped_dfs).set_index(\"YEAR\")"
   ]
  },
  {
   "cell_type": "markdown",
   "metadata": {},
   "source": [
    "# Expanded dataframe with values-by-country"
   ]
  },
  {
   "cell_type": "code",
   "execution_count": null,
   "metadata": {
    "ExecuteTime": {
     "end_time": "2020-07-13T15:44:36.995752Z",
     "start_time": "2020-07-13T15:44:36.961219Z"
    },
    "scrolled": false
   },
   "outputs": [],
   "source": [
    "df_merged"
   ]
  },
  {
   "cell_type": "markdown",
   "metadata": {},
   "source": [
    "## Resampling to business day frequency and forward filling"
   ]
  },
  {
   "cell_type": "code",
   "execution_count": null,
   "metadata": {
    "ExecuteTime": {
     "end_time": "2020-07-13T15:44:37.294866Z",
     "start_time": "2020-07-13T15:44:36.997206Z"
    },
    "scrolled": true
   },
   "outputs": [],
   "source": [
    "df_merged = df_merged.resample(\"B\").ffill()\n",
    "#\"d\" for daily\n",
    "df_merged"
   ]
  },
  {
   "cell_type": "code",
   "execution_count": null,
   "metadata": {
    "ExecuteTime": {
     "end_time": "2020-07-13T15:44:37.298667Z",
     "start_time": "2020-07-13T15:44:37.296344Z"
    }
   },
   "outputs": [],
   "source": [
    "df_merged.index = df_merged.index.rename(\"d\")"
   ]
  },
  {
   "cell_type": "code",
   "execution_count": null,
   "metadata": {
    "ExecuteTime": {
     "end_time": "2020-07-13T15:44:37.328108Z",
     "start_time": "2020-07-13T15:44:37.300055Z"
    }
   },
   "outputs": [],
   "source": [
    "df_merged"
   ]
  },
  {
   "cell_type": "markdown",
   "metadata": {},
   "source": [
    "# Feature Engineering - TBD"
   ]
  },
  {
   "cell_type": "code",
   "execution_count": null,
   "metadata": {},
   "outputs": [],
   "source": []
  },
  {
   "cell_type": "markdown",
   "metadata": {},
   "source": [
    "# Adding more data - TBD: Country/region data (region as a one-hot, population?, GDP, oil production, military strength"
   ]
  },
  {
   "cell_type": "code",
   "execution_count": null,
   "metadata": {},
   "outputs": [],
   "source": []
  },
  {
   "cell_type": "markdown",
   "metadata": {},
   "source": [
    "## TBD: EDA and Preprocess, Feature Engineering"
   ]
  },
  {
   "cell_type": "code",
   "execution_count": null,
   "metadata": {
    "ExecuteTime": {
     "end_time": "2020-07-13T15:44:37.376799Z",
     "start_time": "2020-07-13T15:44:37.329461Z"
    }
   },
   "outputs": [],
   "source": [
    "stock_regime_df = df_merged['2000-07-07':'2018-12-31']\n",
    "\n",
    "stock_regime_df"
   ]
  },
  {
   "cell_type": "code",
   "execution_count": null,
   "metadata": {
    "ExecuteTime": {
     "end_time": "2020-07-13T15:44:37.404806Z",
     "start_time": "2020-07-13T15:44:37.378264Z"
    }
   },
   "outputs": [],
   "source": [
    "stock_regime_df"
   ]
  },
  {
   "cell_type": "code",
   "execution_count": null,
   "metadata": {
    "ExecuteTime": {
     "end_time": "2020-07-13T15:44:37.408870Z",
     "start_time": "2020-07-13T15:44:37.406217Z"
    }
   },
   "outputs": [],
   "source": [
    "trunc_lmt = lmt.copy()"
   ]
  },
  {
   "cell_type": "code",
   "execution_count": null,
   "metadata": {
    "ExecuteTime": {
     "end_time": "2020-07-13T15:44:37.422885Z",
     "start_time": "2020-07-13T15:44:37.410198Z"
    }
   },
   "outputs": [],
   "source": [
    "trunc_lmt"
   ]
  },
  {
   "cell_type": "code",
   "execution_count": null,
   "metadata": {
    "ExecuteTime": {
     "end_time": "2020-07-13T15:44:37.439162Z",
     "start_time": "2020-07-13T15:44:37.424404Z"
    },
    "scrolled": true
   },
   "outputs": [],
   "source": [
    "trunc_lmt = trunc_lmt['2000-07-07':'2019-01-01']\n",
    "\n",
    "trunc_lmt"
   ]
  },
  {
   "cell_type": "code",
   "execution_count": null,
   "metadata": {
    "ExecuteTime": {
     "end_time": "2020-07-13T15:44:37.444955Z",
     "start_time": "2020-07-13T15:44:37.440584Z"
    }
   },
   "outputs": [],
   "source": [
    "trunc_lmt.index"
   ]
  },
  {
   "cell_type": "markdown",
   "metadata": {},
   "source": [
    "# Merging stock and adverse regime change data"
   ]
  },
  {
   "cell_type": "code",
   "execution_count": null,
   "metadata": {
    "ExecuteTime": {
     "end_time": "2020-07-13T15:44:37.480490Z",
     "start_time": "2020-07-13T15:44:37.446523Z"
    },
    "scrolled": true
   },
   "outputs": [],
   "source": [
    "stonks = pd.merge(trunc_lmt, stock_regime_df, left_index=True, right_index=True)\n",
    "\n",
    "stonks"
   ]
  },
  {
   "cell_type": "code",
   "execution_count": null,
   "metadata": {
    "ExecuteTime": {
     "end_time": "2020-07-13T15:44:37.531484Z",
     "start_time": "2020-07-13T15:44:37.482289Z"
    },
    "scrolled": false
   },
   "outputs": [],
   "source": [
    "stonks.drop('d', axis=1, inplace=True)\n",
    "\n",
    "stonks"
   ]
  },
  {
   "cell_type": "code",
   "execution_count": null,
   "metadata": {
    "ExecuteTime": {
     "end_time": "2020-07-13T15:44:37.536980Z",
     "start_time": "2020-07-13T15:44:37.533101Z"
    },
    "scrolled": true
   },
   "outputs": [],
   "source": [
    "ave_col = [col for col in stonks.columns if 'MAGAVE' in col]\n",
    "\n",
    "ave_col"
   ]
  },
  {
   "cell_type": "code",
   "execution_count": null,
   "metadata": {
    "ExecuteTime": {
     "end_time": "2020-07-13T15:44:37.576608Z",
     "start_time": "2020-07-13T15:44:37.538640Z"
    }
   },
   "outputs": [],
   "source": [
    "stonks['mean_ave'] = stonks[ave_col].mean(axis=1)\n",
    "\n",
    "stonks.head(20)"
   ]
  },
  {
   "cell_type": "code",
   "execution_count": null,
   "metadata": {
    "ExecuteTime": {
     "end_time": "2020-07-13T15:44:37.834033Z",
     "start_time": "2020-07-13T15:44:37.577971Z"
    },
    "scrolled": true
   },
   "outputs": [],
   "source": [
    "stonks['mean_ave'].plot()"
   ]
  },
  {
   "cell_type": "markdown",
   "metadata": {
    "ExecuteTime": {
     "end_time": "2020-07-09T19:50:58.512432Z",
     "start_time": "2020-07-09T19:50:58.510106Z"
    }
   },
   "source": [
    "# EDA of stock data - Lockheed Martin"
   ]
  },
  {
   "cell_type": "code",
   "execution_count": null,
   "metadata": {
    "ExecuteTime": {
     "end_time": "2020-07-13T15:44:38.153468Z",
     "start_time": "2020-07-13T15:44:37.835421Z"
    }
   },
   "outputs": [],
   "source": [
    "stonks.close.rolling(30).mean().plot(label=\"30 Day Interval Rolling Mean\")\n",
    "stonks.close.rolling(30).std().plot(label=\"30 Day Interval Stvd\")\n",
    "stonks.close.plot(label=\"30 Day Interval Close Price\")\n",
    "plt.legend()"
   ]
  },
  {
   "cell_type": "code",
   "execution_count": null,
   "metadata": {
    "ExecuteTime": {
     "end_time": "2020-07-13T15:44:39.219969Z",
     "start_time": "2020-07-13T15:44:38.155014Z"
    },
    "scrolled": false
   },
   "outputs": [],
   "source": [
    "from statsmodels.tsa.seasonal import seasonal_decompose\n",
    "\n",
    "dec = seasonal_decompose(stonks.close, period=365, model='mul')\n",
    "\n",
    "fig= dec.plot()\n",
    "plt.suptitle('Lockheed Martin Stock Data Close Decomposition from 2002-2018, Yearly',horizontalalignment='center', verticalalignment=\"bottom\",fontsize=14)\n",
    "plt.savefig(\"OG_timeseries.png\")\n",
    "plt.tight_layout()\n",
    "plt.show()"
   ]
  },
  {
   "cell_type": "code",
   "execution_count": null,
   "metadata": {
    "ExecuteTime": {
     "end_time": "2020-07-13T15:44:39.402120Z",
     "start_time": "2020-07-13T15:44:39.222144Z"
    }
   },
   "outputs": [],
   "source": [
    "stonks['close']['2014-01-01':'2018-12-31'].plot(figsize=(12,4),ls='-.')\n",
    "plt.show()"
   ]
  },
  {
   "cell_type": "markdown",
   "metadata": {},
   "source": [
    "## TBD: Examine by time slices\n",
    "from statsmodels.graphics.tsaplots import month_plot,quarter_plot"
   ]
  },
  {
   "cell_type": "code",
   "execution_count": null,
   "metadata": {},
   "outputs": [],
   "source": []
  },
  {
   "cell_type": "markdown",
   "metadata": {},
   "source": [
    "## TBD: Smoothing methods plots"
   ]
  },
  {
   "cell_type": "code",
   "execution_count": null,
   "metadata": {},
   "outputs": [],
   "source": []
  },
  {
   "cell_type": "markdown",
   "metadata": {},
   "source": [
    "## TBD: ACF and PACF"
   ]
  },
  {
   "cell_type": "code",
   "execution_count": null,
   "metadata": {},
   "outputs": [],
   "source": []
  },
  {
   "cell_type": "markdown",
   "metadata": {},
   "source": [
    "## Anomaly plotting"
   ]
  },
  {
   "cell_type": "code",
   "execution_count": null,
   "metadata": {
    "ExecuteTime": {
     "end_time": "2020-07-13T15:44:39.769696Z",
     "start_time": "2020-07-13T15:44:39.403466Z"
    },
    "scrolled": false
   },
   "outputs": [],
   "source": [
    "from adtk.visualization import plot\n",
    "\n",
    "close = stonks.close\n",
    "plot(close)"
   ]
  },
  {
   "cell_type": "code",
   "execution_count": null,
   "metadata": {
    "ExecuteTime": {
     "end_time": "2020-07-13T15:44:40.267877Z",
     "start_time": "2020-07-13T15:44:39.772442Z"
    },
    "scrolled": true
   },
   "outputs": [],
   "source": [
    "from adtk.detector import LevelShiftAD\n",
    "level_shift_ad = LevelShiftAD(c=6.0, side='both', window=5)\n",
    "anomalies = level_shift_ad.fit_detect(close)\n",
    "plot(close, anomaly=anomalies, anomaly_color='red');"
   ]
  },
  {
   "cell_type": "code",
   "execution_count": null,
   "metadata": {
    "ExecuteTime": {
     "end_time": "2020-07-13T15:44:43.344455Z",
     "start_time": "2020-07-13T15:44:40.269846Z"
    },
    "scrolled": true
   },
   "outputs": [],
   "source": [
    "from adtk.detector import MinClusterDetector\n",
    "from sklearn.cluster import KMeans\n",
    "min_cluster_detector = MinClusterDetector(KMeans(n_clusters=2))\n",
    "anomalies = min_cluster_detector.fit_detect(stonks[['close','mean_ave']])\n",
    "plot(stonks[['close', 'mean_ave']], anomaly=anomalies, ts_linewidth=1, ts_markersize=3, anomaly_color='red', anomaly_alpha=0.3, curve_group='all')"
   ]
  },
  {
   "cell_type": "markdown",
   "metadata": {},
   "source": [
    "# EDA of merged regime change variables"
   ]
  },
  {
   "cell_type": "code",
   "execution_count": null,
   "metadata": {},
   "outputs": [],
   "source": []
  },
  {
   "cell_type": "markdown",
   "metadata": {},
   "source": [
    "# EDA of Country/Region variables"
   ]
  },
  {
   "cell_type": "code",
   "execution_count": null,
   "metadata": {},
   "outputs": [],
   "source": []
  },
  {
   "cell_type": "code",
   "execution_count": null,
   "metadata": {},
   "outputs": [],
   "source": []
  },
  {
   "cell_type": "markdown",
   "metadata": {},
   "source": [
    "# Time Series Correlations"
   ]
  },
  {
   "cell_type": "code",
   "execution_count": null,
   "metadata": {},
   "outputs": [],
   "source": []
  },
  {
   "cell_type": "markdown",
   "metadata": {},
   "source": [
    "## Visual spot check"
   ]
  },
  {
   "cell_type": "code",
   "execution_count": null,
   "metadata": {},
   "outputs": [],
   "source": []
  },
  {
   "cell_type": "markdown",
   "metadata": {},
   "source": [
    "## Pearson and Spearman Correlation Comparisons"
   ]
  },
  {
   "cell_type": "code",
   "execution_count": null,
   "metadata": {},
   "outputs": [],
   "source": []
  },
  {
   "cell_type": "markdown",
   "metadata": {},
   "source": [
    "### Matrices and Maps"
   ]
  },
  {
   "cell_type": "code",
   "execution_count": null,
   "metadata": {},
   "outputs": [],
   "source": []
  },
  {
   "cell_type": "markdown",
   "metadata": {},
   "source": [
    "# Modeling, Forecasting and comparisons"
   ]
  },
  {
   "cell_type": "code",
   "execution_count": null,
   "metadata": {},
   "outputs": [],
   "source": []
  },
  {
   "cell_type": "markdown",
   "metadata": {
    "ExecuteTime": {
     "end_time": "2020-07-10T01:20:32.872994Z",
     "start_time": "2020-07-10T01:20:32.870949Z"
    }
   },
   "source": [
    "## Off moving averages naively"
   ]
  },
  {
   "cell_type": "code",
   "execution_count": null,
   "metadata": {},
   "outputs": [],
   "source": []
  },
  {
   "cell_type": "markdown",
   "metadata": {
    "ExecuteTime": {
     "end_time": "2020-07-10T01:31:59.520439Z",
     "start_time": "2020-07-10T01:31:59.518101Z"
    }
   },
   "source": [
    "## Dealing with stationarity - differencing and lagging, Augmented Dickey-Fuller"
   ]
  },
  {
   "cell_type": "code",
   "execution_count": null,
   "metadata": {},
   "outputs": [],
   "source": []
  },
  {
   "cell_type": "markdown",
   "metadata": {
    "ExecuteTime": {
     "end_time": "2020-07-10T01:32:05.575545Z",
     "start_time": "2020-07-10T01:32:05.573475Z"
    }
   },
   "source": [
    "## Granger Causality"
   ]
  },
  {
   "cell_type": "code",
   "execution_count": null,
   "metadata": {},
   "outputs": [],
   "source": []
  },
  {
   "cell_type": "markdown",
   "metadata": {},
   "source": [
    "## ARIMA Modeling"
   ]
  },
  {
   "cell_type": "code",
   "execution_count": null,
   "metadata": {},
   "outputs": [],
   "source": []
  },
  {
   "cell_type": "markdown",
   "metadata": {},
   "source": [
    "## VAR, VARIMA, VARIMAX(?)"
   ]
  },
  {
   "cell_type": "code",
   "execution_count": null,
   "metadata": {},
   "outputs": [],
   "source": []
  },
  {
   "cell_type": "markdown",
   "metadata": {},
   "source": [
    "## Monte Carlos"
   ]
  },
  {
   "cell_type": "code",
   "execution_count": null,
   "metadata": {},
   "outputs": [],
   "source": []
  },
  {
   "cell_type": "markdown",
   "metadata": {},
   "source": [
    "## Prophet"
   ]
  },
  {
   "cell_type": "code",
   "execution_count": null,
   "metadata": {},
   "outputs": [],
   "source": []
  },
  {
   "cell_type": "markdown",
   "metadata": {},
   "source": [
    "# Framing as a supervised learning problem"
   ]
  },
  {
   "cell_type": "code",
   "execution_count": null,
   "metadata": {},
   "outputs": [],
   "source": []
  },
  {
   "cell_type": "code",
   "execution_count": null,
   "metadata": {},
   "outputs": [],
   "source": []
  },
  {
   "cell_type": "markdown",
   "metadata": {},
   "source": [
    "# Finally: Deep Learning with LSTMs, Embedding of Entities, Autoencoders for Anomaly Detection, Markov Models"
   ]
  },
  {
   "cell_type": "code",
   "execution_count": null,
   "metadata": {},
   "outputs": [],
   "source": []
  },
  {
   "cell_type": "code",
   "execution_count": null,
   "metadata": {},
   "outputs": [],
   "source": []
  },
  {
   "cell_type": "markdown",
   "metadata": {},
   "source": [
    "# Appendix: Financial Techniques- Portfolio Allocation, etc."
   ]
  },
  {
   "cell_type": "code",
   "execution_count": null,
   "metadata": {},
   "outputs": [],
   "source": []
  },
  {
   "cell_type": "code",
   "execution_count": null,
   "metadata": {},
   "outputs": [],
   "source": []
  },
  {
   "cell_type": "markdown",
   "metadata": {},
   "source": [
    "# Geographical plotting test - just the most turbulent year\n",
    "- Code adapted from https://medium.com/datadriveninvestor/visualising-geospatial-data-with-python-d3b1c519f31"
   ]
  },
  {
   "cell_type": "code",
   "execution_count": null,
   "metadata": {
    "ExecuteTime": {
     "end_time": "2020-07-13T15:44:43.348892Z",
     "start_time": "2020-07-13T15:44:43.346602Z"
    }
   },
   "outputs": [],
   "source": [
    "# import folium\n",
    "# import pandas as pd\n",
    "# #Setting up the country co-ordinates\n",
    "# country_geo = 'world-countries.json'"
   ]
  },
  {
   "cell_type": "code",
   "execution_count": null,
   "metadata": {
    "ExecuteTime": {
     "end_time": "2020-07-13T15:44:43.353340Z",
     "start_time": "2020-07-13T15:44:43.350964Z"
    },
    "scrolled": true
   },
   "outputs": [],
   "source": [
    "# #looking for most common year to plot\n",
    "# df.YEAR.value_counts()"
   ]
  },
  {
   "cell_type": "code",
   "execution_count": null,
   "metadata": {
    "ExecuteTime": {
     "end_time": "2020-07-13T15:44:43.356523Z",
     "start_time": "2020-07-13T15:44:43.354835Z"
    }
   },
   "outputs": [],
   "source": [
    "# crisis_year = 1996\n",
    "\n",
    "# mask = df['YEAR'].isin([crisis_year])\n",
    "\n",
    "# # apply our mask\n",
    "# stage = df[mask]\n",
    "# stage.head()"
   ]
  },
  {
   "cell_type": "code",
   "execution_count": null,
   "metadata": {
    "ExecuteTime": {
     "end_time": "2020-07-13T15:44:43.359723Z",
     "start_time": "2020-07-13T15:44:43.357948Z"
    },
    "scrolled": true
   },
   "outputs": [],
   "source": [
    "# #Creating a data frame with just the country codes and the values we want plotted.\n",
    "# data_to_plot = stage[['SCODE','MAGVIOL']]\n",
    "# data_to_plot.head()"
   ]
  },
  {
   "cell_type": "code",
   "execution_count": null,
   "metadata": {
    "ExecuteTime": {
     "end_time": "2020-07-13T15:44:43.362969Z",
     "start_time": "2020-07-13T15:44:43.361030Z"
    }
   },
   "outputs": [],
   "source": [
    "# # Setup a folium map at a high-level zoom \n",
    "# map = folium.Map(location=[50, 0], zoom_start=1.25)\n",
    "\n",
    "# # choropleth maps bind Pandas Data Frames and json geometries. \n",
    "# #This allows us to quickly visualize data combinations\n",
    "# map.choropleth(geo_data=country_geo, data=data_to_plot,\n",
    "#              columns=['SCODE', 'MAGVIOL'],\n",
    "#              key_on='feature.id',\n",
    "#              fill_color='BuPu', fill_opacity=0.7, line_opacity=0.2,\n",
    "#              legend_name='Magnitude of Violence out of 4 involved in Adverse Regime Change Event')\n",
    "\n",
    "# map.save('index.html')\n",
    "# # Import the Folium interactive html file\n",
    "\n",
    "\n",
    "# from IPython.display import HTML\n",
    "# HTML('<iframe src=index.html width=700 height=450></iframe>')"
   ]
  },
  {
   "cell_type": "markdown",
   "metadata": {
    "ExecuteTime": {
     "end_time": "2020-07-05T04:33:04.710791Z",
     "start_time": "2020-07-05T04:33:04.708305Z"
    }
   },
   "source": [
    "# Survival analysis - TO DO: By country/region\n",
    "## First converting time_begin and time_end to accepted Lifelines format"
   ]
  },
  {
   "cell_type": "code",
   "execution_count": null,
   "metadata": {
    "ExecuteTime": {
     "end_time": "2020-07-13T15:44:43.365873Z",
     "start_time": "2020-07-13T15:44:43.364256Z"
    },
    "scrolled": true
   },
   "outputs": [],
   "source": [
    "# from lifelines.utils import datetimes_to_durations\n",
    "\n",
    "# start_dates = dum_df['time_begin'].to_list()\n",
    "# end_dates = dum_df['time_end'].to_list()\n",
    "\n",
    "# T, E = datetimes_to_durations(start_dates, end_dates, freq=\"M\")"
   ]
  },
  {
   "cell_type": "code",
   "execution_count": null,
   "metadata": {
    "ExecuteTime": {
     "end_time": "2020-07-13T15:44:43.368796Z",
     "start_time": "2020-07-13T15:44:43.367047Z"
    },
    "scrolled": true
   },
   "outputs": [],
   "source": [
    "# start_dates"
   ]
  },
  {
   "cell_type": "code",
   "execution_count": null,
   "metadata": {
    "ExecuteTime": {
     "end_time": "2020-07-13T15:44:43.371932Z",
     "start_time": "2020-07-13T15:44:43.370154Z"
    }
   },
   "outputs": [],
   "source": [
    "# end_dates"
   ]
  },
  {
   "cell_type": "markdown",
   "metadata": {},
   "source": [
    "## Kaplan Meier Fitter\n",
    "- Estimate of the survival function, taking T as a random lifetime taken from population under study (time a couple is married, user time to enter a webpage - an infinite time if a user never does, etc.) that defines the probability of surviving past T\n",
    "    - http://en.wikipedia.org/wiki/Kaplan%E2%80%93Meier_estimator"
   ]
  },
  {
   "cell_type": "code",
   "execution_count": null,
   "metadata": {
    "ExecuteTime": {
     "end_time": "2020-07-13T15:44:43.374842Z",
     "start_time": "2020-07-13T15:44:43.373160Z"
    }
   },
   "outputs": [],
   "source": [
    "# from lifelines import KaplanMeierFitter\n",
    "# kmf = KaplanMeierFitter()\n",
    "# kmf.fit(T, event_observed=E)"
   ]
  },
  {
   "cell_type": "markdown",
   "metadata": {},
   "source": [
    "### Plotting results in months"
   ]
  },
  {
   "cell_type": "code",
   "execution_count": null,
   "metadata": {
    "ExecuteTime": {
     "end_time": "2020-07-13T15:44:43.377847Z",
     "start_time": "2020-07-13T15:44:43.376076Z"
    }
   },
   "outputs": [],
   "source": [
    "# kmf.survival_function_.plot()"
   ]
  },
  {
   "cell_type": "markdown",
   "metadata": {},
   "source": [
    "- With confidence intervals"
   ]
  },
  {
   "cell_type": "code",
   "execution_count": null,
   "metadata": {
    "ExecuteTime": {
     "end_time": "2020-07-13T15:44:43.380765Z",
     "start_time": "2020-07-13T15:44:43.379109Z"
    },
    "scrolled": true
   },
   "outputs": [],
   "source": [
    "# kmf.plot()\n",
    "# plt.savefig(\"kmf_conf_plot.png\")\n",
    "# plt.show()"
   ]
  },
  {
   "cell_type": "markdown",
   "metadata": {},
   "source": [
    "- Time at which 50% of regime changes will have ended"
   ]
  },
  {
   "cell_type": "code",
   "execution_count": null,
   "metadata": {
    "ExecuteTime": {
     "end_time": "2020-07-13T15:44:43.383963Z",
     "start_time": "2020-07-13T15:44:43.382134Z"
    }
   },
   "outputs": [],
   "source": [
    "# kmf.median_survival_time_"
   ]
  },
  {
   "cell_type": "markdown",
   "metadata": {},
   "source": [
    "## NelsonAalenFitter for cumulative hazard function"
   ]
  },
  {
   "cell_type": "code",
   "execution_count": null,
   "metadata": {
    "ExecuteTime": {
     "end_time": "2020-07-13T15:44:43.396265Z",
     "start_time": "2020-07-13T15:44:43.394281Z"
    }
   },
   "outputs": [],
   "source": [
    "# from lifelines import NelsonAalenFitter\n",
    "# naf = NelsonAalenFitter()\n",
    "\n",
    "# naf.fit(T,event_observed=E)"
   ]
  },
  {
   "cell_type": "code",
   "execution_count": null,
   "metadata": {
    "ExecuteTime": {
     "end_time": "2020-07-13T15:44:43.399930Z",
     "start_time": "2020-07-13T15:44:43.398071Z"
    }
   },
   "outputs": [],
   "source": [
    "# print(naf.cumulative_hazard_.head())\n",
    "# naf.plot()"
   ]
  },
  {
   "cell_type": "markdown",
   "metadata": {},
   "source": [
    "# TO DO: implementing right/left censorship of birth/death events via. groupby country and time resampling"
   ]
  },
  {
   "cell_type": "markdown",
   "metadata": {},
   "source": [
    "# Geographic plotting"
   ]
  },
  {
   "cell_type": "code",
   "execution_count": null,
   "metadata": {
    "ExecuteTime": {
     "end_time": "2020-07-13T15:44:43.403198Z",
     "start_time": "2020-07-13T15:44:43.401492Z"
    }
   },
   "outputs": [],
   "source": [
    "# it is a surprise tool that will be useful later meme goes here\n",
    "# from folium.plugins import TimeSliderChoropleth"
   ]
  }
 ],
 "metadata": {
  "kernelspec": {
   "display_name": "Python [conda env:learn-env] *",
   "language": "python",
   "name": "conda-env-learn-env-py"
  },
  "language_info": {
   "codemirror_mode": {
    "name": "ipython",
    "version": 3
   },
   "file_extension": ".py",
   "mimetype": "text/x-python",
   "name": "python",
   "nbconvert_exporter": "python",
   "pygments_lexer": "ipython3",
   "version": "3.6.9"
  },
  "toc": {
   "base_numbering": 1,
   "nav_menu": {},
   "number_sections": true,
   "sideBar": true,
   "skip_h1_title": false,
   "title_cell": "Table of Contents",
   "title_sidebar": "Contents",
   "toc_cell": true,
   "toc_position": {},
   "toc_section_display": true,
   "toc_window_display": true
  }
 },
 "nbformat": 4,
 "nbformat_minor": 2
}
