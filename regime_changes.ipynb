{
 "cells": [
  {
   "cell_type": "markdown",
   "metadata": {
    "toc": true
   },
   "source": [
    "<h1>Table of Contents<span class=\"tocSkip\"></span></h1>\n",
    "<div class=\"toc\"><ul class=\"toc-item\"><li><span><a href=\"#Survival-Analysis-of-Adverse-Regime-Changes:\" data-toc-modified-id=\"Survival-Analysis-of-Adverse-Regime-Changes:-1\"><span class=\"toc-item-num\">1&nbsp;&nbsp;</span>Survival Analysis of Adverse Regime Changes:</a></span></li><li><span><a href=\"#Imports-and-reading-in-data\" data-toc-modified-id=\"Imports-and-reading-in-data-2\"><span class=\"toc-item-num\">2&nbsp;&nbsp;</span>Imports and reading in data</a></span></li><li><span><a href=\"#EDA-and-Preprocessing\" data-toc-modified-id=\"EDA-and-Preprocessing-3\"><span class=\"toc-item-num\">3&nbsp;&nbsp;</span>EDA and Preprocessing</a></span><ul class=\"toc-item\"><li><span><a href=\"#Notes:\" data-toc-modified-id=\"Notes:-3.1\"><span class=\"toc-item-num\">3.1&nbsp;&nbsp;</span>Notes:</a></span><ul class=\"toc-item\"><li><span><a href=\"#Columns-to-drop:\" data-toc-modified-id=\"Columns-to-drop:-3.1.1\"><span class=\"toc-item-num\">3.1.1&nbsp;&nbsp;</span>Columns to drop:</a></span></li><li><span><a href=\"#Columns-to-engineer:\" data-toc-modified-id=\"Columns-to-engineer:-3.1.2\"><span class=\"toc-item-num\">3.1.2&nbsp;&nbsp;</span>Columns to engineer:</a></span></li></ul></li><li><span><a href=\"#Looking-at-discrete-events-2000-on:-30-different-events\" data-toc-modified-id=\"Looking-at-discrete-events-2000-on:-30-different-events-3.2\"><span class=\"toc-item-num\">3.2&nbsp;&nbsp;</span>Looking at discrete events 2000 on: 30 different events</a></span></li><li><span><a href=\"#Dropping-columns:\" data-toc-modified-id=\"Dropping-columns:-3.3\"><span class=\"toc-item-num\">3.3&nbsp;&nbsp;</span>Dropping columns:</a></span></li></ul></li><li><span><a href=\"#Focusing-on-duration\" data-toc-modified-id=\"Focusing-on-duration-4\"><span class=\"toc-item-num\">4&nbsp;&nbsp;</span>Focusing on duration</a></span><ul class=\"toc-item\"><li><span><a href=\"#Creating-'time_begin'-and-'time_end'-features\" data-toc-modified-id=\"Creating-'time_begin'-and-'time_end'-features-4.1\"><span class=\"toc-item-num\">4.1&nbsp;&nbsp;</span>Creating 'time_begin' and 'time_end' features</a></span></li><li><span><a href=\"#Data-spans-1952-03-01-to-2018-12-01---TBD:-More-EDA\" data-toc-modified-id=\"Data-spans-1952-03-01-to-2018-12-01---TBD:-More-EDA-4.2\"><span class=\"toc-item-num\">4.2&nbsp;&nbsp;</span>Data spans 1952-03-01 to 2018-12-01 - TBD: More EDA</a></span></li><li><span><a href=\"#Making-a-DF-of-just-the-first-country\" data-toc-modified-id=\"Making-a-DF-of-just-the-first-country-4.3\"><span class=\"toc-item-num\">4.3&nbsp;&nbsp;</span>Making a DF of just the first country</a></span><ul class=\"toc-item\"><li><span><a href=\"#Trimming-of-non-numerical-features\" data-toc-modified-id=\"Trimming-of-non-numerical-features-4.3.1\"><span class=\"toc-item-num\">4.3.1&nbsp;&nbsp;</span>Trimming of non-numerical features</a></span></li></ul></li><li><span><a href=\"#Adding-earliest-date-in-dataframe-to-beginning-of-AFG-time-series\" data-toc-modified-id=\"Adding-earliest-date-in-dataframe-to-beginning-of-AFG-time-series-4.4\"><span class=\"toc-item-num\">4.4&nbsp;&nbsp;</span>Adding earliest date in dataframe to beginning of AFG time series</a></span></li><li><span><a href=\"#--How-would-I-forward-fill-and-backfill-these-values-given-there's-years-and-years-of-no-events-occurring(so-0s-in-MAGFAIL,-MAGCOL,-MAGVIOL,-MAGAVE,-etc.)\" data-toc-modified-id=\"--How-would-I-forward-fill-and-backfill-these-values-given-there's-years-and-years-of-no-events-occurring(so-0s-in-MAGFAIL,-MAGCOL,-MAGVIOL,-MAGAVE,-etc.)-4.5\"><span class=\"toc-item-num\">4.5&nbsp;&nbsp;</span>- How would I forward fill and backfill these values given there's years and years of no events occurring(so 0s in MAGFAIL, MAGCOL, MAGVIOL, MAGAVE, etc.)</a></span></li></ul></li><li><span><a href=\"#A-possible-solution-with-expanded-dataframe\" data-toc-modified-id=\"A-possible-solution-with-expanded-dataframe-5\"><span class=\"toc-item-num\">5&nbsp;&nbsp;</span>A possible solution with expanded dataframe</a></span></li><li><span><a href=\"#Feature-Engineering---TBD\" data-toc-modified-id=\"Feature-Engineering---TBD-6\"><span class=\"toc-item-num\">6&nbsp;&nbsp;</span>Feature Engineering - TBD</a></span></li><li><span><a href=\"#Adding-more-data---TBD:-Country/region-data\" data-toc-modified-id=\"Adding-more-data---TBD:-Country/region-data-7\"><span class=\"toc-item-num\">7&nbsp;&nbsp;</span>Adding more data - TBD: Country/region data</a></span><ul class=\"toc-item\"><li><span><a href=\"#Stock-Data-Call---Alpha-Vantage---TBD:-Add-more-stonks\" data-toc-modified-id=\"Stock-Data-Call---Alpha-Vantage---TBD:-Add-more-stonks-7.1\"><span class=\"toc-item-num\">7.1&nbsp;&nbsp;</span>Stock Data Call - Alpha Vantage - TBD: Add more stonks</a></span></li></ul></li><li><span><a href=\"#Lockheed-Martin-Data\" data-toc-modified-id=\"Lockheed-Martin-Data-8\"><span class=\"toc-item-num\">8&nbsp;&nbsp;</span>Lockheed Martin Data</a></span><ul class=\"toc-item\"><li><span><a href=\"#Box-and-whisker\" data-toc-modified-id=\"Box-and-whisker-8.1\"><span class=\"toc-item-num\">8.1&nbsp;&nbsp;</span>Box and whisker</a></span></li><li><span><a href=\"#Time-series-heat-map\" data-toc-modified-id=\"Time-series-heat-map-8.2\"><span class=\"toc-item-num\">8.2&nbsp;&nbsp;</span>Time series heat map</a></span></li><li><span><a href=\"#Lag-plot\" data-toc-modified-id=\"Lag-plot-8.3\"><span class=\"toc-item-num\">8.3&nbsp;&nbsp;</span>Lag plot</a></span></li><li><span><a href=\"#PACF-ACF-Plots\" data-toc-modified-id=\"PACF-ACF-Plots-8.4\"><span class=\"toc-item-num\">8.4&nbsp;&nbsp;</span>PACF ACF Plots</a></span></li><li><span><a href=\"#TBD:-EDA-and-Preprocess,-Feature-Engineering\" data-toc-modified-id=\"TBD:-EDA-and-Preprocess,-Feature-Engineering-8.5\"><span class=\"toc-item-num\">8.5&nbsp;&nbsp;</span>TBD: EDA and Preprocess, Feature Engineering</a></span></li></ul></li><li><span><a href=\"#Merging-stock-and-adverse-regime-change-data\" data-toc-modified-id=\"Merging-stock-and-adverse-regime-change-data-9\"><span class=\"toc-item-num\">9&nbsp;&nbsp;</span>Merging stock and adverse regime change data</a></span></li><li><span><a href=\"#EDA-of-stock-data---Lockheed-Martin\" data-toc-modified-id=\"EDA-of-stock-data---Lockheed-Martin-10\"><span class=\"toc-item-num\">10&nbsp;&nbsp;</span>EDA of stock data - Lockheed Martin</a></span><ul class=\"toc-item\"><li><span><a href=\"#TBD:-Examine-by-time-slices\" data-toc-modified-id=\"TBD:-Examine-by-time-slices-10.1\"><span class=\"toc-item-num\">10.1&nbsp;&nbsp;</span>TBD: Examine by time slices</a></span></li><li><span><a href=\"#TBD:-Smoothing-methods-plots\" data-toc-modified-id=\"TBD:-Smoothing-methods-plots-10.2\"><span class=\"toc-item-num\">10.2&nbsp;&nbsp;</span>TBD: Smoothing methods plots</a></span></li><li><span><a href=\"#TBD:-ACF-and-PACF\" data-toc-modified-id=\"TBD:-ACF-and-PACF-10.3\"><span class=\"toc-item-num\">10.3&nbsp;&nbsp;</span>TBD: ACF and PACF</a></span></li><li><span><a href=\"#Anomaly-plotting\" data-toc-modified-id=\"Anomaly-plotting-10.4\"><span class=\"toc-item-num\">10.4&nbsp;&nbsp;</span>Anomaly plotting</a></span></li></ul></li><li><span><a href=\"#EDA-of-merged-regime-change-variables\" data-toc-modified-id=\"EDA-of-merged-regime-change-variables-11\"><span class=\"toc-item-num\">11&nbsp;&nbsp;</span>EDA of merged regime change variables</a></span></li><li><span><a href=\"#EDA-of-Country/Region-variables\" data-toc-modified-id=\"EDA-of-Country/Region-variables-12\"><span class=\"toc-item-num\">12&nbsp;&nbsp;</span>EDA of Country/Region variables</a></span></li><li><span><a href=\"#Time-Series-Correlations\" data-toc-modified-id=\"Time-Series-Correlations-13\"><span class=\"toc-item-num\">13&nbsp;&nbsp;</span>Time Series Correlations</a></span><ul class=\"toc-item\"><li><span><a href=\"#Visual-spot-check\" data-toc-modified-id=\"Visual-spot-check-13.1\"><span class=\"toc-item-num\">13.1&nbsp;&nbsp;</span>Visual spot check</a></span></li><li><span><a href=\"#Pearson-and-Spearman-Correlation-Comparisons\" data-toc-modified-id=\"Pearson-and-Spearman-Correlation-Comparisons-13.2\"><span class=\"toc-item-num\">13.2&nbsp;&nbsp;</span>Pearson and Spearman Correlation Comparisons</a></span><ul class=\"toc-item\"><li><span><a href=\"#Matrices-and-Maps\" data-toc-modified-id=\"Matrices-and-Maps-13.2.1\"><span class=\"toc-item-num\">13.2.1&nbsp;&nbsp;</span>Matrices and Maps</a></span></li></ul></li></ul></li><li><span><a href=\"#Modeling,-Forecasting-and-comparisons\" data-toc-modified-id=\"Modeling,-Forecasting-and-comparisons-14\"><span class=\"toc-item-num\">14&nbsp;&nbsp;</span>Modeling, Forecasting and comparisons</a></span><ul class=\"toc-item\"><li><span><a href=\"#Off-moving-averages-naively\" data-toc-modified-id=\"Off-moving-averages-naively-14.1\"><span class=\"toc-item-num\">14.1&nbsp;&nbsp;</span>Off moving averages naively</a></span></li><li><span><a href=\"#Dealing-with-stationarity---differencing-and-lagging,-Augmented-Dickey-Fuller\" data-toc-modified-id=\"Dealing-with-stationarity---differencing-and-lagging,-Augmented-Dickey-Fuller-14.2\"><span class=\"toc-item-num\">14.2&nbsp;&nbsp;</span>Dealing with stationarity - differencing and lagging, Augmented Dickey-Fuller</a></span></li><li><span><a href=\"#Granger-Causality\" data-toc-modified-id=\"Granger-Causality-14.3\"><span class=\"toc-item-num\">14.3&nbsp;&nbsp;</span>Granger Causality</a></span></li><li><span><a href=\"#ARIMA-Modeling\" data-toc-modified-id=\"ARIMA-Modeling-14.4\"><span class=\"toc-item-num\">14.4&nbsp;&nbsp;</span>ARIMA Modeling</a></span></li><li><span><a href=\"#VAR,-VARIMA,-VARIMAX(?)\" data-toc-modified-id=\"VAR,-VARIMA,-VARIMAX(?)-14.5\"><span class=\"toc-item-num\">14.5&nbsp;&nbsp;</span>VAR, VARIMA, VARIMAX(?)</a></span></li><li><span><a href=\"#Monte-Carlos\" data-toc-modified-id=\"Monte-Carlos-14.6\"><span class=\"toc-item-num\">14.6&nbsp;&nbsp;</span>Monte Carlos</a></span></li><li><span><a href=\"#Prophet\" data-toc-modified-id=\"Prophet-14.7\"><span class=\"toc-item-num\">14.7&nbsp;&nbsp;</span>Prophet</a></span></li></ul></li><li><span><a href=\"#Framing-as-a-supervised-learning-problem\" data-toc-modified-id=\"Framing-as-a-supervised-learning-problem-15\"><span class=\"toc-item-num\">15&nbsp;&nbsp;</span>Framing as a supervised learning problem</a></span></li><li><span><a href=\"#Finally:-Deep-Learning-with-LSTMs,-Embedding-of-Entities,-Autoencoders-for-Anomaly-Detection,-Markov-Models\" data-toc-modified-id=\"Finally:-Deep-Learning-with-LSTMs,-Embedding-of-Entities,-Autoencoders-for-Anomaly-Detection,-Markov-Models-16\"><span class=\"toc-item-num\">16&nbsp;&nbsp;</span>Finally: Deep Learning with LSTMs, Embedding of Entities, Autoencoders for Anomaly Detection, Markov Models</a></span></li><li><span><a href=\"#Appendix:-Financial-Techniques--Portfolio-Allocation,-etc.\" data-toc-modified-id=\"Appendix:-Financial-Techniques--Portfolio-Allocation,-etc.-17\"><span class=\"toc-item-num\">17&nbsp;&nbsp;</span>Appendix: Financial Techniques- Portfolio Allocation, etc.</a></span></li><li><span><a href=\"#Geographical-plotting-test---just-the-most-turbulent-year\" data-toc-modified-id=\"Geographical-plotting-test---just-the-most-turbulent-year-18\"><span class=\"toc-item-num\">18&nbsp;&nbsp;</span>Geographical plotting test - just the most turbulent year</a></span></li><li><span><a href=\"#Survival-analysis---TO-DO:-By-country/region\" data-toc-modified-id=\"Survival-analysis---TO-DO:-By-country/region-19\"><span class=\"toc-item-num\">19&nbsp;&nbsp;</span>Survival analysis - TO DO: By country/region</a></span><ul class=\"toc-item\"><li><span><a href=\"#First-converting-time_begin-and-time_end-to-accepted-Lifelines-format\" data-toc-modified-id=\"First-converting-time_begin-and-time_end-to-accepted-Lifelines-format-19.1\"><span class=\"toc-item-num\">19.1&nbsp;&nbsp;</span>First converting time_begin and time_end to accepted Lifelines format</a></span></li><li><span><a href=\"#Kaplan-Meier-Fitter\" data-toc-modified-id=\"Kaplan-Meier-Fitter-19.2\"><span class=\"toc-item-num\">19.2&nbsp;&nbsp;</span>Kaplan Meier Fitter</a></span><ul class=\"toc-item\"><li><span><a href=\"#Plotting-results-in-months\" data-toc-modified-id=\"Plotting-results-in-months-19.2.1\"><span class=\"toc-item-num\">19.2.1&nbsp;&nbsp;</span>Plotting results in months</a></span></li></ul></li><li><span><a href=\"#NelsonAalenFitter-for-cumulative-hazard-function\" data-toc-modified-id=\"NelsonAalenFitter-for-cumulative-hazard-function-19.3\"><span class=\"toc-item-num\">19.3&nbsp;&nbsp;</span>NelsonAalenFitter for cumulative hazard function</a></span></li></ul></li><li><span><a href=\"#TO-DO:-implementing-right/left-censorship-of-birth/death-events-via.-groupby-country-and-time-resampling\" data-toc-modified-id=\"TO-DO:-implementing-right/left-censorship-of-birth/death-events-via.-groupby-country-and-time-resampling-20\"><span class=\"toc-item-num\">20&nbsp;&nbsp;</span>TO DO: implementing right/left censorship of birth/death events via. groupby country and time resampling</a></span></li><li><span><a href=\"#Geographic-plotting\" data-toc-modified-id=\"Geographic-plotting-21\"><span class=\"toc-item-num\">21&nbsp;&nbsp;</span>Geographic plotting</a></span></li></ul></div>"
   ]
  },
  {
   "cell_type": "markdown",
   "metadata": {},
   "source": [
    "# Survival Analysis of Adverse Regime Changes: \n",
    "- Dataset available at: http://www.systemicpeace.org/inscrdata.html\n",
    "- Utilizing the fantastic Lifelines package for Survival Analysis and adapting examples from https://lifelines.readthedocs.io/en/latest/index.html\n",
    "- Beginning EDA and survival analysis towards a study of regime changes' effects on the global market"
   ]
  },
  {
   "cell_type": "markdown",
   "metadata": {},
   "source": [
    "# Imports and reading in data"
   ]
  },
  {
   "cell_type": "code",
   "execution_count": 1,
   "metadata": {
    "ExecuteTime": {
     "end_time": "2020-07-13T01:16:05.611191Z",
     "start_time": "2020-07-13T01:16:04.490185Z"
    }
   },
   "outputs": [],
   "source": [
    "import matplotlib.pyplot as plt \n",
    "import seaborn as sns\n",
    "import numpy as np \n",
    "import pandas as pd\n",
    "from statsmodels.tsa.stattools import ccovf,ccf,periodogram\n",
    "from statsmodels.tsa.stattools import adfuller,kpss,coint,bds,q_stat,grangercausalitytests,levinson_durbin\n",
    "from statsmodels.tools.eval_measures import mse, rmse, meanabs\n",
    "\n",
    "# Alternative:\n",
    "# from sklearn.metrics import mean_squared_error"
   ]
  },
  {
   "cell_type": "code",
   "execution_count": 2,
   "metadata": {
    "ExecuteTime": {
     "end_time": "2020-07-13T01:16:05.616263Z",
     "start_time": "2020-07-13T01:16:05.613452Z"
    }
   },
   "outputs": [],
   "source": [
    "import matplotlib.style as style \n",
    "\n",
    "#because this is political science and i am tacky\n",
    "style.use('fivethirtyeight')"
   ]
  },
  {
   "cell_type": "code",
   "execution_count": 3,
   "metadata": {
    "ExecuteTime": {
     "end_time": "2020-07-13T01:16:06.080665Z",
     "start_time": "2020-07-13T01:16:05.994232Z"
    }
   },
   "outputs": [
    {
     "data": {
      "text/html": [
       "<div>\n",
       "<style scoped>\n",
       "    .dataframe tbody tr th:only-of-type {\n",
       "        vertical-align: middle;\n",
       "    }\n",
       "\n",
       "    .dataframe tbody tr th {\n",
       "        vertical-align: top;\n",
       "    }\n",
       "\n",
       "    .dataframe thead th {\n",
       "        text-align: right;\n",
       "    }\n",
       "</style>\n",
       "<table border=\"1\" class=\"dataframe\">\n",
       "  <thead>\n",
       "    <tr style=\"text-align: right;\">\n",
       "      <th></th>\n",
       "      <th>COUNTRY</th>\n",
       "      <th>SCODE</th>\n",
       "      <th>CCODE</th>\n",
       "      <th>YEAR</th>\n",
       "      <th>MOBEGIN</th>\n",
       "      <th>YRBEGIN</th>\n",
       "      <th>MOEND</th>\n",
       "      <th>YREND</th>\n",
       "      <th>PTYPE</th>\n",
       "      <th>MAGFAIL</th>\n",
       "      <th>MAGCOL</th>\n",
       "      <th>MAGVIOL</th>\n",
       "      <th>MAGAVE</th>\n",
       "      <th>DESC</th>\n",
       "      <th>POLITYX</th>\n",
       "      <th>DESC2</th>\n",
       "    </tr>\n",
       "  </thead>\n",
       "  <tbody>\n",
       "    <tr>\n",
       "      <th>0</th>\n",
       "      <td>Afghanistan</td>\n",
       "      <td>AFG</td>\n",
       "      <td>700</td>\n",
       "      <td>1978</td>\n",
       "      <td>4</td>\n",
       "      <td>1978</td>\n",
       "      <td>12</td>\n",
       "      <td>1979</td>\n",
       "      <td>3</td>\n",
       "      <td>2</td>\n",
       "      <td>1</td>\n",
       "      <td>4</td>\n",
       "      <td>2.5</td>\n",
       "      <td>In the wake of unrest stemming from the assass...</td>\n",
       "      <td>REV</td>\n",
       "      <td>1.0</td>\n",
       "    </tr>\n",
       "    <tr>\n",
       "      <th>1</th>\n",
       "      <td>Afghanistan</td>\n",
       "      <td>AFG</td>\n",
       "      <td>700</td>\n",
       "      <td>1979</td>\n",
       "      <td>4</td>\n",
       "      <td>1978</td>\n",
       "      <td>12</td>\n",
       "      <td>1979</td>\n",
       "      <td>3</td>\n",
       "      <td>2</td>\n",
       "      <td>1</td>\n",
       "      <td>4</td>\n",
       "      <td>2.5</td>\n",
       "      <td>NaN</td>\n",
       "      <td>NaN</td>\n",
       "      <td>NaN</td>\n",
       "    </tr>\n",
       "    <tr>\n",
       "      <th>2</th>\n",
       "      <td>Afghanistan</td>\n",
       "      <td>AFG</td>\n",
       "      <td>700</td>\n",
       "      <td>1992</td>\n",
       "      <td>4</td>\n",
       "      <td>1992</td>\n",
       "      <td>9</td>\n",
       "      <td>1996</td>\n",
       "      <td>3</td>\n",
       "      <td>4</td>\n",
       "      <td>1</td>\n",
       "      <td>4</td>\n",
       "      <td>3.0</td>\n",
       "      <td>Soviet-supported Najibullah regime falls after...</td>\n",
       "      <td>REV</td>\n",
       "      <td>1.0</td>\n",
       "    </tr>\n",
       "    <tr>\n",
       "      <th>3</th>\n",
       "      <td>Afghanistan</td>\n",
       "      <td>AFG</td>\n",
       "      <td>700</td>\n",
       "      <td>1993</td>\n",
       "      <td>4</td>\n",
       "      <td>1992</td>\n",
       "      <td>9</td>\n",
       "      <td>1996</td>\n",
       "      <td>3</td>\n",
       "      <td>4</td>\n",
       "      <td>1</td>\n",
       "      <td>4</td>\n",
       "      <td>3.0</td>\n",
       "      <td>NaN</td>\n",
       "      <td>NaN</td>\n",
       "      <td>NaN</td>\n",
       "    </tr>\n",
       "    <tr>\n",
       "      <th>4</th>\n",
       "      <td>Afghanistan</td>\n",
       "      <td>AFG</td>\n",
       "      <td>700</td>\n",
       "      <td>1994</td>\n",
       "      <td>4</td>\n",
       "      <td>1992</td>\n",
       "      <td>9</td>\n",
       "      <td>1996</td>\n",
       "      <td>3</td>\n",
       "      <td>4</td>\n",
       "      <td>1</td>\n",
       "      <td>4</td>\n",
       "      <td>3.0</td>\n",
       "      <td>NaN</td>\n",
       "      <td>NaN</td>\n",
       "      <td>NaN</td>\n",
       "    </tr>\n",
       "    <tr>\n",
       "      <th>...</th>\n",
       "      <td>...</td>\n",
       "      <td>...</td>\n",
       "      <td>...</td>\n",
       "      <td>...</td>\n",
       "      <td>...</td>\n",
       "      <td>...</td>\n",
       "      <td>...</td>\n",
       "      <td>...</td>\n",
       "      <td>...</td>\n",
       "      <td>...</td>\n",
       "      <td>...</td>\n",
       "      <td>...</td>\n",
       "      <td>...</td>\n",
       "      <td>...</td>\n",
       "      <td>...</td>\n",
       "      <td>...</td>\n",
       "    </tr>\n",
       "    <tr>\n",
       "      <th>348</th>\n",
       "      <td>Zambia</td>\n",
       "      <td>ZAM</td>\n",
       "      <td>551</td>\n",
       "      <td>1970</td>\n",
       "      <td>8</td>\n",
       "      <td>1968</td>\n",
       "      <td>12</td>\n",
       "      <td>1972</td>\n",
       "      <td>3</td>\n",
       "      <td>1</td>\n",
       "      <td>3</td>\n",
       "      <td>2</td>\n",
       "      <td>2.0</td>\n",
       "      <td>NaN</td>\n",
       "      <td>NaN</td>\n",
       "      <td>NaN</td>\n",
       "    </tr>\n",
       "    <tr>\n",
       "      <th>349</th>\n",
       "      <td>Zambia</td>\n",
       "      <td>ZAM</td>\n",
       "      <td>551</td>\n",
       "      <td>1971</td>\n",
       "      <td>8</td>\n",
       "      <td>1968</td>\n",
       "      <td>12</td>\n",
       "      <td>1972</td>\n",
       "      <td>3</td>\n",
       "      <td>1</td>\n",
       "      <td>3</td>\n",
       "      <td>2</td>\n",
       "      <td>2.0</td>\n",
       "      <td>NaN</td>\n",
       "      <td>NaN</td>\n",
       "      <td>NaN</td>\n",
       "    </tr>\n",
       "    <tr>\n",
       "      <th>350</th>\n",
       "      <td>Zambia</td>\n",
       "      <td>ZAM</td>\n",
       "      <td>551</td>\n",
       "      <td>1972</td>\n",
       "      <td>8</td>\n",
       "      <td>1968</td>\n",
       "      <td>12</td>\n",
       "      <td>1972</td>\n",
       "      <td>3</td>\n",
       "      <td>1</td>\n",
       "      <td>3</td>\n",
       "      <td>2</td>\n",
       "      <td>2.0</td>\n",
       "      <td>NaN</td>\n",
       "      <td>NaN</td>\n",
       "      <td>NaN</td>\n",
       "    </tr>\n",
       "    <tr>\n",
       "      <th>351</th>\n",
       "      <td>Zambia</td>\n",
       "      <td>ZAM</td>\n",
       "      <td>551</td>\n",
       "      <td>1996</td>\n",
       "      <td>11</td>\n",
       "      <td>1996</td>\n",
       "      <td>11</td>\n",
       "      <td>1996</td>\n",
       "      <td>3</td>\n",
       "      <td>1</td>\n",
       "      <td>2</td>\n",
       "      <td>1</td>\n",
       "      <td>1.5</td>\n",
       "      <td>Constitutional amendments in May 1996 disquali...</td>\n",
       "      <td>-5</td>\n",
       "      <td>1.0</td>\n",
       "    </tr>\n",
       "    <tr>\n",
       "      <th>352</th>\n",
       "      <td>Zimbabwe</td>\n",
       "      <td>ZIM</td>\n",
       "      <td>552</td>\n",
       "      <td>1987</td>\n",
       "      <td>12</td>\n",
       "      <td>1987</td>\n",
       "      <td>12</td>\n",
       "      <td>1987</td>\n",
       "      <td>3</td>\n",
       "      <td>1</td>\n",
       "      <td>3</td>\n",
       "      <td>2</td>\n",
       "      <td>2.0</td>\n",
       "      <td>Ethnic tensions and crackdown on political opp...</td>\n",
       "      <td>-7</td>\n",
       "      <td>1.0</td>\n",
       "    </tr>\n",
       "  </tbody>\n",
       "</table>\n",
       "<p>353 rows × 16 columns</p>\n",
       "</div>"
      ],
      "text/plain": [
       "         COUNTRY SCODE  CCODE  YEAR  MOBEGIN  YRBEGIN  MOEND  YREND  PTYPE  \\\n",
       "0    Afghanistan   AFG    700  1978        4     1978     12   1979      3   \n",
       "1    Afghanistan   AFG    700  1979        4     1978     12   1979      3   \n",
       "2    Afghanistan   AFG    700  1992        4     1992      9   1996      3   \n",
       "3    Afghanistan   AFG    700  1993        4     1992      9   1996      3   \n",
       "4    Afghanistan   AFG    700  1994        4     1992      9   1996      3   \n",
       "..           ...   ...    ...   ...      ...      ...    ...    ...    ...   \n",
       "348       Zambia   ZAM    551  1970        8     1968     12   1972      3   \n",
       "349       Zambia   ZAM    551  1971        8     1968     12   1972      3   \n",
       "350       Zambia   ZAM    551  1972        8     1968     12   1972      3   \n",
       "351       Zambia   ZAM    551  1996       11     1996     11   1996      3   \n",
       "352     Zimbabwe   ZIM    552  1987       12     1987     12   1987      3   \n",
       "\n",
       "     MAGFAIL  MAGCOL  MAGVIOL  MAGAVE  \\\n",
       "0          2       1        4     2.5   \n",
       "1          2       1        4     2.5   \n",
       "2          4       1        4     3.0   \n",
       "3          4       1        4     3.0   \n",
       "4          4       1        4     3.0   \n",
       "..       ...     ...      ...     ...   \n",
       "348        1       3        2     2.0   \n",
       "349        1       3        2     2.0   \n",
       "350        1       3        2     2.0   \n",
       "351        1       2        1     1.5   \n",
       "352        1       3        2     2.0   \n",
       "\n",
       "                                                  DESC POLITYX  DESC2  \n",
       "0    In the wake of unrest stemming from the assass...     REV    1.0  \n",
       "1                                                  NaN     NaN    NaN  \n",
       "2    Soviet-supported Najibullah regime falls after...     REV    1.0  \n",
       "3                                                  NaN     NaN    NaN  \n",
       "4                                                  NaN     NaN    NaN  \n",
       "..                                                 ...     ...    ...  \n",
       "348                                                NaN     NaN    NaN  \n",
       "349                                                NaN     NaN    NaN  \n",
       "350                                                NaN     NaN    NaN  \n",
       "351  Constitutional amendments in May 1996 disquali...      -5    1.0  \n",
       "352  Ethnic tensions and crackdown on political opp...      -7    1.0  \n",
       "\n",
       "[353 rows x 16 columns]"
      ]
     },
     "execution_count": 3,
     "metadata": {},
     "output_type": "execute_result"
    }
   ],
   "source": [
    "df = pd.read_excel('PITF Adverse Regime Change 2018.xls', index_col=None) \n",
    "\n",
    "df"
   ]
  },
  {
   "cell_type": "markdown",
   "metadata": {},
   "source": [
    "# EDA and Preprocessing"
   ]
  },
  {
   "cell_type": "markdown",
   "metadata": {},
   "source": [
    "- Variables specific to the Adverse Regime Change episodes are as follows:\n",
    "    - MAGFAIL (1-numeric)\n",
    "        - Scaled failure of State authority (range 1-4; 9=missing)\n",
    "    - MAGCOL (1-numeric)\n",
    "        - Scaled collapse of democratic institutions (range 1-4; 9=missing)\n",
    "    - MAGVIOL (1-numeric)\n",
    "        - Scaled violence associated with regime transition (range 1-4; 9=missing)\n",
    "    - MAGAVE (1.1-numeric)\n",
    "        - Average of the three magnitude scores (range 1-4.0; 9=missing)\n",
    "    - POLITYX (4-alpha/numeric)\n",
    "        - Indicator of the type/magnitude of regime change\n",
    "- Variables specific to the Adverse Regime Change episodes are as follows:\n",
    "    - MAGFAIL (1-numeric)\n",
    "        - Scaled failure of State authority (range 1-4; 9=missing)\n",
    "    - MAGCOL (1-numeric)\n",
    "        - Scaled collapse of democratic institutions (range 1-4; 9=missing)\n",
    "    - MAGVIOL (1-numeric)\n",
    "        - Scaled violence associated with regime transition (range 1-4; 9=missing)\n",
    "    - MAGAVE (1.1-numeric)\n",
    "        - Average of the three magnitude scores (range 1-4.0; 9=missing)\n",
    "    - POLITYX (4-alpha/numeric)\n",
    "        - Indicator of the type/magnitude of regime change"
   ]
  },
  {
   "cell_type": "code",
   "execution_count": 4,
   "metadata": {
    "ExecuteTime": {
     "end_time": "2020-07-13T01:16:07.855795Z",
     "start_time": "2020-07-13T01:16:07.845635Z"
    },
    "scrolled": false
   },
   "outputs": [
    {
     "name": "stdout",
     "output_type": "stream",
     "text": [
      "<class 'pandas.core.frame.DataFrame'>\n",
      "RangeIndex: 353 entries, 0 to 352\n",
      "Data columns (total 16 columns):\n",
      " #   Column   Non-Null Count  Dtype  \n",
      "---  ------   --------------  -----  \n",
      " 0   COUNTRY  353 non-null    object \n",
      " 1   SCODE    353 non-null    object \n",
      " 2   CCODE    353 non-null    int64  \n",
      " 3   YEAR     353 non-null    int64  \n",
      " 4   MOBEGIN  353 non-null    int64  \n",
      " 5   YRBEGIN  353 non-null    int64  \n",
      " 6   MOEND    353 non-null    int64  \n",
      " 7   YREND    353 non-null    int64  \n",
      " 8   PTYPE    353 non-null    int64  \n",
      " 9   MAGFAIL  353 non-null    int64  \n",
      " 10  MAGCOL   353 non-null    int64  \n",
      " 11  MAGVIOL  353 non-null    int64  \n",
      " 12  MAGAVE   353 non-null    float64\n",
      " 13  DESC     136 non-null    object \n",
      " 14  POLITYX  136 non-null    object \n",
      " 15  DESC2    136 non-null    float64\n",
      "dtypes: float64(2), int64(10), object(4)\n",
      "memory usage: 44.2+ KB\n"
     ]
    }
   ],
   "source": [
    "df.info()"
   ]
  },
  {
   "cell_type": "code",
   "execution_count": 5,
   "metadata": {
    "ExecuteTime": {
     "end_time": "2020-07-13T01:16:08.839722Z",
     "start_time": "2020-07-13T01:16:08.836984Z"
    }
   },
   "outputs": [],
   "source": [
    "eda_df = df.copy()"
   ]
  },
  {
   "cell_type": "code",
   "execution_count": 6,
   "metadata": {
    "ExecuteTime": {
     "end_time": "2020-07-13T01:16:10.768872Z",
     "start_time": "2020-07-13T01:16:09.896472Z"
    }
   },
   "outputs": [],
   "source": [
    "from pandas_profiling import ProfileReport\n",
    "profile = ProfileReport(eda_df, title=\"Pandas Profiling Report\")"
   ]
  },
  {
   "cell_type": "code",
   "execution_count": 7,
   "metadata": {
    "ExecuteTime": {
     "end_time": "2020-07-13T01:16:10.843152Z",
     "start_time": "2020-07-13T01:16:10.841237Z"
    },
    "scrolled": false
   },
   "outputs": [],
   "source": [
    "# profile.to_widgets()"
   ]
  },
  {
   "cell_type": "markdown",
   "metadata": {},
   "source": [
    "## Notes:\n",
    "- PTYPE has Constant Value \"3\" \n",
    "- DESC is missing along with POLITYX and DESC2 in 217 rows, this is due to (consulting the codebook) these cells only being filled in the case of the first year of a multiyear event\n",
    "- Somalia is an outlier in occurrences, but is that total distinct regime changes or years under regime change?\n",
    "- 1990s are common years, a hot trend to have adverse regime changes in the 1990s\n",
    "- A lot of ending and beginning in the first month and last month of the year, pointing to how this was coded?\n",
    "- Should do distributions of MAG columns at least\n",
    "- Drop for now\n",
    "\n",
    "### Columns to drop:\n",
    "- PTYPE constant value\n",
    "- DESC2 can be dropped as redundant to DESC\n",
    "- SCODE is redundant to COUNTRY as is CCODE\n",
    "- Drop DESC for now, can examine with NLP later\n",
    "\n",
    "### Columns to engineer:\n",
    "- YEAR needs to be resampled to Daily data somehow \n",
    "    - (groupby country --> resample with fill and inserts?)\n",
    "- YR and MO BEGIN AND END can be made into time beginning and time ending\n",
    "- MAGCOL, VIOL, FAIL, AVE need to be \n",
    "    - Interpolated\n",
    "- POLITYX is Unsupported \n",
    "    - Needs to be recoded\n",
    "    - Check what the values mean in codebook\n",
    "    - And filled where NaN "
   ]
  },
  {
   "cell_type": "code",
   "execution_count": 8,
   "metadata": {
    "ExecuteTime": {
     "end_time": "2020-07-13T01:16:12.126700Z",
     "start_time": "2020-07-13T01:16:12.122563Z"
    }
   },
   "outputs": [
    {
     "data": {
      "text/plain": [
       "Index(['COUNTRY', 'SCODE', 'CCODE', 'YEAR', 'MOBEGIN', 'YRBEGIN', 'MOEND',\n",
       "       'YREND', 'PTYPE', 'MAGFAIL', 'MAGCOL', 'MAGVIOL', 'MAGAVE', 'DESC',\n",
       "       'POLITYX', 'DESC2'],\n",
       "      dtype='object')"
      ]
     },
     "execution_count": 8,
     "metadata": {},
     "output_type": "execute_result"
    }
   ],
   "source": [
    "eda_df.columns"
   ]
  },
  {
   "cell_type": "code",
   "execution_count": 9,
   "metadata": {
    "ExecuteTime": {
     "end_time": "2020-07-13T01:16:12.480266Z",
     "start_time": "2020-07-13T01:16:12.467342Z"
    }
   },
   "outputs": [
    {
     "name": "stdout",
     "output_type": "stream",
     "text": [
      "<class 'pandas.core.frame.DataFrame'>\n",
      "RangeIndex: 353 entries, 0 to 352\n",
      "Data columns (total 16 columns):\n",
      " #   Column   Non-Null Count  Dtype  \n",
      "---  ------   --------------  -----  \n",
      " 0   COUNTRY  353 non-null    object \n",
      " 1   SCODE    353 non-null    object \n",
      " 2   CCODE    353 non-null    int64  \n",
      " 3   YEAR     353 non-null    int64  \n",
      " 4   MOBEGIN  353 non-null    int64  \n",
      " 5   YRBEGIN  353 non-null    int64  \n",
      " 6   MOEND    353 non-null    int64  \n",
      " 7   YREND    353 non-null    int64  \n",
      " 8   PTYPE    353 non-null    int64  \n",
      " 9   MAGFAIL  353 non-null    int64  \n",
      " 10  MAGCOL   353 non-null    int64  \n",
      " 11  MAGVIOL  353 non-null    int64  \n",
      " 12  MAGAVE   353 non-null    float64\n",
      " 13  DESC     136 non-null    object \n",
      " 14  POLITYX  136 non-null    object \n",
      " 15  DESC2    136 non-null    float64\n",
      "dtypes: float64(2), int64(10), object(4)\n",
      "memory usage: 44.2+ KB\n"
     ]
    }
   ],
   "source": [
    "eda_df.info()"
   ]
  },
  {
   "cell_type": "code",
   "execution_count": 10,
   "metadata": {
    "ExecuteTime": {
     "end_time": "2020-07-13T01:16:13.132062Z",
     "start_time": "2020-07-13T01:16:13.124691Z"
    },
    "scrolled": false
   },
   "outputs": [
    {
     "data": {
      "text/plain": [
       "SF     26\n",
       "-14    13\n",
       "-9     12\n",
       "-15    10\n",
       "-7     10\n",
       "REV     9\n",
       "-10     9\n",
       "-11     8\n",
       "-12     8\n",
       "-5      8\n",
       "DIS     6\n",
       "-6      5\n",
       "-8      5\n",
       "-13     5\n",
       "-16     1\n",
       "-18     1\n",
       "Name: POLITYX, dtype: int64"
      ]
     },
     "execution_count": 10,
     "metadata": {},
     "output_type": "execute_result"
    }
   ],
   "source": [
    "eda_df.POLITYX.value_counts()"
   ]
  },
  {
   "cell_type": "code",
   "execution_count": 11,
   "metadata": {
    "ExecuteTime": {
     "end_time": "2020-07-13T02:15:20.174615Z",
     "start_time": "2020-07-13T02:15:20.169093Z"
    }
   },
   "outputs": [
    {
     "data": {
      "text/plain": [
       "353"
      ]
     },
     "execution_count": 11,
     "metadata": {},
     "output_type": "execute_result"
    }
   ],
   "source": [
    "len(eda_df)"
   ]
  },
  {
   "cell_type": "code",
   "execution_count": 12,
   "metadata": {
    "ExecuteTime": {
     "end_time": "2020-07-13T02:16:03.458271Z",
     "start_time": "2020-07-13T02:16:03.450231Z"
    }
   },
   "outputs": [
    {
     "data": {
      "text/plain": [
       "92"
      ]
     },
     "execution_count": 12,
     "metadata": {},
     "output_type": "execute_result"
    }
   ],
   "source": [
    "len(eda_df[eda_df['YEAR'] > 1999])"
   ]
  },
  {
   "cell_type": "markdown",
   "metadata": {},
   "source": [
    "## Looking at discrete events 2000 on: 30 different events"
   ]
  },
  {
   "cell_type": "code",
   "execution_count": 13,
   "metadata": {
    "ExecuteTime": {
     "end_time": "2020-07-13T13:17:03.422226Z",
     "start_time": "2020-07-13T13:17:03.320148Z"
    }
   },
   "outputs": [],
   "source": [
    "two_thou_df = eda_df[eda_df['YEAR'] > 1999] "
   ]
  },
  {
   "cell_type": "code",
   "execution_count": 17,
   "metadata": {
    "ExecuteTime": {
     "end_time": "2020-07-13T13:18:50.466844Z",
     "start_time": "2020-07-13T13:18:50.461097Z"
    }
   },
   "outputs": [
    {
     "data": {
      "text/plain": [
       "30"
      ]
     },
     "execution_count": 17,
     "metadata": {},
     "output_type": "execute_result"
    }
   ],
   "source": [
    "two_thou_df = two_thou_df[two_thou_df.DESC.notna()]\n",
    "\n",
    "len(two_thou_df.DESC)"
   ]
  },
  {
   "cell_type": "markdown",
   "metadata": {},
   "source": [
    "## Dropping columns: "
   ]
  },
  {
   "cell_type": "code",
   "execution_count": null,
   "metadata": {
    "ExecuteTime": {
     "end_time": "2020-07-12T18:49:56.590938Z",
     "start_time": "2020-07-12T18:49:56.583863Z"
    }
   },
   "outputs": [],
   "source": [
    "eda_df = eda_df.drop(['PTYPE', 'DESC2', \"SCODE\", \"CCODE\", \"DESC\"],axis=1)\n",
    "\n",
    "eda_df.columns"
   ]
  },
  {
   "cell_type": "markdown",
   "metadata": {},
   "source": [
    "# Focusing on duration\n",
    "- Time of beginning and end of regime change through YRBEGIN, YREND, MOBEGIN, MOEND features are of key interest"
   ]
  },
  {
   "cell_type": "markdown",
   "metadata": {},
   "source": [
    "## Creating 'time_begin' and 'time_end' features\n",
    "- These capture both month and year as Pandas datetime features\n",
    "- Problem: Always set to first day of month"
   ]
  },
  {
   "cell_type": "code",
   "execution_count": null,
   "metadata": {
    "ExecuteTime": {
     "end_time": "2020-07-12T18:49:56.629370Z",
     "start_time": "2020-07-12T18:49:56.593123Z"
    }
   },
   "outputs": [],
   "source": [
    "eda_df['time_begin'] = pd.to_datetime((eda_df['YRBEGIN'].astype(str)  + \"-\" +eda_df['MOBEGIN'].astype(str)), format='%Y-%m', errors=\"coerce\")\n",
    "eda_df['time_end'] = pd.to_datetime((eda_df['YREND'].astype(str)  + \"-\" +eda_df['MOEND'].astype(str)),  errors='coerce')\n",
    "eda_df['YEAR'] = pd.to_datetime(eda_df['YEAR'].astype(str), errors=\"coerce\")\n",
    "eda_df.head(10)"
   ]
  },
  {
   "cell_type": "markdown",
   "metadata": {},
   "source": [
    "- Dropping source beginning and end date columns "
   ]
  },
  {
   "cell_type": "code",
   "execution_count": null,
   "metadata": {
    "ExecuteTime": {
     "end_time": "2020-07-12T18:49:56.643353Z",
     "start_time": "2020-07-12T18:49:56.631633Z"
    },
    "scrolled": true
   },
   "outputs": [],
   "source": [
    "eda_df = eda_df.drop(['MOBEGIN','YRBEGIN','MOEND','YREND'],axis=1)\n",
    "\n",
    "eda_df.info()"
   ]
  },
  {
   "cell_type": "markdown",
   "metadata": {},
   "source": [
    "## Data spans 1952-03-01 to 2018-12-01 - TBD: More EDA"
   ]
  },
  {
   "cell_type": "code",
   "execution_count": null,
   "metadata": {
    "ExecuteTime": {
     "end_time": "2020-07-12T18:49:56.651154Z",
     "start_time": "2020-07-12T18:49:56.645403Z"
    }
   },
   "outputs": [],
   "source": [
    "eda_df.time_begin.min()"
   ]
  },
  {
   "cell_type": "code",
   "execution_count": null,
   "metadata": {
    "ExecuteTime": {
     "end_time": "2020-07-12T18:49:56.658500Z",
     "start_time": "2020-07-12T18:49:56.653348Z"
    }
   },
   "outputs": [],
   "source": [
    "eda_df.time_end.max()"
   ]
  },
  {
   "cell_type": "code",
   "execution_count": null,
   "metadata": {
    "ExecuteTime": {
     "end_time": "2020-07-12T18:49:56.956698Z",
     "start_time": "2020-07-12T18:49:56.660580Z"
    }
   },
   "outputs": [],
   "source": [
    "t_df = eda_df.copy()\n",
    "\n",
    "t_df = t_df.set_index(\"YEAR\")\n",
    "\n",
    "t_df[['MAGFAIL', \"MAGVIOL\"]].plot()"
   ]
  },
  {
   "cell_type": "markdown",
   "metadata": {},
   "source": [
    "## Making a DF of just the first country"
   ]
  },
  {
   "cell_type": "code",
   "execution_count": null,
   "metadata": {
    "ExecuteTime": {
     "end_time": "2020-07-12T18:49:56.971191Z",
     "start_time": "2020-07-12T18:49:56.958695Z"
    },
    "scrolled": true
   },
   "outputs": [],
   "source": [
    "afg_df = eda_df[eda_df['COUNTRY'] == \"Afghanistan\"]\n",
    "\n",
    "afg_df.head(10)"
   ]
  },
  {
   "cell_type": "code",
   "execution_count": null,
   "metadata": {
    "ExecuteTime": {
     "end_time": "2020-07-12T18:49:56.977241Z",
     "start_time": "2020-07-12T18:49:56.973224Z"
    }
   },
   "outputs": [],
   "source": [
    "len(afg_df)"
   ]
  },
  {
   "cell_type": "markdown",
   "metadata": {
    "ExecuteTime": {
     "end_time": "2020-07-08T15:24:46.385807Z",
     "start_time": "2020-07-08T15:24:46.382287Z"
    }
   },
   "source": [
    "### Trimming of non-numerical features"
   ]
  },
  {
   "cell_type": "code",
   "execution_count": null,
   "metadata": {
    "ExecuteTime": {
     "end_time": "2020-07-12T18:49:56.988971Z",
     "start_time": "2020-07-12T18:49:56.978667Z"
    }
   },
   "outputs": [],
   "source": [
    "afg_df = afg_df.drop([\"POLITYX\", \"time_begin\",\"time_end\"],axis=1)\n",
    "afg_df = afg_df.set_index(\"YEAR\")\n",
    "\n",
    "afg_df"
   ]
  },
  {
   "cell_type": "markdown",
   "metadata": {},
   "source": [
    "## Adding earliest date in dataframe to beginning of AFG time series\n",
    "- This means adding latest date in dataframe to each series is possible, but:\n",
    "##    - How would I forward fill and backfill these values given there's years and years of no events occurring(so 0s in MAGFAIL, MAGCOL, MAGVIOL, MAGAVE, etc.)"
   ]
  },
  {
   "cell_type": "markdown",
   "metadata": {},
   "source": [
    "# A possible solution with expanded dataframe"
   ]
  },
  {
   "cell_type": "code",
   "execution_count": null,
   "metadata": {
    "ExecuteTime": {
     "end_time": "2020-07-12T18:49:56.994458Z",
     "start_time": "2020-07-12T18:49:56.990363Z"
    },
    "scrolled": true
   },
   "outputs": [],
   "source": [
    "#create copy of df at present state\n",
    "group_df = eda_df.copy()\n",
    "\n",
    "#drop non numeric columns\n",
    "group_df = group_df.drop([\"POLITYX\", \"time_begin\",\"time_end\"],axis=1)\n",
    "\n",
    "# group by country into groupby object\n",
    "group = group_df.groupby([\"COUNTRY\"])"
   ]
  },
  {
   "cell_type": "code",
   "execution_count": null,
   "metadata": {
    "ExecuteTime": {
     "end_time": "2020-07-12T18:50:13.529223Z",
     "start_time": "2020-07-12T18:50:11.290583Z"
    },
    "scrolled": false
   },
   "outputs": [],
   "source": [
    "from functools import reduce\n",
    "\n",
    "#empty list of dataframes to be populated with groupby objects' dfs when modified\n",
    "grouped_dfs = []\n",
    "\n",
    "#iterate over groupby objects' component dataframes\n",
    "for k in group.groups.keys():\n",
    "    #reference to dataframe\n",
    "    gr = group.get_group(k)\n",
    "\n",
    "    #append 1950 and 2019 as beginning and end years\n",
    "    gr = gr.append(pd.Series([k,'2019-01-01',0,0,0,0], index=gr.columns),ignore_index=True) #adding first year\n",
    "    gr.loc[-1] = [k, '1950-01-01', 0,0,0,0]  # adding final year\n",
    "    gr.index = gr.index + 1  # shifting index to match\n",
    "    gr.sort_index(inplace=True) #sorting index back to sequential years\n",
    "    \n",
    "    #setting index to datetime YEAR with AS(year start) freq, fill empty years with 0\n",
    "    gr =gr.set_index(\"YEAR\").asfreq('AS')\n",
    "    gr = gr.fillna(0)\n",
    "    \n",
    "    #assign country as boolean instead of text variable with one hot encoding\n",
    "    gr = pd.get_dummies(gr, columns=['COUNTRY'], prefix='', prefix_sep='')\n",
    "    \n",
    "    #dropping a weird column that comes up \n",
    "    gr = gr.drop('0', axis=1, errors='ignore')\n",
    "    \n",
    "    #renaming columns programmatically to not collide in merge, appending name of country to numerical vals\n",
    "    gr.rename(columns = {'MAGFAIL':'MAGFAIL_'+k, \"MAGCOL\": \"MAGCOL_\"+k,\"MAGAVE\":\"MAGAVE_\"+k,\"MAGVIOL\": \"MAGVIOL_\"+k}, inplace = True)\n",
    "    gr = gr.reset_index()\n",
    "    \n",
    "    #add iterated df to dfs list\n",
    "    grouped_dfs.append(gr)\n",
    "\n",
    "#merge all dfs on YEAR and set index back to datetime \n",
    "df_merged = reduce(lambda  left,right: pd.merge(left,right,on=['YEAR'],\n",
    "                                            how='outer'), grouped_dfs).set_index(\"YEAR\")"
   ]
  },
  {
   "cell_type": "code",
   "execution_count": null,
   "metadata": {
    "ExecuteTime": {
     "end_time": "2020-07-12T18:50:13.565748Z",
     "start_time": "2020-07-12T18:50:13.530832Z"
    },
    "scrolled": false
   },
   "outputs": [],
   "source": [
    "df_merged"
   ]
  },
  {
   "cell_type": "code",
   "execution_count": null,
   "metadata": {
    "ExecuteTime": {
     "end_time": "2020-07-12T18:50:14.463625Z",
     "start_time": "2020-07-12T18:50:14.173228Z"
    },
    "scrolled": true
   },
   "outputs": [],
   "source": [
    "df_merged = df_merged.resample(\"B\").ffill()\n",
    "#\"d\" for daily\n",
    "df_merged"
   ]
  },
  {
   "cell_type": "code",
   "execution_count": null,
   "metadata": {
    "ExecuteTime": {
     "end_time": "2020-07-12T18:50:14.467916Z",
     "start_time": "2020-07-12T18:50:14.465375Z"
    }
   },
   "outputs": [],
   "source": [
    "df_merged.index = df_merged.index.rename(\"d\")"
   ]
  },
  {
   "cell_type": "code",
   "execution_count": null,
   "metadata": {
    "ExecuteTime": {
     "end_time": "2020-07-12T18:50:14.682228Z",
     "start_time": "2020-07-12T18:50:14.647112Z"
    }
   },
   "outputs": [],
   "source": [
    "df_merged"
   ]
  },
  {
   "cell_type": "markdown",
   "metadata": {},
   "source": [
    "# Feature Engineering - TBD"
   ]
  },
  {
   "cell_type": "code",
   "execution_count": null,
   "metadata": {},
   "outputs": [],
   "source": []
  },
  {
   "cell_type": "markdown",
   "metadata": {},
   "source": [
    "# Adding more data - TBD: Country/region data"
   ]
  },
  {
   "cell_type": "code",
   "execution_count": null,
   "metadata": {},
   "outputs": [],
   "source": []
  },
  {
   "cell_type": "markdown",
   "metadata": {},
   "source": [
    "## Stock Data Call - Alpha Vantage - TBD: Add more stonks"
   ]
  },
  {
   "cell_type": "code",
   "execution_count": null,
   "metadata": {
    "ExecuteTime": {
     "end_time": "2020-07-12T18:50:15.801421Z",
     "start_time": "2020-07-12T18:50:15.799173Z"
    }
   },
   "outputs": [],
   "source": [
    "# import requests\n",
    "\n",
    "# API_URL = \"https://www.alphavantage.co/query\" \n",
    "# symbol = 'LMT'\n",
    "\n",
    "# data = { \"function\": \"TIME_SERIES_DAILY\", \n",
    "#     \"symbol\": symbol,\n",
    "#     \"outputsize\" : \"full\",\n",
    "#     \"datatype\": \"csv\", \n",
    "#     \"apikey\": apikey } \n",
    "\n",
    "# response = requests.get(API_URL, data)\n",
    "# # response.json()\n",
    "# #LMT"
   ]
  },
  {
   "cell_type": "markdown",
   "metadata": {},
   "source": [
    "# Lockheed Martin Data"
   ]
  },
  {
   "cell_type": "code",
   "execution_count": null,
   "metadata": {
    "ExecuteTime": {
     "end_time": "2020-07-12T18:50:16.403439Z",
     "start_time": "2020-07-12T18:50:16.382931Z"
    },
    "scrolled": true
   },
   "outputs": [],
   "source": [
    "import io\n",
    "import os\n",
    "import csv\n",
    "# urlData = response.content\n",
    "#https://stackoverflow.com/questions/45978295/saving-a-downloaded-csv-file-using-python used\n",
    "\n",
    "# with open('lmt.csv', 'w') as f:\n",
    "#     writer = csv.writer(f)\n",
    "#     for line in response.iter_lines():\n",
    "#         writer.writerow(line.decode('utf-8').split(','))\n",
    "\n",
    "lmt = pd.read_csv(\"lmt.csv\")\n",
    "\n",
    "lmt"
   ]
  },
  {
   "cell_type": "code",
   "execution_count": null,
   "metadata": {
    "ExecuteTime": {
     "end_time": "2020-07-12T18:50:16.502745Z",
     "start_time": "2020-07-12T18:50:16.498696Z"
    }
   },
   "outputs": [],
   "source": [
    "lmt.rename(columns={\"timestamp\":\"d\"},inplace=True)\n"
   ]
  },
  {
   "cell_type": "code",
   "execution_count": null,
   "metadata": {
    "ExecuteTime": {
     "end_time": "2020-07-12T18:50:16.573795Z",
     "start_time": "2020-07-12T18:50:16.570298Z"
    }
   },
   "outputs": [],
   "source": [
    "lmt.index"
   ]
  },
  {
   "cell_type": "code",
   "execution_count": null,
   "metadata": {
    "ExecuteTime": {
     "end_time": "2020-07-12T18:50:16.654809Z",
     "start_time": "2020-07-12T18:50:16.646004Z"
    },
    "scrolled": false
   },
   "outputs": [],
   "source": [
    "lmt = lmt.set_index(pd.to_datetime(lmt['d'])).sort_index()\n",
    "\n",
    "lmt.index"
   ]
  },
  {
   "cell_type": "code",
   "execution_count": null,
   "metadata": {
    "ExecuteTime": {
     "end_time": "2020-07-12T18:50:17.035533Z",
     "start_time": "2020-07-12T18:50:16.742144Z"
    }
   },
   "outputs": [],
   "source": [
    "lmt['close'].plot(style='k.')\n",
    "ax = plt.gca()\n",
    "ax.set_title(\"Lockheed Martin Close Over Time: 2000-2020\")\n",
    "ax.set_xlabel(\"Year\")\n",
    "ax.set_ylabel(\"Closing price\")\n",
    "plt.savefig(\"lmttimeseries20002020.png\")\n",
    "plt.show()"
   ]
  },
  {
   "cell_type": "code",
   "execution_count": null,
   "metadata": {
    "ExecuteTime": {
     "end_time": "2020-07-12T18:50:17.044719Z",
     "start_time": "2020-07-12T18:50:17.037210Z"
    }
   },
   "outputs": [],
   "source": [
    "lmt['close'].describe()"
   ]
  },
  {
   "cell_type": "code",
   "execution_count": null,
   "metadata": {
    "ExecuteTime": {
     "end_time": "2020-07-12T18:50:17.324654Z",
     "start_time": "2020-07-12T18:50:17.046747Z"
    }
   },
   "outputs": [],
   "source": [
    "lmt['close'].hist()"
   ]
  },
  {
   "cell_type": "code",
   "execution_count": null,
   "metadata": {
    "ExecuteTime": {
     "end_time": "2020-07-12T18:50:17.650806Z",
     "start_time": "2020-07-12T18:50:17.326543Z"
    }
   },
   "outputs": [],
   "source": [
    "lmt['close'].plot(kind='kde')"
   ]
  },
  {
   "cell_type": "markdown",
   "metadata": {},
   "source": [
    "## Box and whisker"
   ]
  },
  {
   "cell_type": "code",
   "execution_count": null,
   "metadata": {},
   "outputs": [],
   "source": []
  },
  {
   "cell_type": "markdown",
   "metadata": {},
   "source": [
    "## Time series heat map"
   ]
  },
  {
   "cell_type": "code",
   "execution_count": null,
   "metadata": {},
   "outputs": [],
   "source": []
  },
  {
   "cell_type": "markdown",
   "metadata": {},
   "source": [
    "## Lag plot"
   ]
  },
  {
   "cell_type": "code",
   "execution_count": null,
   "metadata": {},
   "outputs": [],
   "source": []
  },
  {
   "cell_type": "markdown",
   "metadata": {},
   "source": [
    "## PACF ACF Plots"
   ]
  },
  {
   "cell_type": "code",
   "execution_count": null,
   "metadata": {},
   "outputs": [],
   "source": []
  },
  {
   "cell_type": "markdown",
   "metadata": {},
   "source": [
    "## TBD: EDA and Preprocess, Feature Engineering"
   ]
  },
  {
   "cell_type": "code",
   "execution_count": null,
   "metadata": {
    "ExecuteTime": {
     "end_time": "2020-07-12T18:50:17.870090Z",
     "start_time": "2020-07-12T18:50:17.814378Z"
    }
   },
   "outputs": [],
   "source": [
    "stock_regime_df = df_merged['2000-07-07':'2018-12-31']\n",
    "\n",
    "stock_regime_df"
   ]
  },
  {
   "cell_type": "code",
   "execution_count": null,
   "metadata": {
    "ExecuteTime": {
     "end_time": "2020-07-12T18:50:17.926802Z",
     "start_time": "2020-07-12T18:50:17.900016Z"
    }
   },
   "outputs": [],
   "source": [
    "stock_regime_df"
   ]
  },
  {
   "cell_type": "code",
   "execution_count": null,
   "metadata": {
    "ExecuteTime": {
     "end_time": "2020-07-12T18:50:17.985591Z",
     "start_time": "2020-07-12T18:50:17.982903Z"
    }
   },
   "outputs": [],
   "source": [
    "trunc_lmt = lmt.copy()"
   ]
  },
  {
   "cell_type": "code",
   "execution_count": null,
   "metadata": {
    "ExecuteTime": {
     "end_time": "2020-07-12T18:50:18.073439Z",
     "start_time": "2020-07-12T18:50:18.061207Z"
    }
   },
   "outputs": [],
   "source": [
    "trunc_lmt"
   ]
  },
  {
   "cell_type": "code",
   "execution_count": null,
   "metadata": {
    "ExecuteTime": {
     "end_time": "2020-07-12T18:50:18.164674Z",
     "start_time": "2020-07-12T18:50:18.149132Z"
    },
    "scrolled": true
   },
   "outputs": [],
   "source": [
    "trunc_lmt = trunc_lmt['2000-07-07':'2019-01-01']\n",
    "\n",
    "trunc_lmt"
   ]
  },
  {
   "cell_type": "code",
   "execution_count": null,
   "metadata": {
    "ExecuteTime": {
     "end_time": "2020-07-12T18:50:18.233516Z",
     "start_time": "2020-07-12T18:50:18.229144Z"
    }
   },
   "outputs": [],
   "source": [
    "trunc_lmt.index"
   ]
  },
  {
   "cell_type": "markdown",
   "metadata": {},
   "source": [
    "# Merging stock and adverse regime change data"
   ]
  },
  {
   "cell_type": "code",
   "execution_count": null,
   "metadata": {
    "ExecuteTime": {
     "end_time": "2020-07-12T18:50:18.434195Z",
     "start_time": "2020-07-12T18:50:18.398426Z"
    },
    "scrolled": true
   },
   "outputs": [],
   "source": [
    "stonks = pd.merge(trunc_lmt, stock_regime_df, left_index=True, right_index=True)\n",
    "\n",
    "stonks"
   ]
  },
  {
   "cell_type": "code",
   "execution_count": null,
   "metadata": {
    "ExecuteTime": {
     "end_time": "2020-07-12T18:50:18.573985Z",
     "start_time": "2020-07-12T18:50:18.512455Z"
    },
    "scrolled": false
   },
   "outputs": [],
   "source": [
    "stonks.drop('d', axis=1, inplace=True)\n",
    "\n",
    "stonks"
   ]
  },
  {
   "cell_type": "code",
   "execution_count": null,
   "metadata": {
    "ExecuteTime": {
     "end_time": "2020-07-12T18:50:18.579780Z",
     "start_time": "2020-07-12T18:50:18.575889Z"
    },
    "scrolled": true
   },
   "outputs": [],
   "source": [
    "ave_col = [col for col in stonks.columns if 'MAGAVE' in col]\n",
    "\n",
    "ave_col"
   ]
  },
  {
   "cell_type": "code",
   "execution_count": null,
   "metadata": {
    "ExecuteTime": {
     "end_time": "2020-07-12T18:50:18.688720Z",
     "start_time": "2020-07-12T18:50:18.649444Z"
    }
   },
   "outputs": [],
   "source": [
    "stonks['mean_ave'] = stonks[ave_col].mean(axis=1)\n",
    "\n",
    "stonks.head(20)"
   ]
  },
  {
   "cell_type": "code",
   "execution_count": null,
   "metadata": {
    "ExecuteTime": {
     "end_time": "2020-07-12T18:50:19.003275Z",
     "start_time": "2020-07-12T18:50:18.732932Z"
    },
    "scrolled": true
   },
   "outputs": [],
   "source": [
    "stonks['mean_ave'].plot()"
   ]
  },
  {
   "cell_type": "markdown",
   "metadata": {
    "ExecuteTime": {
     "end_time": "2020-07-09T19:50:58.512432Z",
     "start_time": "2020-07-09T19:50:58.510106Z"
    }
   },
   "source": [
    "# EDA of stock data - Lockheed Martin"
   ]
  },
  {
   "cell_type": "code",
   "execution_count": null,
   "metadata": {
    "ExecuteTime": {
     "end_time": "2020-07-12T18:50:19.340974Z",
     "start_time": "2020-07-12T18:50:19.005202Z"
    }
   },
   "outputs": [],
   "source": [
    "stonks.close.rolling(30).mean().plot(label=\"30 Day Interval Rolling Mean\")\n",
    "stonks.close.rolling(30).std().plot(label=\"30 Day Interval Stvd\")\n",
    "stonks.close.plot(label=\"30 Day Interval Close Price\")\n",
    "plt.legend()"
   ]
  },
  {
   "cell_type": "code",
   "execution_count": null,
   "metadata": {
    "ExecuteTime": {
     "end_time": "2020-07-12T18:50:20.511053Z",
     "start_time": "2020-07-12T18:50:19.342917Z"
    },
    "scrolled": false
   },
   "outputs": [],
   "source": [
    "from statsmodels.tsa.seasonal import seasonal_decompose\n",
    "\n",
    "dec = seasonal_decompose(stonks.close, period=365, model='mul')\n",
    "\n",
    "fig= dec.plot()\n",
    "plt.suptitle('Lockheed Martin Stock Data Close Decomposition from 2002-2018, Yearly',horizontalalignment='center', verticalalignment=\"bottom\",fontsize=14)\n",
    "plt.savefig(\"OG_timeseries.png\")\n",
    "plt.tight_layout()\n",
    "plt.show()"
   ]
  },
  {
   "cell_type": "code",
   "execution_count": null,
   "metadata": {
    "ExecuteTime": {
     "end_time": "2020-07-12T18:50:20.701851Z",
     "start_time": "2020-07-12T18:50:20.513209Z"
    }
   },
   "outputs": [],
   "source": [
    "stonks['close']['2014-01-01':'2018-12-31'].plot(figsize=(12,4),ls='-.')\n",
    "plt.show()"
   ]
  },
  {
   "cell_type": "markdown",
   "metadata": {},
   "source": [
    "## TBD: Examine by time slices\n",
    "from statsmodels.graphics.tsaplots import month_plot,quarter_plot"
   ]
  },
  {
   "cell_type": "code",
   "execution_count": null,
   "metadata": {},
   "outputs": [],
   "source": []
  },
  {
   "cell_type": "markdown",
   "metadata": {},
   "source": [
    "## TBD: Smoothing methods plots"
   ]
  },
  {
   "cell_type": "code",
   "execution_count": null,
   "metadata": {},
   "outputs": [],
   "source": []
  },
  {
   "cell_type": "markdown",
   "metadata": {},
   "source": [
    "## TBD: ACF and PACF"
   ]
  },
  {
   "cell_type": "code",
   "execution_count": null,
   "metadata": {},
   "outputs": [],
   "source": []
  },
  {
   "cell_type": "markdown",
   "metadata": {},
   "source": [
    "## Anomaly plotting"
   ]
  },
  {
   "cell_type": "code",
   "execution_count": null,
   "metadata": {
    "ExecuteTime": {
     "end_time": "2020-07-12T18:50:20.996764Z",
     "start_time": "2020-07-12T18:50:20.703304Z"
    },
    "scrolled": false
   },
   "outputs": [],
   "source": [
    "from adtk.visualization import plot\n",
    "\n",
    "close = stonks.close\n",
    "plot(close)"
   ]
  },
  {
   "cell_type": "code",
   "execution_count": null,
   "metadata": {
    "ExecuteTime": {
     "end_time": "2020-07-12T18:50:21.601576Z",
     "start_time": "2020-07-12T18:50:20.999206Z"
    },
    "scrolled": true
   },
   "outputs": [],
   "source": [
    "from adtk.detector import LevelShiftAD\n",
    "level_shift_ad = LevelShiftAD(c=6.0, side='both', window=5)\n",
    "anomalies = level_shift_ad.fit_detect(close)\n",
    "plot(close, anomaly=anomalies, anomaly_color='red');"
   ]
  },
  {
   "cell_type": "code",
   "execution_count": null,
   "metadata": {
    "ExecuteTime": {
     "end_time": "2020-07-12T18:50:24.746280Z",
     "start_time": "2020-07-12T18:50:21.603721Z"
    },
    "scrolled": true
   },
   "outputs": [],
   "source": [
    "from adtk.detector import MinClusterDetector\n",
    "from sklearn.cluster import KMeans\n",
    "min_cluster_detector = MinClusterDetector(KMeans(n_clusters=2))\n",
    "anomalies = min_cluster_detector.fit_detect(stonks[['close','mean_ave']])\n",
    "plot(stonks[['close', 'mean_ave']], anomaly=anomalies, ts_linewidth=1, ts_markersize=3, anomaly_color='red', anomaly_alpha=0.3, curve_group='all')"
   ]
  },
  {
   "cell_type": "markdown",
   "metadata": {},
   "source": [
    "# EDA of merged regime change variables"
   ]
  },
  {
   "cell_type": "code",
   "execution_count": null,
   "metadata": {},
   "outputs": [],
   "source": []
  },
  {
   "cell_type": "markdown",
   "metadata": {},
   "source": [
    "# EDA of Country/Region variables"
   ]
  },
  {
   "cell_type": "code",
   "execution_count": null,
   "metadata": {},
   "outputs": [],
   "source": []
  },
  {
   "cell_type": "code",
   "execution_count": null,
   "metadata": {},
   "outputs": [],
   "source": []
  },
  {
   "cell_type": "markdown",
   "metadata": {},
   "source": [
    "# Time Series Correlations"
   ]
  },
  {
   "cell_type": "code",
   "execution_count": null,
   "metadata": {},
   "outputs": [],
   "source": []
  },
  {
   "cell_type": "markdown",
   "metadata": {},
   "source": [
    "## Visual spot check"
   ]
  },
  {
   "cell_type": "code",
   "execution_count": null,
   "metadata": {},
   "outputs": [],
   "source": []
  },
  {
   "cell_type": "markdown",
   "metadata": {},
   "source": [
    "## Pearson and Spearman Correlation Comparisons"
   ]
  },
  {
   "cell_type": "code",
   "execution_count": null,
   "metadata": {},
   "outputs": [],
   "source": []
  },
  {
   "cell_type": "markdown",
   "metadata": {},
   "source": [
    "### Matrices and Maps"
   ]
  },
  {
   "cell_type": "code",
   "execution_count": null,
   "metadata": {},
   "outputs": [],
   "source": []
  },
  {
   "cell_type": "markdown",
   "metadata": {},
   "source": [
    "# Modeling, Forecasting and comparisons"
   ]
  },
  {
   "cell_type": "code",
   "execution_count": null,
   "metadata": {},
   "outputs": [],
   "source": []
  },
  {
   "cell_type": "markdown",
   "metadata": {
    "ExecuteTime": {
     "end_time": "2020-07-10T01:20:32.872994Z",
     "start_time": "2020-07-10T01:20:32.870949Z"
    }
   },
   "source": [
    "## Off moving averages naively"
   ]
  },
  {
   "cell_type": "code",
   "execution_count": null,
   "metadata": {},
   "outputs": [],
   "source": []
  },
  {
   "cell_type": "markdown",
   "metadata": {
    "ExecuteTime": {
     "end_time": "2020-07-10T01:31:59.520439Z",
     "start_time": "2020-07-10T01:31:59.518101Z"
    }
   },
   "source": [
    "## Dealing with stationarity - differencing and lagging, Augmented Dickey-Fuller"
   ]
  },
  {
   "cell_type": "code",
   "execution_count": null,
   "metadata": {},
   "outputs": [],
   "source": []
  },
  {
   "cell_type": "markdown",
   "metadata": {
    "ExecuteTime": {
     "end_time": "2020-07-10T01:32:05.575545Z",
     "start_time": "2020-07-10T01:32:05.573475Z"
    }
   },
   "source": [
    "## Granger Causality"
   ]
  },
  {
   "cell_type": "code",
   "execution_count": null,
   "metadata": {},
   "outputs": [],
   "source": []
  },
  {
   "cell_type": "markdown",
   "metadata": {},
   "source": [
    "## ARIMA Modeling"
   ]
  },
  {
   "cell_type": "code",
   "execution_count": null,
   "metadata": {},
   "outputs": [],
   "source": []
  },
  {
   "cell_type": "markdown",
   "metadata": {},
   "source": [
    "## VAR, VARIMA, VARIMAX(?)"
   ]
  },
  {
   "cell_type": "code",
   "execution_count": null,
   "metadata": {},
   "outputs": [],
   "source": []
  },
  {
   "cell_type": "markdown",
   "metadata": {},
   "source": [
    "## Monte Carlos"
   ]
  },
  {
   "cell_type": "code",
   "execution_count": null,
   "metadata": {},
   "outputs": [],
   "source": []
  },
  {
   "cell_type": "markdown",
   "metadata": {},
   "source": [
    "## Prophet"
   ]
  },
  {
   "cell_type": "code",
   "execution_count": null,
   "metadata": {},
   "outputs": [],
   "source": []
  },
  {
   "cell_type": "markdown",
   "metadata": {},
   "source": [
    "# Framing as a supervised learning problem"
   ]
  },
  {
   "cell_type": "code",
   "execution_count": null,
   "metadata": {},
   "outputs": [],
   "source": []
  },
  {
   "cell_type": "code",
   "execution_count": null,
   "metadata": {},
   "outputs": [],
   "source": []
  },
  {
   "cell_type": "markdown",
   "metadata": {},
   "source": [
    "# Finally: Deep Learning with LSTMs, Embedding of Entities, Autoencoders for Anomaly Detection, Markov Models"
   ]
  },
  {
   "cell_type": "code",
   "execution_count": null,
   "metadata": {},
   "outputs": [],
   "source": []
  },
  {
   "cell_type": "code",
   "execution_count": null,
   "metadata": {},
   "outputs": [],
   "source": []
  },
  {
   "cell_type": "markdown",
   "metadata": {},
   "source": [
    "# Appendix: Financial Techniques- Portfolio Allocation, etc."
   ]
  },
  {
   "cell_type": "code",
   "execution_count": null,
   "metadata": {},
   "outputs": [],
   "source": []
  },
  {
   "cell_type": "code",
   "execution_count": null,
   "metadata": {},
   "outputs": [],
   "source": []
  },
  {
   "cell_type": "markdown",
   "metadata": {},
   "source": [
    "# Geographical plotting test - just the most turbulent year\n",
    "- Code adapted from https://medium.com/datadriveninvestor/visualising-geospatial-data-with-python-d3b1c519f31"
   ]
  },
  {
   "cell_type": "code",
   "execution_count": null,
   "metadata": {
    "ExecuteTime": {
     "end_time": "2020-07-12T18:49:57.297914Z",
     "start_time": "2020-07-12T18:49:55.023Z"
    }
   },
   "outputs": [],
   "source": [
    "# import folium\n",
    "# import pandas as pd\n",
    "# #Setting up the country co-ordinates\n",
    "# country_geo = 'world-countries.json'"
   ]
  },
  {
   "cell_type": "code",
   "execution_count": null,
   "metadata": {
    "ExecuteTime": {
     "end_time": "2020-07-12T18:49:57.298983Z",
     "start_time": "2020-07-12T18:49:55.028Z"
    },
    "scrolled": true
   },
   "outputs": [],
   "source": [
    "# #looking for most common year to plot\n",
    "# df.YEAR.value_counts()"
   ]
  },
  {
   "cell_type": "code",
   "execution_count": null,
   "metadata": {
    "ExecuteTime": {
     "end_time": "2020-07-12T18:49:57.300012Z",
     "start_time": "2020-07-12T18:49:55.034Z"
    }
   },
   "outputs": [],
   "source": [
    "# crisis_year = 1996\n",
    "\n",
    "# mask = df['YEAR'].isin([crisis_year])\n",
    "\n",
    "# # apply our mask\n",
    "# stage = df[mask]\n",
    "# stage.head()"
   ]
  },
  {
   "cell_type": "code",
   "execution_count": null,
   "metadata": {
    "ExecuteTime": {
     "end_time": "2020-07-12T18:49:57.300970Z",
     "start_time": "2020-07-12T18:49:55.039Z"
    },
    "scrolled": true
   },
   "outputs": [],
   "source": [
    "# #Creating a data frame with just the country codes and the values we want plotted.\n",
    "# data_to_plot = stage[['SCODE','MAGVIOL']]\n",
    "# data_to_plot.head()"
   ]
  },
  {
   "cell_type": "code",
   "execution_count": null,
   "metadata": {
    "ExecuteTime": {
     "end_time": "2020-07-12T18:49:57.301949Z",
     "start_time": "2020-07-12T18:49:55.045Z"
    }
   },
   "outputs": [],
   "source": [
    "# # Setup a folium map at a high-level zoom \n",
    "# map = folium.Map(location=[50, 0], zoom_start=1.25)\n",
    "\n",
    "# # choropleth maps bind Pandas Data Frames and json geometries. \n",
    "# #This allows us to quickly visualize data combinations\n",
    "# map.choropleth(geo_data=country_geo, data=data_to_plot,\n",
    "#              columns=['SCODE', 'MAGVIOL'],\n",
    "#              key_on='feature.id',\n",
    "#              fill_color='BuPu', fill_opacity=0.7, line_opacity=0.2,\n",
    "#              legend_name='Magnitude of Violence out of 4 involved in Adverse Regime Change Event')\n",
    "\n",
    "# map.save('index.html')\n",
    "# # Import the Folium interactive html file\n",
    "\n",
    "\n",
    "# from IPython.display import HTML\n",
    "# HTML('<iframe src=index.html width=700 height=450></iframe>')"
   ]
  },
  {
   "cell_type": "markdown",
   "metadata": {
    "ExecuteTime": {
     "end_time": "2020-07-05T04:33:04.710791Z",
     "start_time": "2020-07-05T04:33:04.708305Z"
    }
   },
   "source": [
    "# Survival analysis - TO DO: By country/region\n",
    "## First converting time_begin and time_end to accepted Lifelines format"
   ]
  },
  {
   "cell_type": "code",
   "execution_count": null,
   "metadata": {
    "ExecuteTime": {
     "end_time": "2020-07-12T18:49:57.303018Z",
     "start_time": "2020-07-12T18:49:55.050Z"
    },
    "scrolled": true
   },
   "outputs": [],
   "source": [
    "# from lifelines.utils import datetimes_to_durations\n",
    "\n",
    "# start_dates = dum_df['time_begin'].to_list()\n",
    "# end_dates = dum_df['time_end'].to_list()\n",
    "\n",
    "# T, E = datetimes_to_durations(start_dates, end_dates, freq=\"M\")"
   ]
  },
  {
   "cell_type": "code",
   "execution_count": null,
   "metadata": {
    "ExecuteTime": {
     "end_time": "2020-07-12T18:49:57.304021Z",
     "start_time": "2020-07-12T18:49:55.056Z"
    },
    "scrolled": true
   },
   "outputs": [],
   "source": [
    "# start_dates"
   ]
  },
  {
   "cell_type": "code",
   "execution_count": null,
   "metadata": {
    "ExecuteTime": {
     "end_time": "2020-07-12T18:49:57.305015Z",
     "start_time": "2020-07-12T18:49:55.063Z"
    }
   },
   "outputs": [],
   "source": [
    "# end_dates"
   ]
  },
  {
   "cell_type": "markdown",
   "metadata": {},
   "source": [
    "## Kaplan Meier Fitter\n",
    "- Estimate of the survival function, taking T as a random lifetime taken from population under study (time a couple is married, user time to enter a webpage - an infinite time if a user never does, etc.) that defines the probability of surviving past T\n",
    "    - http://en.wikipedia.org/wiki/Kaplan%E2%80%93Meier_estimator"
   ]
  },
  {
   "cell_type": "code",
   "execution_count": null,
   "metadata": {
    "ExecuteTime": {
     "end_time": "2020-07-12T18:49:57.306102Z",
     "start_time": "2020-07-12T18:49:55.069Z"
    }
   },
   "outputs": [],
   "source": [
    "# from lifelines import KaplanMeierFitter\n",
    "# kmf = KaplanMeierFitter()\n",
    "# kmf.fit(T, event_observed=E)"
   ]
  },
  {
   "cell_type": "markdown",
   "metadata": {},
   "source": [
    "### Plotting results in months"
   ]
  },
  {
   "cell_type": "code",
   "execution_count": null,
   "metadata": {
    "ExecuteTime": {
     "end_time": "2020-07-12T18:49:57.307058Z",
     "start_time": "2020-07-12T18:49:55.075Z"
    }
   },
   "outputs": [],
   "source": [
    "# kmf.survival_function_.plot()"
   ]
  },
  {
   "cell_type": "markdown",
   "metadata": {},
   "source": [
    "- With confidence intervals"
   ]
  },
  {
   "cell_type": "code",
   "execution_count": null,
   "metadata": {
    "ExecuteTime": {
     "end_time": "2020-07-12T18:49:57.308002Z",
     "start_time": "2020-07-12T18:49:55.081Z"
    },
    "scrolled": true
   },
   "outputs": [],
   "source": [
    "# kmf.plot()\n",
    "# plt.savefig(\"kmf_conf_plot.png\")\n",
    "# plt.show()"
   ]
  },
  {
   "cell_type": "markdown",
   "metadata": {},
   "source": [
    "- Time at which 50% of regime changes will have ended"
   ]
  },
  {
   "cell_type": "code",
   "execution_count": null,
   "metadata": {
    "ExecuteTime": {
     "end_time": "2020-07-12T18:49:57.308953Z",
     "start_time": "2020-07-12T18:49:55.087Z"
    }
   },
   "outputs": [],
   "source": [
    "# kmf.median_survival_time_"
   ]
  },
  {
   "cell_type": "markdown",
   "metadata": {},
   "source": [
    "## NelsonAalenFitter for cumulative hazard function"
   ]
  },
  {
   "cell_type": "code",
   "execution_count": null,
   "metadata": {
    "ExecuteTime": {
     "end_time": "2020-07-12T18:49:57.309862Z",
     "start_time": "2020-07-12T18:49:55.093Z"
    }
   },
   "outputs": [],
   "source": [
    "# from lifelines import NelsonAalenFitter\n",
    "# naf = NelsonAalenFitter()\n",
    "\n",
    "# naf.fit(T,event_observed=E)"
   ]
  },
  {
   "cell_type": "code",
   "execution_count": null,
   "metadata": {
    "ExecuteTime": {
     "end_time": "2020-07-12T18:49:57.310896Z",
     "start_time": "2020-07-12T18:49:55.098Z"
    }
   },
   "outputs": [],
   "source": [
    "# print(naf.cumulative_hazard_.head())\n",
    "# naf.plot()"
   ]
  },
  {
   "cell_type": "markdown",
   "metadata": {},
   "source": [
    "# TO DO: implementing right/left censorship of birth/death events via. groupby country and time resampling"
   ]
  },
  {
   "cell_type": "markdown",
   "metadata": {},
   "source": [
    "# Geographic plotting"
   ]
  },
  {
   "cell_type": "code",
   "execution_count": null,
   "metadata": {
    "ExecuteTime": {
     "end_time": "2020-07-12T18:49:57.311833Z",
     "start_time": "2020-07-12T18:49:55.105Z"
    }
   },
   "outputs": [],
   "source": [
    "# it is a surprise tool that will be useful later meme goes here\n",
    "# from folium.plugins import TimeSliderChoropleth"
   ]
  }
 ],
 "metadata": {
  "kernelspec": {
   "display_name": "Python [conda env:learn-env] *",
   "language": "python",
   "name": "conda-env-learn-env-py"
  },
  "language_info": {
   "codemirror_mode": {
    "name": "ipython",
    "version": 3
   },
   "file_extension": ".py",
   "mimetype": "text/x-python",
   "name": "python",
   "nbconvert_exporter": "python",
   "pygments_lexer": "ipython3",
   "version": "3.6.9"
  },
  "toc": {
   "base_numbering": 1,
   "nav_menu": {},
   "number_sections": true,
   "sideBar": true,
   "skip_h1_title": false,
   "title_cell": "Table of Contents",
   "title_sidebar": "Contents",
   "toc_cell": true,
   "toc_position": {},
   "toc_section_display": true,
   "toc_window_display": true
  }
 },
 "nbformat": 4,
 "nbformat_minor": 2
}
